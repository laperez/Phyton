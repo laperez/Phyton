{
  "nbformat": 4,
  "nbformat_minor": 0,
  "metadata": {
    "colab": {
      "name": "Sesion_04_Iniciacion a Matplotlib y Bokeh.ipynb",
      "provenance": [],
      "collapsed_sections": [],
      "include_colab_link": true
    },
    "kernelspec": {
      "name": "python3",
      "display_name": "Python 3"
    }
  },
  "cells": [
    {
      "cell_type": "markdown",
      "metadata": {
        "id": "view-in-github",
        "colab_type": "text"
      },
      "source": [
        "<a href=\"https://colab.research.google.com/github/laperez/Phyton/blob/master/Sesion_04_Iniciacion_a_Matplotlib_y_Bokeh.ipynb\" target=\"_parent\"><img src=\"https://colab.research.google.com/assets/colab-badge.svg\" alt=\"Open In Colab\"/></a>"
      ]
    },
    {
      "cell_type": "markdown",
      "metadata": {
        "id": "sQNCGMPdQPpM",
        "colab_type": "text"
      },
      "source": [
        "![Enlace](https://drive.google.com/uc?export=view&id=1N_Cf8b0OVNbFMd5lmNvlhY98X6liuTZh)"
      ]
    },
    {
      "cell_type": "markdown",
      "metadata": {
        "id": "IA6dPfCa_xR1",
        "colab_type": "text"
      },
      "source": [
        "**Contenido:**\n",
        "\n",
        "\n",
        "1. Matplotlib\n",
        "2. Bokeh\n",
        "3. Ejercicio\n",
        "\n"
      ]
    },
    {
      "cell_type": "markdown",
      "metadata": {
        "id": "5UwqwjHcNW1Z",
        "colab_type": "text"
      },
      "source": [
        "# **Matplotlib**"
      ]
    },
    {
      "cell_type": "markdown",
      "metadata": {
        "id": "Wl_f5HTGNSZc",
        "colab_type": "text"
      },
      "source": [
        "Matplotlib es la librería de representación gráfica básica dentro de Python.\n",
        "\n",
        "La web principal de la librería es:\n",
        "https://matplotlib.org/#\n",
        "\n",
        "La dirección para consulta de la API está en:\n",
        "https://matplotlib.org/api/index.html\n",
        "\n",
        "La guía de usuario (que puede descargarse en PDF) se encuentra en:\n",
        "https://matplotlib.org/users/index.html (https://matplotlib.org/Matplotlib.pdf)\n",
        "\n",
        "Una cheat sheet (versión resumida para consulta de funcionalidades aparece en):\n",
        "https://s3.amazonaws.com/assets.datacamp.com/blog_assets/Python_Matplotlib_Cheat_Sheet.pdf\n",
        "\n",
        "Libro Matplotlib Mastering:\n",
        "https://buscaenbuja.ujaen.es/permalink/34CBUA_UJA/df6b9e/alma991003847611604994\n",
        "\n",
        "Libro Matplotlib cookbook:\n",
        "https://buscaenbuja.ujaen.es/permalink/34CBUA_UJA/df6b9e/alma991004029093004994\n",
        "\n"
      ]
    },
    {
      "cell_type": "markdown",
      "metadata": {
        "id": "gMGl7KmtQkNB",
        "colab_type": "text"
      },
      "source": [
        "## Importación de matplotlib"
      ]
    },
    {
      "cell_type": "code",
      "metadata": {
        "id": "hhPURlOPLIWk",
        "colab_type": "code",
        "colab": {}
      },
      "source": [
        "#\n",
        "# Matplotlib tiene una importación algo diferente. La clase fundamental no está\n",
        "# en el paquete raíz.\n",
        "# De forma general siempre se utiliza un álias para simplificar el acceso\n",
        "#\n",
        "# Matplotlib\n",
        "import matplotlib.pyplot as plt"
      ],
      "execution_count": null,
      "outputs": []
    },
    {
      "cell_type": "markdown",
      "metadata": {
        "id": "WhDI4naFQpv_",
        "colab_type": "text"
      },
      "source": [
        "## Importación de los accesos a Google Drive para lectura/grabación"
      ]
    },
    {
      "cell_type": "code",
      "metadata": {
        "id": "zAEE4f9oOYdg",
        "colab_type": "code",
        "colab": {
          "base_uri": "https://localhost:8080/",
          "height": 122
        },
        "outputId": "042b7414-063f-4ec8-cb7d-3bbdf5649eea"
      },
      "source": [
        "# Conexión de archivos con Google drive\n",
        "from google.colab import drive\n",
        "# Montaje de la unidad (el directorio indica el punto de montaje y siempre será '/content/...')\n",
        "drive.mount('/content/drive', force_remount=True)\n",
        "# Además vamos a poner el directorio por defecto para el resto del notebook\n",
        "dirDef = '/content/drive/My Drive/CursoPythonCEATIC/Curso2020/20200707_0900_Introduccion_a_Pandas/'"
      ],
      "execution_count": null,
      "outputs": [
        {
          "output_type": "stream",
          "text": [
            "Go to this URL in a browser: https://accounts.google.com/o/oauth2/auth?client_id=947318989803-6bn6qk8qdgf4n4g3pfee6491hc0brc4i.apps.googleusercontent.com&redirect_uri=urn%3aietf%3awg%3aoauth%3a2.0%3aoob&response_type=code&scope=email%20https%3a%2f%2fwww.googleapis.com%2fauth%2fdocs.test%20https%3a%2f%2fwww.googleapis.com%2fauth%2fdrive%20https%3a%2f%2fwww.googleapis.com%2fauth%2fdrive.photos.readonly%20https%3a%2f%2fwww.googleapis.com%2fauth%2fpeopleapi.readonly\n",
            "\n",
            "Enter your authorization code:\n",
            "··········\n",
            "Mounted at /content/drive\n"
          ],
          "name": "stdout"
        }
      ]
    },
    {
      "cell_type": "markdown",
      "metadata": {
        "id": "Y7MM8FpPQxf0",
        "colab_type": "text"
      },
      "source": [
        "## Lectura de la información\n",
        "Vamos a usar los datos del ejemplo de Pandas junto con los datos de la Carta Digital del Mundo"
      ]
    },
    {
      "cell_type": "code",
      "metadata": {
        "id": "RJ6FPXNCFqX0",
        "colab_type": "code",
        "colab": {
          "base_uri": "https://localhost:8080/",
          "height": 589
        },
        "outputId": "ce188f9e-5602-4290-99b5-12b3bba92fa3"
      },
      "source": [
        "# Vamos a cargar los datos, unirlos, crear un campo de fecha con el tipo de clase\n",
        "# adecuada y luego filtraremos para dejar sólo algunas de las columnas\n",
        "import pandas as pd\n",
        "# Preparación:\n",
        "# Leemos los datos de ambas tablas y las unimos\n",
        "# Creamos el campo de la fecha\n",
        "# Dejamos sólo algunos de los campos, concretamente:\n",
        "# fecha, cases, deaths, countriesAndTerritories, geoId, countryterritoryCode, popData2019, continentExp, Longitude, Latitude, economy, income_grp, gdp_year, gdp_md_est\n",
        "datosCSV = pd.read_csv(dirDef + 'COVID-19_opendata_ecdc_europa_20200704.csv')\n",
        "paises = pd.read_excel(dirDef + 'country_centroids_az8.xls')\n",
        "datosCSV['fecha'] = datosCSV.apply(lambda f: pd.Timestamp(f['year'], f['month'], f['day']), axis=1)\n",
        "datosCSVP = pd.merge(datosCSV, paises, how='left', left_on='countryterritoryCode', right_on='iso_a3')\n",
        "datosCSVPF = datosCSVP[['fecha', 'cases', 'deaths', 'countriesAndTerritories', 'geoId', 'countryterritoryCode', 'popData2019', 'continentExp', 'Longitude', 'Latitude', 'economy', 'income_grp', 'gdp_year', 'gdp_md_est']]\n",
        "datosCSVPF"
      ],
      "execution_count": null,
      "outputs": [
        {
          "output_type": "execute_result",
          "data": {
            "text/html": [
              "<div>\n",
              "<style scoped>\n",
              "    .dataframe tbody tr th:only-of-type {\n",
              "        vertical-align: middle;\n",
              "    }\n",
              "\n",
              "    .dataframe tbody tr th {\n",
              "        vertical-align: top;\n",
              "    }\n",
              "\n",
              "    .dataframe thead th {\n",
              "        text-align: right;\n",
              "    }\n",
              "</style>\n",
              "<table border=\"1\" class=\"dataframe\">\n",
              "  <thead>\n",
              "    <tr style=\"text-align: right;\">\n",
              "      <th></th>\n",
              "      <th>fecha</th>\n",
              "      <th>cases</th>\n",
              "      <th>deaths</th>\n",
              "      <th>countriesAndTerritories</th>\n",
              "      <th>geoId</th>\n",
              "      <th>countryterritoryCode</th>\n",
              "      <th>popData2019</th>\n",
              "      <th>continentExp</th>\n",
              "      <th>Longitude</th>\n",
              "      <th>Latitude</th>\n",
              "      <th>economy</th>\n",
              "      <th>income_grp</th>\n",
              "      <th>gdp_year</th>\n",
              "      <th>gdp_md_est</th>\n",
              "    </tr>\n",
              "  </thead>\n",
              "  <tbody>\n",
              "    <tr>\n",
              "      <th>0</th>\n",
              "      <td>2020-07-04</td>\n",
              "      <td>302</td>\n",
              "      <td>12</td>\n",
              "      <td>Afghanistan</td>\n",
              "      <td>AF</td>\n",
              "      <td>AFG</td>\n",
              "      <td>38041757.0</td>\n",
              "      <td>Asia</td>\n",
              "      <td>66.004734</td>\n",
              "      <td>33.835231</td>\n",
              "      <td>7. Least developed region</td>\n",
              "      <td>5. Low income</td>\n",
              "      <td>-99.0</td>\n",
              "      <td>22270.0</td>\n",
              "    </tr>\n",
              "    <tr>\n",
              "      <th>1</th>\n",
              "      <td>2020-07-03</td>\n",
              "      <td>186</td>\n",
              "      <td>33</td>\n",
              "      <td>Afghanistan</td>\n",
              "      <td>AF</td>\n",
              "      <td>AFG</td>\n",
              "      <td>38041757.0</td>\n",
              "      <td>Asia</td>\n",
              "      <td>66.004734</td>\n",
              "      <td>33.835231</td>\n",
              "      <td>7. Least developed region</td>\n",
              "      <td>5. Low income</td>\n",
              "      <td>-99.0</td>\n",
              "      <td>22270.0</td>\n",
              "    </tr>\n",
              "    <tr>\n",
              "      <th>2</th>\n",
              "      <td>2020-07-02</td>\n",
              "      <td>319</td>\n",
              "      <td>28</td>\n",
              "      <td>Afghanistan</td>\n",
              "      <td>AF</td>\n",
              "      <td>AFG</td>\n",
              "      <td>38041757.0</td>\n",
              "      <td>Asia</td>\n",
              "      <td>66.004734</td>\n",
              "      <td>33.835231</td>\n",
              "      <td>7. Least developed region</td>\n",
              "      <td>5. Low income</td>\n",
              "      <td>-99.0</td>\n",
              "      <td>22270.0</td>\n",
              "    </tr>\n",
              "    <tr>\n",
              "      <th>3</th>\n",
              "      <td>2020-07-01</td>\n",
              "      <td>279</td>\n",
              "      <td>13</td>\n",
              "      <td>Afghanistan</td>\n",
              "      <td>AF</td>\n",
              "      <td>AFG</td>\n",
              "      <td>38041757.0</td>\n",
              "      <td>Asia</td>\n",
              "      <td>66.004734</td>\n",
              "      <td>33.835231</td>\n",
              "      <td>7. Least developed region</td>\n",
              "      <td>5. Low income</td>\n",
              "      <td>-99.0</td>\n",
              "      <td>22270.0</td>\n",
              "    </tr>\n",
              "    <tr>\n",
              "      <th>4</th>\n",
              "      <td>2020-06-30</td>\n",
              "      <td>271</td>\n",
              "      <td>12</td>\n",
              "      <td>Afghanistan</td>\n",
              "      <td>AF</td>\n",
              "      <td>AFG</td>\n",
              "      <td>38041757.0</td>\n",
              "      <td>Asia</td>\n",
              "      <td>66.004734</td>\n",
              "      <td>33.835231</td>\n",
              "      <td>7. Least developed region</td>\n",
              "      <td>5. Low income</td>\n",
              "      <td>-99.0</td>\n",
              "      <td>22270.0</td>\n",
              "    </tr>\n",
              "    <tr>\n",
              "      <th>...</th>\n",
              "      <td>...</td>\n",
              "      <td>...</td>\n",
              "      <td>...</td>\n",
              "      <td>...</td>\n",
              "      <td>...</td>\n",
              "      <td>...</td>\n",
              "      <td>...</td>\n",
              "      <td>...</td>\n",
              "      <td>...</td>\n",
              "      <td>...</td>\n",
              "      <td>...</td>\n",
              "      <td>...</td>\n",
              "      <td>...</td>\n",
              "      <td>...</td>\n",
              "    </tr>\n",
              "    <tr>\n",
              "      <th>27617</th>\n",
              "      <td>2020-03-25</td>\n",
              "      <td>0</td>\n",
              "      <td>0</td>\n",
              "      <td>Zimbabwe</td>\n",
              "      <td>ZW</td>\n",
              "      <td>ZWE</td>\n",
              "      <td>14645473.0</td>\n",
              "      <td>Africa</td>\n",
              "      <td>29.851441</td>\n",
              "      <td>-19.004204</td>\n",
              "      <td>5. Emerging region: G20</td>\n",
              "      <td>5. Low income</td>\n",
              "      <td>0.0</td>\n",
              "      <td>9323.0</td>\n",
              "    </tr>\n",
              "    <tr>\n",
              "      <th>27618</th>\n",
              "      <td>2020-03-24</td>\n",
              "      <td>0</td>\n",
              "      <td>1</td>\n",
              "      <td>Zimbabwe</td>\n",
              "      <td>ZW</td>\n",
              "      <td>ZWE</td>\n",
              "      <td>14645473.0</td>\n",
              "      <td>Africa</td>\n",
              "      <td>29.851441</td>\n",
              "      <td>-19.004204</td>\n",
              "      <td>5. Emerging region: G20</td>\n",
              "      <td>5. Low income</td>\n",
              "      <td>0.0</td>\n",
              "      <td>9323.0</td>\n",
              "    </tr>\n",
              "    <tr>\n",
              "      <th>27619</th>\n",
              "      <td>2020-03-23</td>\n",
              "      <td>0</td>\n",
              "      <td>0</td>\n",
              "      <td>Zimbabwe</td>\n",
              "      <td>ZW</td>\n",
              "      <td>ZWE</td>\n",
              "      <td>14645473.0</td>\n",
              "      <td>Africa</td>\n",
              "      <td>29.851441</td>\n",
              "      <td>-19.004204</td>\n",
              "      <td>5. Emerging region: G20</td>\n",
              "      <td>5. Low income</td>\n",
              "      <td>0.0</td>\n",
              "      <td>9323.0</td>\n",
              "    </tr>\n",
              "    <tr>\n",
              "      <th>27620</th>\n",
              "      <td>2020-03-22</td>\n",
              "      <td>1</td>\n",
              "      <td>0</td>\n",
              "      <td>Zimbabwe</td>\n",
              "      <td>ZW</td>\n",
              "      <td>ZWE</td>\n",
              "      <td>14645473.0</td>\n",
              "      <td>Africa</td>\n",
              "      <td>29.851441</td>\n",
              "      <td>-19.004204</td>\n",
              "      <td>5. Emerging region: G20</td>\n",
              "      <td>5. Low income</td>\n",
              "      <td>0.0</td>\n",
              "      <td>9323.0</td>\n",
              "    </tr>\n",
              "    <tr>\n",
              "      <th>27621</th>\n",
              "      <td>2020-03-21</td>\n",
              "      <td>1</td>\n",
              "      <td>0</td>\n",
              "      <td>Zimbabwe</td>\n",
              "      <td>ZW</td>\n",
              "      <td>ZWE</td>\n",
              "      <td>14645473.0</td>\n",
              "      <td>Africa</td>\n",
              "      <td>29.851441</td>\n",
              "      <td>-19.004204</td>\n",
              "      <td>5. Emerging region: G20</td>\n",
              "      <td>5. Low income</td>\n",
              "      <td>0.0</td>\n",
              "      <td>9323.0</td>\n",
              "    </tr>\n",
              "  </tbody>\n",
              "</table>\n",
              "<p>27622 rows × 14 columns</p>\n",
              "</div>"
            ],
            "text/plain": [
              "           fecha  cases  deaths  ...     income_grp gdp_year gdp_md_est\n",
              "0     2020-07-04    302      12  ...  5. Low income    -99.0    22270.0\n",
              "1     2020-07-03    186      33  ...  5. Low income    -99.0    22270.0\n",
              "2     2020-07-02    319      28  ...  5. Low income    -99.0    22270.0\n",
              "3     2020-07-01    279      13  ...  5. Low income    -99.0    22270.0\n",
              "4     2020-06-30    271      12  ...  5. Low income    -99.0    22270.0\n",
              "...          ...    ...     ...  ...            ...      ...        ...\n",
              "27617 2020-03-25      0       0  ...  5. Low income      0.0     9323.0\n",
              "27618 2020-03-24      0       1  ...  5. Low income      0.0     9323.0\n",
              "27619 2020-03-23      0       0  ...  5. Low income      0.0     9323.0\n",
              "27620 2020-03-22      1       0  ...  5. Low income      0.0     9323.0\n",
              "27621 2020-03-21      1       0  ...  5. Low income      0.0     9323.0\n",
              "\n",
              "[27622 rows x 14 columns]"
            ]
          },
          "metadata": {
            "tags": []
          },
          "execution_count": 10
        }
      ]
    },
    {
      "cell_type": "code",
      "metadata": {
        "id": "KVmgcqnyICjm",
        "colab_type": "code",
        "colab": {
          "base_uri": "https://localhost:8080/",
          "height": 654
        },
        "outputId": "fe534c0d-d372-4595-c7a4-0c9d1d274198"
      },
      "source": [
        "# Recordatorio (creación de multiíndices y eliminación)\n",
        "# Crear multiindex por Continente y País. Luego acceder a las filas de China en Asia\n",
        "temp_datosCSVPF = datosCSVPF.set_index(['continentExp', 'countriesAndTerritories'])\n",
        "temp_datosCSVPF.loc['Asia','China']"
      ],
      "execution_count": null,
      "outputs": [
        {
          "output_type": "stream",
          "text": [
            "/usr/local/lib/python3.6/dist-packages/ipykernel_launcher.py:4: PerformanceWarning: indexing past lexsort depth may impact performance.\n",
            "  after removing the cwd from sys.path.\n"
          ],
          "name": "stderr"
        },
        {
          "output_type": "execute_result",
          "data": {
            "text/html": [
              "<div>\n",
              "<style scoped>\n",
              "    .dataframe tbody tr th:only-of-type {\n",
              "        vertical-align: middle;\n",
              "    }\n",
              "\n",
              "    .dataframe tbody tr th {\n",
              "        vertical-align: top;\n",
              "    }\n",
              "\n",
              "    .dataframe thead th {\n",
              "        text-align: right;\n",
              "    }\n",
              "</style>\n",
              "<table border=\"1\" class=\"dataframe\">\n",
              "  <thead>\n",
              "    <tr style=\"text-align: right;\">\n",
              "      <th></th>\n",
              "      <th></th>\n",
              "      <th>fecha</th>\n",
              "      <th>cases</th>\n",
              "      <th>deaths</th>\n",
              "      <th>geoId</th>\n",
              "      <th>countryterritoryCode</th>\n",
              "      <th>popData2019</th>\n",
              "      <th>Longitude</th>\n",
              "      <th>Latitude</th>\n",
              "      <th>economy</th>\n",
              "      <th>income_grp</th>\n",
              "      <th>gdp_year</th>\n",
              "      <th>gdp_md_est</th>\n",
              "    </tr>\n",
              "    <tr>\n",
              "      <th>continentExp</th>\n",
              "      <th>countriesAndTerritories</th>\n",
              "      <th></th>\n",
              "      <th></th>\n",
              "      <th></th>\n",
              "      <th></th>\n",
              "      <th></th>\n",
              "      <th></th>\n",
              "      <th></th>\n",
              "      <th></th>\n",
              "      <th></th>\n",
              "      <th></th>\n",
              "      <th></th>\n",
              "      <th></th>\n",
              "    </tr>\n",
              "  </thead>\n",
              "  <tbody>\n",
              "    <tr>\n",
              "      <th rowspan=\"11\" valign=\"top\">Asia</th>\n",
              "      <th>China</th>\n",
              "      <td>2020-07-04</td>\n",
              "      <td>9</td>\n",
              "      <td>0</td>\n",
              "      <td>CN</td>\n",
              "      <td>CHN</td>\n",
              "      <td>1.433784e+09</td>\n",
              "      <td>103.819073</td>\n",
              "      <td>36.561765</td>\n",
              "      <td>3. Emerging region: BRIC</td>\n",
              "      <td>3. Upper middle income</td>\n",
              "      <td>-99.0</td>\n",
              "      <td>7973000.0</td>\n",
              "    </tr>\n",
              "    <tr>\n",
              "      <th>China</th>\n",
              "      <td>2020-07-03</td>\n",
              "      <td>14</td>\n",
              "      <td>0</td>\n",
              "      <td>CN</td>\n",
              "      <td>CHN</td>\n",
              "      <td>1.433784e+09</td>\n",
              "      <td>103.819073</td>\n",
              "      <td>36.561765</td>\n",
              "      <td>3. Emerging region: BRIC</td>\n",
              "      <td>3. Upper middle income</td>\n",
              "      <td>-99.0</td>\n",
              "      <td>7973000.0</td>\n",
              "    </tr>\n",
              "    <tr>\n",
              "      <th>China</th>\n",
              "      <td>2020-07-02</td>\n",
              "      <td>31</td>\n",
              "      <td>0</td>\n",
              "      <td>CN</td>\n",
              "      <td>CHN</td>\n",
              "      <td>1.433784e+09</td>\n",
              "      <td>103.819073</td>\n",
              "      <td>36.561765</td>\n",
              "      <td>3. Emerging region: BRIC</td>\n",
              "      <td>3. Upper middle income</td>\n",
              "      <td>-99.0</td>\n",
              "      <td>7973000.0</td>\n",
              "    </tr>\n",
              "    <tr>\n",
              "      <th>China</th>\n",
              "      <td>2020-07-01</td>\n",
              "      <td>5</td>\n",
              "      <td>0</td>\n",
              "      <td>CN</td>\n",
              "      <td>CHN</td>\n",
              "      <td>1.433784e+09</td>\n",
              "      <td>103.819073</td>\n",
              "      <td>36.561765</td>\n",
              "      <td>3. Emerging region: BRIC</td>\n",
              "      <td>3. Upper middle income</td>\n",
              "      <td>-99.0</td>\n",
              "      <td>7973000.0</td>\n",
              "    </tr>\n",
              "    <tr>\n",
              "      <th>China</th>\n",
              "      <td>2020-06-30</td>\n",
              "      <td>23</td>\n",
              "      <td>0</td>\n",
              "      <td>CN</td>\n",
              "      <td>CHN</td>\n",
              "      <td>1.433784e+09</td>\n",
              "      <td>103.819073</td>\n",
              "      <td>36.561765</td>\n",
              "      <td>3. Emerging region: BRIC</td>\n",
              "      <td>3. Upper middle income</td>\n",
              "      <td>-99.0</td>\n",
              "      <td>7973000.0</td>\n",
              "    </tr>\n",
              "    <tr>\n",
              "      <th>...</th>\n",
              "      <td>...</td>\n",
              "      <td>...</td>\n",
              "      <td>...</td>\n",
              "      <td>...</td>\n",
              "      <td>...</td>\n",
              "      <td>...</td>\n",
              "      <td>...</td>\n",
              "      <td>...</td>\n",
              "      <td>...</td>\n",
              "      <td>...</td>\n",
              "      <td>...</td>\n",
              "      <td>...</td>\n",
              "    </tr>\n",
              "    <tr>\n",
              "      <th>China</th>\n",
              "      <td>2020-01-04</td>\n",
              "      <td>0</td>\n",
              "      <td>0</td>\n",
              "      <td>CN</td>\n",
              "      <td>CHN</td>\n",
              "      <td>1.433784e+09</td>\n",
              "      <td>103.819073</td>\n",
              "      <td>36.561765</td>\n",
              "      <td>3. Emerging region: BRIC</td>\n",
              "      <td>3. Upper middle income</td>\n",
              "      <td>-99.0</td>\n",
              "      <td>7973000.0</td>\n",
              "    </tr>\n",
              "    <tr>\n",
              "      <th>China</th>\n",
              "      <td>2020-01-03</td>\n",
              "      <td>17</td>\n",
              "      <td>0</td>\n",
              "      <td>CN</td>\n",
              "      <td>CHN</td>\n",
              "      <td>1.433784e+09</td>\n",
              "      <td>103.819073</td>\n",
              "      <td>36.561765</td>\n",
              "      <td>3. Emerging region: BRIC</td>\n",
              "      <td>3. Upper middle income</td>\n",
              "      <td>-99.0</td>\n",
              "      <td>7973000.0</td>\n",
              "    </tr>\n",
              "    <tr>\n",
              "      <th>China</th>\n",
              "      <td>2020-01-02</td>\n",
              "      <td>0</td>\n",
              "      <td>0</td>\n",
              "      <td>CN</td>\n",
              "      <td>CHN</td>\n",
              "      <td>1.433784e+09</td>\n",
              "      <td>103.819073</td>\n",
              "      <td>36.561765</td>\n",
              "      <td>3. Emerging region: BRIC</td>\n",
              "      <td>3. Upper middle income</td>\n",
              "      <td>-99.0</td>\n",
              "      <td>7973000.0</td>\n",
              "    </tr>\n",
              "    <tr>\n",
              "      <th>China</th>\n",
              "      <td>2020-01-01</td>\n",
              "      <td>0</td>\n",
              "      <td>0</td>\n",
              "      <td>CN</td>\n",
              "      <td>CHN</td>\n",
              "      <td>1.433784e+09</td>\n",
              "      <td>103.819073</td>\n",
              "      <td>36.561765</td>\n",
              "      <td>3. Emerging region: BRIC</td>\n",
              "      <td>3. Upper middle income</td>\n",
              "      <td>-99.0</td>\n",
              "      <td>7973000.0</td>\n",
              "    </tr>\n",
              "    <tr>\n",
              "      <th>China</th>\n",
              "      <td>2019-12-31</td>\n",
              "      <td>27</td>\n",
              "      <td>0</td>\n",
              "      <td>CN</td>\n",
              "      <td>CHN</td>\n",
              "      <td>1.433784e+09</td>\n",
              "      <td>103.819073</td>\n",
              "      <td>36.561765</td>\n",
              "      <td>3. Emerging region: BRIC</td>\n",
              "      <td>3. Upper middle income</td>\n",
              "      <td>-99.0</td>\n",
              "      <td>7973000.0</td>\n",
              "    </tr>\n",
              "  </tbody>\n",
              "</table>\n",
              "<p>187 rows × 12 columns</p>\n",
              "</div>"
            ],
            "text/plain": [
              "                                          fecha  cases  ...  gdp_year gdp_md_est\n",
              "continentExp countriesAndTerritories                    ...                     \n",
              "Asia         China                   2020-07-04      9  ...     -99.0  7973000.0\n",
              "             China                   2020-07-03     14  ...     -99.0  7973000.0\n",
              "             China                   2020-07-02     31  ...     -99.0  7973000.0\n",
              "             China                   2020-07-01      5  ...     -99.0  7973000.0\n",
              "             China                   2020-06-30     23  ...     -99.0  7973000.0\n",
              "...                                         ...    ...  ...       ...        ...\n",
              "             China                   2020-01-04      0  ...     -99.0  7973000.0\n",
              "             China                   2020-01-03     17  ...     -99.0  7973000.0\n",
              "             China                   2020-01-02      0  ...     -99.0  7973000.0\n",
              "             China                   2020-01-01      0  ...     -99.0  7973000.0\n",
              "             China                   2019-12-31     27  ...     -99.0  7973000.0\n",
              "\n",
              "[187 rows x 12 columns]"
            ]
          },
          "metadata": {
            "tags": []
          },
          "execution_count": 14
        }
      ]
    },
    {
      "cell_type": "markdown",
      "metadata": {
        "id": "SrwzY4p9N8uE",
        "colab_type": "text"
      },
      "source": [
        "Resultado esperado (parcial):\n",
        "\n",
        "![Resultado](https://drive.google.com/uc?id=1H3Qw0AYnCy7quT6T_cjtbY-EoQ_ImZ-L)"
      ]
    },
    {
      "cell_type": "code",
      "metadata": {
        "id": "jqHBF_e8IsIL",
        "colab_type": "code",
        "colab": {
          "base_uri": "https://localhost:8080/",
          "height": 272
        },
        "outputId": "ff4f2c24-76e9-4521-dbf1-57bf48cf2242"
      },
      "source": [
        "# Resetear los indices y acceder a la fila 0\n",
        "temp_datosCSVPF2 = temp_datosCSVPF.reset_index()\n",
        "temp_datosCSVPF2.loc[0]"
      ],
      "execution_count": null,
      "outputs": [
        {
          "output_type": "execute_result",
          "data": {
            "text/plain": [
              "continentExp                                    Asia\n",
              "countriesAndTerritories                  Afghanistan\n",
              "fecha                            2020-07-04 00:00:00\n",
              "cases                                            302\n",
              "deaths                                            12\n",
              "geoId                                             AF\n",
              "countryterritoryCode                             AFG\n",
              "popData2019                              3.80418e+07\n",
              "Longitude                                    66.0047\n",
              "Latitude                                     33.8352\n",
              "economy                    7. Least developed region\n",
              "income_grp                             5. Low income\n",
              "gdp_year                                         -99\n",
              "gdp_md_est                                     22270\n",
              "Name: 0, dtype: object"
            ]
          },
          "metadata": {
            "tags": []
          },
          "execution_count": 17
        }
      ]
    },
    {
      "cell_type": "markdown",
      "metadata": {
        "id": "2ZHtu4aANeCj",
        "colab_type": "text"
      },
      "source": [
        "Resultado esperado:\n",
        "\n",
        "![Resultado](https://drive.google.com/uc?id=1IA9_3YXmTA2u00pZ3geZScFCaJkSParX)"
      ]
    },
    {
      "cell_type": "markdown",
      "metadata": {
        "id": "B4-Kr2rBkPFq",
        "colab_type": "text"
      },
      "source": [
        "## Breve descripción de los tipos de gráficas\n",
        "Matplotlib posee un gran número de gráficas que pueden ser útiles para diferentes aplicaciones. Todas las imágenes que ahora se muestran han sido extraidas de: https://matplotlib.org/gallery/index.html excepto la imagen 3D que ha sido creada para el curso. A continuación se hace una breve descripción, discutible pero muy práctica, sobre cada uno de los diferentes tipos.\n",
        "\n",
        "Los gráficos tienen diferentes aplicaciones y usos. El más extendido es el gráfico de barras que permite representar valores cualitativos respecto de sus respectivo valores cuantitativos, como en el ejemplo siguiente:\n",
        "<center><img src='https://matplotlib.org/_images/sphx_glr_bar_stacked_001.png' width=500></center>\n",
        "\n",
        "Donde se representan los valores de diferentes grupos (G1 a G5 que son elementos cualitativos) respecto de sus puntuaciones.\n",
        "\n",
        "También existen otro tipo de gráficas donde se incluyen huecos (gaps) entre los valores cuantitativos. Este tipo de gráficas son muy interesante para la realización de cronogramas, tablas de tiempos e incluso diagramas de GANTT:\n",
        "\n",
        "<center><img src='https://matplotlib.org/_images/sphx_glr_broken_barh_001.png' width=500></center>\n",
        "\n",
        "Otro tipo de gráficas muy empleadas son las gráficas de líneas, en este tipo de gráficos los elementos del eje X se suelen corresponder con valores cuantitativos (o como mucho ordinales). Este tipo de gráficas suele tener el tiempo como aspecto fundamental como en la siguiente:\n",
        "\n",
        "<center><img src='https://matplotlib.org/_images/sphx_glr_cohere_001.png' width=500></center>\n",
        "\n",
        "Otro tipo de gráficos es el de figuras. Matplotlib permite crear figuras de diferente tipo en los gráficos lo que sirve para conjugar esa entrada con otros elementos propios de nuestra representación. Por ejemplo una gráfica lineal y una superficie, u otros aspectos. Un ejemplo de gráfico superficial relleno es:\n",
        "\n",
        "<center><img src='https://matplotlib.org/_images/sphx_glr_fill_001.png' width=500></center>\n",
        "\n",
        "\n",
        "Un gráfico comunmente usado es el gráfico de tarta o gráfico circular. Este gráfico es dificil de analizar y complejo de usar porque da lugares a muchas confusiones ya que lo que representa es una valor relativo de los datos por lo que sólo se aconseja su uso en datos con un eje cualitativo y que el otro eje cuantitativo esté relativizado entre todos los elementos (como el porcentaje que se encuentra en el ejemplo).\n",
        "\n",
        "<center><img src='https://matplotlib.org/_images/sphx_glr_pie_features_001.png' width=500></center>\n",
        "\n",
        "Un gráfico con un aspecto similar pero con usos completamente diferente es el gráfico polar. En él la variable principal representa un valor circular que se repite y la variable dependiente es un valor cuantitativo que indica algún aspecto de esa referencia circular. Un ejemplo muy claro son los gráficos de potencia de señal de antenas, pero pueden usarse con otros fines como gráficos de situación relativa de elementos, gráficos de relaciones respecto de un punto, etc.\n",
        "\n",
        "<center><img src='https://matplotlib.org/_images/sphx_glr_polar_bar_001.png' width=500></center>\n",
        "\n",
        "Otro tipo de gráfico son los escaterogramas (scatter). Originalmente se diseñaron para ser usados como gráfico de correlación entre dos variables cualitativas, es decir, permiten determinar si una variable es dependiente de la otra y en qué medida. Además, alternando ejes lineales, logaritmicos y exponenciales se puede visualizar si la relación es de diferentes tipos. Un ejemplo de este tipo de gráficos es el que se muestra en la siguiente figura, notar que se ha incluido una variable cuantitativa más que se representa como una variación en tamaño de los círculos:\n",
        "\n",
        "<center><img src='https://matplotlib.org/_images/sphx_glr_scatter_demo2_001.png' width=500></center>\n",
        "\n",
        "Un gráfico como el anterior puede ser compuesto con gráficos de barras para dar información sobre el histograma, y por lo tanto distribución de cada una de las variables individuales:\n",
        "\n",
        "<center><img src='https://matplotlib.org/_images/sphx_glr_scatter_hist_001.png' width=500></center>\n",
        "\n",
        "Un uso particular de las anotaciones y otros aspectos denominados 'artist' del matplotlib permiten crear elementos tan interesantes como las líneas temporales que se muestran en el ejemplo.\n",
        "\n",
        "<center><img src='https://matplotlib.org/_images/sphx_glr_timeline_001.png' width=500></center>\n",
        "\n",
        "Los diagramas que representan resultados estadísticos son también altamente recomendables para el análisis de series de variables. En estos gráficos, se representa cada serie en una fila con los siguientes elementos:\n",
        "1. El valor mediano aparece marcado cerca del lugar central de la caja.\n",
        "2. La caja viene definida por los límites del cuartil 1 y 3 (Q1 y Q3).\n",
        "3. Los \"bigotes\" o líneas horizontales que se extienden a un valor por defecto de 1.5(Q3-Q1). De forma que el bigote superior es Q3+1.5(Q3-Q1) y el inferior Q1-1.5(Q3-Q1). El valor de 1.5 puede ser modificado e incluso si se activa 'range', los bigotes representan el valor máximo y mínimo.\n",
        "4. Los valores outliers (o \"muy diferentes\" de la serie) vienen marcados fuera de los \"bigotes\" como pequeños circulos.\n",
        "\n",
        "En la siguiente imagen se muestra un ejemplo de esta representación con boxplot. La diferencia entre el gráfico a la izquierda y la derecha es que se aplica una caja que se encoje en la mediana en función de la confianza en el valor.\n",
        "\n",
        "<center><img src='https://matplotlib.org/_images/sphx_glr_boxplot_color_001.png' width=500></center>\n",
        "\n",
        "Como se ha comentado, otro de los aspectos es la representación de diagramas de correlación (scatter) usando los valores de confianza en cada eje mediante su representación en elipses relativas a parámetros como por ejemplo al desviación estándar de los valores). En el siguiente gráfico se muestra un ejemplo:\n",
        "\n",
        "<center><img src='https://matplotlib.org/_images/sphx_glr_confidence_ellipse_001.png' width=500></center>\n",
        "\n",
        "Otra representación de interés son los diagramas que representan flujos o movimientos. Éstos pueden ser aplicados a diferentes elementos como el caso que se muestra. También puede aplicarse a otros aspectos como migraciones, desplazamientos de capitales, etc.\n",
        "\n",
        "<center><img src='https://matplotlib.org/_images/sphx_glr_plot_streamplot_001.png' width=500></center>\n",
        "\n",
        "\n",
        "También se incluyen en matplotlib la representación 2.5 de variables continuas en el espacio a partir de puntos de muestra tanto alineados como sin alinear. La mayor parte de estas representaciones se basan en el empleo de isocurvas o de coloreado con variación en el valor cromático para representar los cambios en la variación de la variable interpolada:\n",
        "\n",
        "<center><img src='https://matplotlib.org/_images/sphx_glr_irregulardatagrid_001.png' width=500></center>\n",
        "\n",
        "Un tipo de gráfico particular y que es de gran utilidad es la representación de elementos matriciales. Estos elementos pueden ser de diferentes tipos. Como ejemplo se muestra la siguiente imagen en la que matplotlib permite realizar transformaciones afines para variar escalas, rotaciones y origen:\n",
        "\n",
        "<center><img src='https://matplotlib.org/_images/sphx_glr_affine_image_001.png' width=500></center>\n",
        "\n",
        "Un aspecto muy interesante de la representación en forma matricial es el uso de mapas de calor, pero no como imagen representativa de concentraciones de variables/distancias, si no como relación entre dos variables cualitativas y su interacción entre valores:\n",
        "\n",
        "<center><img src='https://matplotlib.org/_images/sphx_glr_image_annotated_heatmap_001.png' width=500></center>\n",
        "\n",
        "Otro de los elementos a tener en cuenta es que matplotlib permite que su canvas de representación se ajuste a algún tipo de proyección cartográfica, lo que nos permite modificar la representación de variables espaciales de una forma más sencilla (eso sí, siempre en latitud y longitud):\n",
        "\n",
        "<center><img src='https://matplotlib.org/_images/sphx_glr_geo_demo_001.png' width=500></center>\n",
        "\n",
        "Para terminar los tipos de gráficos que pueden usarse en matplotlib, los aspectos 3D se pueden representar a través de las mallas y alturas (2.5D). A continuación se puede ver una zonas de un modelo de elevaciones (elaboración propia):\n",
        "\n",
        "<center><img src='https://drive.google.com/uc?id=1Q4_tLakTOFZxCEgYuv6EVBQDaQgpwyCz' width=500></center>\n"
      ]
    },
    {
      "cell_type": "markdown",
      "metadata": {
        "id": "NDC0v_k9IDHl",
        "colab_type": "text"
      },
      "source": [
        "## Introducción\n",
        "La clase principal de matplotlib es Figure (https://matplotlib.org/api/_as_gen/matplotlib.figure.Figure.html#matplotlib.figure.Figure)\n",
        "\n",
        "Una figura puede contener varias gráficas, ejes, etc. En la siguiente imagen se pueden ver los elementos principales de una figura con una única gráfica:\n",
        "\n",
        "<center><img src='https://matplotlib.org/_images/anatomy.png' width=60% alt='Elementos de un gráfico de Matplotlib'>\n",
        "\n",
        "Fuente: https://matplotlib.org/tutorials/introductory/usage.html#sphx-glr-tutorials-introductory-usage-py</center>\n",
        "\n",
        "Los ejes (Axes) son el espacio donde se presenta la gráfica, que se separan en objetos de la clase Axis (un sólo eje) que indican los límites de representación para esa dimensión del gráfico.\n",
        "\n",
        "Tanto el concepto de Figure como el de Axes son extremadamente relevantes en la creación de cualquier gráfico, ya que la Figure es el contenedor general y el Axes es el particular de cada gráfico ya que se pueden reutilizar los Axes para integrar varias tipologías de gráficas dentro del mismo diagrama.\n",
        "\n",
        "La entrada de los gráficos puede se:\n",
        "1. Datos directos: Dos vectores representando los valores X,Y (aunque el Y se pueda repetir varias veces).\n",
        "2. Datos desde Numpy: Los vectores anteriores pero en formato de matriz de Numpy\n",
        "3. Datos desde Pandas: Como se vió en la sesión anterior se pueden representar (plot) elementos desde Pandas o extraerlas usando el atributo ***values*** de Pandas para convertirlo a una matriz Numpy y nos encontraríamos en el caso 2.\n",
        "\n",
        "Las figuras son generalmente 2D, pero las nuevas versiones de Matplotlib soportan figuras 3D y provinientes de imágenes."
      ]
    },
    {
      "cell_type": "markdown",
      "metadata": {
        "id": "HTIA8ivuPve1",
        "colab_type": "text"
      },
      "source": [
        "## Primer ejemplo\n",
        "La creación de un gráfico se inicia siempre con la creación de una clase **figure**. Cada objeto tiene asignado un identificador único para cada sesión, lo que implica que si se le asigna uno (puede ser un número o un texto) y ya existía nos devolverá la referencia al objeto, si no es así devolverá una nueva figura.\n",
        "\n",
        "La creación de una figura puede hacerse:\n",
        "1. Llamando directamente al constructor con una indicación opcional del identificador (si es texto también servirá de título). Después será necesario añadir Axes a la figura para tener zonas de representación.\n",
        "2. Llamando a la creación mediante **subplots** que permite crear 1 o varios diagramas con una estructura definida. Esta solución devuelve tanto la figura como un eje seleccionado por identificador o el primer eje."
      ]
    },
    {
      "cell_type": "code",
      "metadata": {
        "id": "GpbFGCINQ9Sv",
        "colab_type": "code",
        "colab": {
          "base_uri": "https://localhost:8080/",
          "height": 265
        },
        "outputId": "c8ee51b5-1803-4293-9efb-36ce14340383"
      },
      "source": [
        "# Veamos un ejemplo con datos directos\n",
        "# Crearemos una figura con dos gráficos\n",
        "datos1x, datos1y = ['A','B','C','D','E'],[3,4,6,8,9]\n",
        "datos2x, datos2y = ['Enero','Febrero', 'Marzo', 'Abril'], [4,2,7,10]\n",
        "\n",
        "fig, ax = plt.subplots(1, 2)\n",
        "fig.patch.set_color('white')\n",
        "\n",
        "ax[0].plot(datos1x, datos1y)\n",
        "ax[1].plot(datos2x, datos2y);"
      ],
      "execution_count": null,
      "outputs": [
        {
          "output_type": "display_data",
          "data": {
            "image/png": "[encoded data removed]",
            "text/plain": [
              "<Figure size 432x288 with 2 Axes>"
            ]
          },
          "metadata": {
            "tags": []
          }
        }
      ]
    },
    {
      "cell_type": "markdown",
      "metadata": {
        "id": "f9SYZHdykphC",
        "colab_type": "text"
      },
      "source": [
        "Resultado esperado:\n",
        "\n",
        "![Resultado](https://drive.google.com/uc?id=12hAuvTDfZYePcx-Gu_QRTguqVPYDe6lV)"
      ]
    },
    {
      "cell_type": "code",
      "metadata": {
        "id": "oDVzBjOab1DU",
        "colab_type": "code",
        "colab": {
          "base_uri": "https://localhost:8080/",
          "height": 265
        },
        "outputId": "ef45f400-9089-4f5d-976b-08b0ab072b73"
      },
      "source": [
        "# Veamos un ejemplo con datos directos\n",
        "# Crearemos una figura con dos gráficos\n",
        "# Creamos las gráficas en cada diagrama. Esta vez vamos a usar el subplot\n",
        "datos1x, datos1y = ['A','B','C','D','E'],[3,4,6,8,9]\n",
        "datos2x, datos2y = ['Enero','Febrero', 'Marzo', 'Abril'], [4,2,7,10]\n",
        "\n",
        "fig,ax = plt.subplots(1,2)\n",
        "fig.patch.set_color('white')\n",
        "\n",
        "ejes1 = plt.subplot(1, 2, 1)\n",
        "ejes1.plot(datos1x, datos1y)\n",
        "\n",
        "ejes2 = plt.subplot(1, 2, 2, sharey=ejes1)\n",
        "ejes2.plot(datos2x, datos2y, c='red');"
      ],
      "execution_count": null,
      "outputs": [
        {
          "output_type": "display_data",
          "data": {
            "image/png": "[encoded data removed]",
            "text/plain": [
              "<Figure size 432x288 with 2 Axes>"
            ]
          },
          "metadata": {
            "tags": []
          }
        }
      ]
    },
    {
      "cell_type": "markdown",
      "metadata": {
        "id": "CQ8tRTbekeY9",
        "colab_type": "text"
      },
      "source": [
        "Resultado esperado:\n",
        "\n",
        "![Resultado](https://drive.google.com/uc?id=1rYo26ayTLgVZ0AtNrLm6Vdi36DfNrCkf)"
      ]
    },
    {
      "cell_type": "markdown",
      "metadata": {
        "id": "1edrWqwnUF2e",
        "colab_type": "text"
      },
      "source": [
        "## Ejemplo de creación de gráficas comparativas entre dos países"
      ]
    },
    {
      "cell_type": "code",
      "metadata": {
        "id": "-epF_vNZjrw9",
        "colab_type": "code",
        "colab": {
          "base_uri": "https://localhost:8080/",
          "height": 357
        },
        "outputId": "4464279c-54c0-4814-84e8-751b0b441fcb"
      },
      "source": [
        "# Vamos a aplicar la misma técnica a los casos de COVID-19 de España e Italia para el mes de abril de 2020\n",
        "# Pero vamos a incluir algunas caracteristicas más como rotación de las etiquetas,\n",
        "# etiquetas personalizadas y cuadrícula de comparación. También seleccionaremos\n",
        "# y personalizaremos las ticks (marcas de los ejes)\n",
        "import matplotlib.dates as mdates\n",
        "\n",
        "\n",
        "datosSpain = datosCSVPF[(datosCSVPF['countriesAndTerritories'] == 'Spain') & (datosCSVPF['fecha'] >= pd.Timestamp('2020-04-01')) & (datosCSVPF['fecha'] <= pd.Timestamp('2020-04-30'))]\n",
        "datosItaly = datosCSVPF[(datosCSVPF['countriesAndTerritories'] == 'Italy') & (datosCSVPF['fecha'] >= pd.Timestamp('2020-04-01')) & (datosCSVPF['fecha'] <= pd.Timestamp('2020-04-30'))]\n",
        "\n",
        "marcas = [pd.Timestamp('2020-04-01') + i * pd.Timedelta('7d') for i in range(5)]\n",
        "formatoFecha = mdates.DateFormatter('%d-%m-%Y')\n",
        "\n",
        "fig, ax = plt.subplots(1, 2)\n",
        "fig.patch.set_color('white')\n",
        "fig.tight_layout()\n",
        "\n",
        "ejes1 = plt.subplot(1, 2, 1)\n",
        "ejes1.set_title('Spain')\n",
        "ejes1.set_xticks(marcas)\n",
        "ejes1.get_xaxis().set_major_formatter(formatoFecha)\n",
        "ejes1.plot(datosSpain['fecha'], datosSpain['cases'])\n",
        "plt.grid(True)\n",
        "plt.xticks(rotation=70)\n",
        "\n",
        "ejes2 = plt.subplot(1, 2, 2, sharey=ejes1)\n",
        "ejes2.set_title('Italy')\n",
        "ejes2.set_xticks(marcas)\n",
        "ejes2.get_xaxis().set_major_formatter(formatoFecha)\n",
        "ejes2.plot(datosItaly['fecha'], datosItaly['cases'])\n",
        "plt.grid(True)\n",
        "plt.xticks(rotation=70);"
      ],
      "execution_count": null,
      "outputs": [
        {
          "output_type": "display_data",
          "data": {
            "image/png": "[encoded data removed]",
            "text/plain": [
              "<Figure size 432x288 with 2 Axes>"
            ]
          },
          "metadata": {
            "tags": []
          }
        }
      ]
    },
    {
      "cell_type": "markdown",
      "metadata": {
        "id": "wWXY1IkmkRRf",
        "colab_type": "text"
      },
      "source": [
        "Resultado esperado:\n",
        "\n",
        "![Resultado](https://drive.google.com/uc?id=1W0GZfvCtjcN2PjET9QcBLbpMX8SkwJd6)"
      ]
    },
    {
      "cell_type": "markdown",
      "metadata": {
        "id": "N_oaxWzbUMJY",
        "colab_type": "text"
      },
      "source": [
        "## Ejemplo de comparación entre dos variables"
      ]
    },
    {
      "cell_type": "code",
      "metadata": {
        "id": "YnsR-2O2wlhR",
        "colab_type": "code",
        "colab": {
          "base_uri": "https://localhost:8080/",
          "height": 523
        },
        "outputId": "158f09db-4d32-4b92-b234-8c42202e871d"
      },
      "source": [
        "# Ahora vamos a tratar de calcular las correlaciones entre el número de casos\n",
        "# y fallecidos diarios. Se puede usar una solución similar desde: \n",
        "# https://matplotlib.org/gallery/lines_bars_and_markers/scatter_hist.html#sphx-glr-gallery-lines-bars-and-markers-scatter-hist-py\n",
        "\n",
        "x = datosCSVPF[(datosCSVPF['cases'] >= 0) & (datosCSVPF['deaths'] >= 0)]['cases']\n",
        "y = datosCSVPF[(datosCSVPF['cases'] >= 0) & (datosCSVPF['deaths'] >= 0)]['deaths']\n",
        "\n",
        "xymax = max(max(x), max(y))\n",
        "xymin = min(min(x), min(y))\n",
        "n = 100.0\n",
        "binwidth = (xymax - xymin) / n\n",
        "bins = [xymin + i * binwidth for i in range(int(n) + 1)]\n",
        "\n",
        "fig = plt.figure(figsize=(8,8))\n",
        "fig.patch.set_color('white')\n",
        "\n",
        "gs = fig.add_gridspec(2, 2,  width_ratios=(7, 2), height_ratios=(2, 7),\n",
        "                      left=0.1, right=0.9, bottom=0.1, top=0.9,\n",
        "                      wspace=0.05, hspace=0.05)\n",
        "\n",
        "ax = fig.add_subplot(gs[1, 0])\n",
        "ax.scatter(x, y)\n",
        "ax.set_xlabel('Daily cases')\n",
        "ax.set_ylabel('Daily deaths')\n",
        "plt.xlim((min(x), max(x)))\n",
        "plt.ylim((min(y), max(y)))\n",
        "\n",
        "ax_h = fig.add_subplot(gs[0, 0])\n",
        "ax_h.tick_params(axis='x', labelbottom = False)\n",
        "ax_h.hist(x, bins=bins)\n",
        "plt.yscale('log')\n",
        "\n",
        "ax_v = fig.add_subplot(gs[1, 1])\n",
        "ax_v.tick_params(axis='y', labelleft = False)\n",
        "ax_v.hist(y, bins=bins, orientation='horizontal');\n",
        "plt.xscale('log')"
      ],
      "execution_count": null,
      "outputs": [
        {
          "output_type": "display_data",
          "data": {
            "image/png": "[encoded data removed]",
            "text/plain": [
              "<Figure size 576x576 with 3 Axes>"
            ]
          },
          "metadata": {
            "tags": []
          }
        }
      ]
    },
    {
      "cell_type": "markdown",
      "metadata": {
        "id": "S8ZXVODfkE4F",
        "colab_type": "text"
      },
      "source": [
        "Resutado esperado:\n",
        "\n",
        "![Resultado](https://drive.google.com/uc?id=1pf0BUIU2A-W3yX14_isynxZn3k1YcRo8)"
      ]
    },
    {
      "cell_type": "code",
      "metadata": {
        "id": "aipOfkJGk8FE",
        "colab_type": "code",
        "colab": {}
      },
      "source": [
        "# Vamos a realizar la comparación anterior pero por países representando el\n",
        "# número de habitantes del país con el tamaño del marker del Scatter\n",
        "from matplotlib.cm import Dark2\n",
        "import matplotlib.patches as mpatches\n"
      ],
      "execution_count": null,
      "outputs": []
    },
    {
      "cell_type": "markdown",
      "metadata": {
        "id": "ME7onS8ecU5v",
        "colab_type": "text"
      },
      "source": [
        "Resultado esperado:\n",
        "\n",
        "![Resultado](https://drive.google.com/uc?id=1va4VX7REOR5NEUmhmKHyaMVaAeDC8Hyf)"
      ]
    },
    {
      "cell_type": "markdown",
      "metadata": {
        "id": "aDcNDJe9eYMP",
        "colab_type": "text"
      },
      "source": [
        "## Ejemplo de gráfico de cajas para mostrar valores aleatorios y relaciones entre las series de datos"
      ]
    },
    {
      "cell_type": "code",
      "metadata": {
        "id": "Ffd2-UGYeXUJ",
        "colab_type": "code",
        "colab": {}
      },
      "source": [
        "# Vamos a tratar de ver si hay relaciones entre las series de datos de España e \n",
        "# e Italia en valores absolutos y relativos a la población total para ello\n",
        "# usaremos el boxplot\n"
      ],
      "execution_count": null,
      "outputs": []
    },
    {
      "cell_type": "markdown",
      "metadata": {
        "id": "4OaHUBzfc2pH",
        "colab_type": "text"
      },
      "source": [
        "Resultado esperado:\n",
        "\n",
        "![texto alternativo](https://drive.google.com/uc?id=1AE-5ieHmWqmoCISpDC4GIiFHD-3R2b98)"
      ]
    },
    {
      "cell_type": "markdown",
      "metadata": {
        "id": "0H22t6h-SMvX",
        "colab_type": "text"
      },
      "source": [
        "# Bokeh\n",
        "\n",
        "Bokeh es una librería como Matplotlib para la representación de diferentes tipos de gráficas pero tiene la ventaja de ser interactiva y ser capaz de aplicarse a entornos interactivos como Web.\n",
        "\n",
        "Página de la librería:\n",
        "https://docs.bokeh.org/en/latest/index.html\n",
        "\n",
        "Página de la API:\n",
        "https://docs.bokeh.org/en/latest/docs/reference.html\n",
        "\n",
        "Cheat sheet de Bokeh:\n",
        "https://s3.amazonaws.com/assets.datacamp.com/blog_assets/Python_Bokeh_Cheat_Sheet.pdf\n",
        "\n",
        "Notebooks Jupyter interactivos: \n",
        "https://hub.gke.mybinder.org/user/bokeh-bokeh-notebooks-6ue8lbbt/notebooks/tutorial/00%20-%20Introduction%20and%20Setup.ipynb\n",
        "\n",
        "\n",
        "Libro sobre Bokeh:\n",
        "https://buscaenbuja.ujaen.es/permalink/34CBUA_UJA/df6b9e/alma991003850015804994\n"
      ]
    },
    {
      "cell_type": "markdown",
      "metadata": {
        "id": "xGuZzeN6TucN",
        "colab_type": "text"
      },
      "source": [
        "## Importación de Bokeh\n",
        "\n",
        "Por defecto, Colaboratory tiene incluida la librería Bokeh dentro de su máquina virtual, por lo que no es necesario instalarla, pero en caso de que no fuese así se pueden usar:\n",
        "\n",
        "\n",
        "```\n",
        "!pip install bokeh\n",
        "```\n",
        "\n",
        "Una vez creado los elementos a importar se encuentran dentro del paquete bokeh.plotting y son la **figure** y la función **show**. En el caso de que la salida no sea a un notebook Colaboratory, es necesario importar la función **output_file** para generar una salida temporal HTML del gráfico.\n",
        "\n",
        "Sin embargo, para que se puedan visualizar los resultados en Colaboratory o en un notebook de Jupyter es necesario la importación de la salida especial para estos interfaces. En el código siguiente se configura la importación adecuada."
      ]
    },
    {
      "cell_type": "code",
      "metadata": {
        "id": "tss_snggTOLu",
        "colab_type": "code",
        "colab": {}
      },
      "source": [
        "# Importación\n",
        "from bokeh.plotting import figure, show\n",
        "# Importación para integración en Colaboratory\n",
        "from bokeh.io import output_notebook\n",
        "\n",
        "# Llamada para configurar la salida hacia notebook en todos los plots\n",
        "# Nota: Si no hay salida a notebook sería necesario importar\n",
        "# la función output_file desde bokeh.plotting y asignar un archivo temporal HTML\n",
        "# de salida\n",
        "output_notebook()"
      ],
      "execution_count": null,
      "outputs": []
    },
    {
      "cell_type": "markdown",
      "metadata": {
        "id": "Lz5Pijch4ZmX",
        "colab_type": "text"
      },
      "source": [
        "## Descripción general\n",
        "Bokeh esta basado en el contenedor de una imagen que representa todo aquello que se puede visualizar. Para ello se usa la función **figure** que crea este contenedor básico. Este proceso es similar a lo que hemos aprendido en Matplolib.\n",
        "\n",
        "Por otra parte Bokeh usa el concepto de Glyphs (glifos) para representar los elementos. Los glifos pueden ser lineas, círculos o incluso multipolígonos. También se pueden incluir textos y anotaciones.\n",
        "\n",
        "Como Matplotlib usa guías y anotaciones como ejes y cuadrículas. También soporta el uso de titulos y leyendas así como que las herramientas de interactividad son configurables.\n",
        "\n",
        "Su integración con Pandas es bastante directa porque permite la creación de objetos **ColumnSource** que se pueden incluir directamente desde los Dataframes de Pandas.\n",
        "\n",
        "Finalmente, no hay que olvidar el concepto de rangos de representación de los datos, que aunque es algo más flexible que en Matplolib debido a la interactividad, representa el espacio visualizado al inicializar una figura."
      ]
    },
    {
      "cell_type": "markdown",
      "metadata": {
        "id": "W9Yga0Lh3xNg",
        "colab_type": "text"
      },
      "source": [
        "## Primer ejemplo"
      ]
    },
    {
      "cell_type": "code",
      "metadata": {
        "id": "hD1rC_fUTF6o",
        "colab_type": "code",
        "colab": {}
      },
      "source": [
        "# Primer ejemplo básico de Bokeh, traducido de: \n",
        "# https://docs.bokeh.org/en/latest/docs/user_guide/quickstart.html#userguide-quickstart\n",
        "# Recordad que es interativo\n",
        "\n",
        "# Preparación de los datos\n",
        "x, y = [1, 2, 3, 4, 5], [6, 7, 2, 4, 5]\n"
      ],
      "execution_count": null,
      "outputs": []
    },
    {
      "cell_type": "markdown",
      "metadata": {
        "id": "dELeXuDsSKPi",
        "colab_type": "text"
      },
      "source": [
        "Resultado esperado:\n",
        "\n",
        "![Resultado](https://drive.google.com/uc?id=1NiXOdI1YaC1b7fEzrWd9QjRM2qnNjEYY)"
      ]
    },
    {
      "cell_type": "markdown",
      "metadata": {
        "id": "a68pJEAE3283",
        "colab_type": "text"
      },
      "source": [
        "## Bokeh para visualizar información espacial\n",
        "Bokeh permite la conexión a diferentes tipos de servidores de mapas WMS, Tile providers, etc. (https://docs.bokeh.org/en/latest/docs/reference/tile_providers.html). Por ello, si disponemos de coordenadas espaciales de los elementos a representar podemos situarlos sobre un mapa que se convierte en interactivo.\n",
        "\n",
        "\n",
        "Nota: Para la transformación de (longitud y latitud) a coordenadas web Mercator se deben usar las ecuaciones de Mercator que aparecen a continuación con el valor de R = 6378137):\n",
        "\n",
        "$x(\\lambda,\\varphi) = R \\lambda$\n",
        "\n",
        "$y(\\lambda,\\varphi) = R ln \\pmatrix{\\frac{\\pi}{4}+\\frac{\\varphi}{2}}$\n",
        "\n"
      ]
    },
    {
      "cell_type": "code",
      "metadata": {
        "id": "jmjX87_937KA",
        "colab_type": "code",
        "colab": {
          "base_uri": "https://localhost:8080/",
          "height": 617
        },
        "outputId": "12d504cd-57d5-47ee-b8bc-dbc5383ea6ee"
      },
      "source": [
        "# Vamos a mostrar el número de casos totales con un círculo de color y tamaño variable\n",
        "# para cada uno de los países. Los colores serán \n",
        "from bokeh.models import ColumnDataSource, LabelSet, ColorBar\n",
        "from bokeh.tile_providers import get_provider, Vendors\n",
        "from bokeh.palettes import Spectral6\n",
        "from bokeh.transform import log_cmap\n",
        "import math\n",
        "\n",
        "def webmercator(lon, lat):\n",
        "  factor = 3.141592 / 180.0\n",
        "  return (\n",
        "      6378137 * lon * factor,\n",
        "      6378137 * math.log(math.tan(math.pi/4.0 + lat * factor / 2.0))\n",
        "  )\n",
        "\n",
        "datos = datosCSVPF[datosCSVPF['fecha'] == pd.Timestamp('2020-07-04')][['Latitude', 'Longitude', 'cases', 'countriesAndTerritories']].dropna().values\n",
        "x, y = [i[1] for i in datos], [i[0] for i in datos]\n",
        "\n",
        "res = []\n",
        "xwm, ywm = [], []\n",
        "for i in range(len(x)):\n",
        "  res = webmercator(x[i], y[i])\n",
        "  xwm.append(res[0])\n",
        "  ywm.append(res[1])\n",
        "\n",
        "n = [i[3] for i in datos]\n",
        "fuente = ColumnDataSource(data=dict(x = xwm, y = ywm, nombre = n))\n",
        "\n",
        "plot = figure(title='COVID-19', tools='pan, wheel_zoom, save, reset')\n",
        "\n",
        "etiquetas = LabelSet(x='x', y='y', text='nombre', source=fuente)\n",
        "\n",
        "plot.add_tile(get_provider(Vendors.CARTODBPOSITRON))\n",
        "\n",
        "plot.add_layout(etiquetas)\n",
        "\n",
        "plot.circle(x=xwm, y=ywm)\n",
        "\n",
        "show(plot)\n"
      ],
      "execution_count": null,
      "outputs": [
        {
          "output_type": "display_data",
          "data": {
            "application/javascript": [
              "\n",
              "(function(root) {\n",
              "  function now() {\n",
              "    return new Date();\n",
              "  }\n",
              "\n",
              "  var force = true;\n",
              "\n",
              "  if (typeof root._bokeh_onload_callbacks === \"undefined\" || force === true) {\n",
              "    root._bokeh_onload_callbacks = [];\n",
              "    root._bokeh_is_loading = undefined;\n",
              "  }\n",
              "\n",
              "  var JS_MIME_TYPE = 'application/javascript';\n",
              "  var HTML_MIME_TYPE = 'text/html';\n",
              "  var EXEC_MIME_TYPE = 'application/vnd.bokehjs_exec.v0+json';\n",
              "  var CLASS_NAME = 'output_bokeh rendered_html';\n",
              "\n",
              "  /**\n",
              "   * Render data to the DOM node\n",
              "   */\n",
              "  function render(props, node) {\n",
              "    var script = document.createElement(\"script\");\n",
              "    node.appendChild(script);\n",
              "  }\n",
              "\n",
              "  /**\n",
              "   * Handle when an output is cleared or removed\n",
              "   */\n",
              "  function handleClearOutput(event, handle) {\n",
              "    var cell = handle.cell;\n",
              "\n",
              "    var id = cell.output_area._bokeh_element_id;\n",
              "    var server_id = cell.output_area._bokeh_server_id;\n",
              "    // Clean up Bokeh references\n",
              "    if (id != null && id in Bokeh.index) {\n",
              "      Bokeh.index[id].model.document.clear();\n",
              "      delete Bokeh.index[id];\n",
              "    }\n",
              "\n",
              "    if (server_id !== undefined) {\n",
              "      // Clean up Bokeh references\n",
              "      var cmd = \"from bokeh.io.state import curstate; print(curstate().uuid_to_server['\" + server_id + \"'].get_sessions()[0].document.roots[0]._id)\";\n",
              "      cell.notebook.kernel.execute(cmd, {\n",
              "        iopub: {\n",
              "          output: function(msg) {\n",
              "            var id = msg.content.text.trim();\n",
              "            if (id in Bokeh.index) {\n",
              "              Bokeh.index[id].model.document.clear();\n",
              "              delete Bokeh.index[id];\n",
              "            }\n",
              "          }\n",
              "        }\n",
              "      });\n",
              "      // Destroy server and session\n",
              "      var cmd = \"import bokeh.io.notebook as ion; ion.destroy_server('\" + server_id + \"')\";\n",
              "      cell.notebook.kernel.execute(cmd);\n",
              "    }\n",
              "  }\n",
              "\n",
              "  /**\n",
              "   * Handle when a new output is added\n",
              "   */\n",
              "  function handleAddOutput(event, handle) {\n",
              "    var output_area = handle.output_area;\n",
              "    var output = handle.output;\n",
              "\n",
              "    // limit handleAddOutput to display_data with EXEC_MIME_TYPE content only\n",
              "    if ((output.output_type != \"display_data\") || (!output.data.hasOwnProperty(EXEC_MIME_TYPE))) {\n",
              "      return\n",
              "    }\n",
              "\n",
              "    var toinsert = output_area.element.find(\".\" + CLASS_NAME.split(' ')[0]);\n",
              "\n",
              "    if (output.metadata[EXEC_MIME_TYPE][\"id\"] !== undefined) {\n",
              "      toinsert[toinsert.length - 1].firstChild.textContent = output.data[JS_MIME_TYPE];\n",
              "      // store reference to embed id on output_area\n",
              "      output_area._bokeh_element_id = output.metadata[EXEC_MIME_TYPE][\"id\"];\n",
              "    }\n",
              "    if (output.metadata[EXEC_MIME_TYPE][\"server_id\"] !== undefined) {\n",
              "      var bk_div = document.createElement(\"div\");\n",
              "      bk_div.innerHTML = output.data[HTML_MIME_TYPE];\n",
              "      var script_attrs = bk_div.children[0].attributes;\n",
              "      for (var i = 0; i < script_attrs.length; i++) {\n",
              "        toinsert[toinsert.length - 1].firstChild.setAttribute(script_attrs[i].name, script_attrs[i].value);\n",
              "      }\n",
              "      // store reference to server id on output_area\n",
              "      output_area._bokeh_server_id = output.metadata[EXEC_MIME_TYPE][\"server_id\"];\n",
              "    }\n",
              "  }\n",
              "\n",
              "  function register_renderer(events, OutputArea) {\n",
              "\n",
              "    function append_mime(data, metadata, element) {\n",
              "      // create a DOM node to render to\n",
              "      var toinsert = this.create_output_subarea(\n",
              "        metadata,\n",
              "        CLASS_NAME,\n",
              "        EXEC_MIME_TYPE\n",
              "      );\n",
              "      this.keyboard_manager.register_events(toinsert);\n",
              "      // Render to node\n",
              "      var props = {data: data, metadata: metadata[EXEC_MIME_TYPE]};\n",
              "      render(props, toinsert[toinsert.length - 1]);\n",
              "      element.append(toinsert);\n",
              "      return toinsert\n",
              "    }\n",
              "\n",
              "    /* Handle when an output is cleared or removed */\n",
              "    events.on('clear_output.CodeCell', handleClearOutput);\n",
              "    events.on('delete.Cell', handleClearOutput);\n",
              "\n",
              "    /* Handle when a new output is added */\n",
              "    events.on('output_added.OutputArea', handleAddOutput);\n",
              "\n",
              "    /**\n",
              "     * Register the mime type and append_mime function with output_area\n",
              "     */\n",
              "    OutputArea.prototype.register_mime_type(EXEC_MIME_TYPE, append_mime, {\n",
              "      /* Is output safe? */\n",
              "      safe: true,\n",
              "      /* Index of renderer in `output_area.display_order` */\n",
              "      index: 0\n",
              "    });\n",
              "  }\n",
              "\n",
              "  // register the mime type if in Jupyter Notebook environment and previously unregistered\n",
              "  if (root.Jupyter !== undefined) {\n",
              "    var events = require('base/js/events');\n",
              "    var OutputArea = require('notebook/js/outputarea').OutputArea;\n",
              "\n",
              "    if (OutputArea.prototype.mime_types().indexOf(EXEC_MIME_TYPE) == -1) {\n",
              "      register_renderer(events, OutputArea);\n",
              "    }\n",
              "  }\n",
              "\n",
              "  \n",
              "  if (typeof (root._bokeh_timeout) === \"undefined\" || force === true) {\n",
              "    root._bokeh_timeout = Date.now() + 5000;\n",
              "    root._bokeh_failed_load = false;\n",
              "  }\n",
              "\n",
              "  var NB_LOAD_WARNING = {'data': {'text/html':\n",
              "     \"<div style='background-color: #fdd'>\\n\"+\n",
              "     \"<p>\\n\"+\n",
              "     \"BokehJS does not appear to have successfully loaded. If loading BokehJS from CDN, this \\n\"+\n",
              "     \"may be due to a slow or bad network connection. Possible fixes:\\n\"+\n",
              "     \"</p>\\n\"+\n",
              "     \"<ul>\\n\"+\n",
              "     \"<li>re-rerun `output_notebook()` to attempt to load from CDN again, or</li>\\n\"+\n",
              "     \"<li>use INLINE resources instead, as so:</li>\\n\"+\n",
              "     \"</ul>\\n\"+\n",
              "     \"<code>\\n\"+\n",
              "     \"from bokeh.resources import INLINE\\n\"+\n",
              "     \"output_notebook(resources=INLINE)\\n\"+\n",
              "     \"</code>\\n\"+\n",
              "     \"</div>\"}};\n",
              "\n",
              "  function display_loaded() {\n",
              "    var el = document.getElementById(null);\n",
              "    if (el != null) {\n",
              "      el.textContent = \"BokehJS is loading...\";\n",
              "    }\n",
              "    if (root.Bokeh !== undefined) {\n",
              "      if (el != null) {\n",
              "        el.textContent = \"BokehJS \" + root.Bokeh.version + \" successfully loaded.\";\n",
              "      }\n",
              "    } else if (Date.now() < root._bokeh_timeout) {\n",
              "      setTimeout(display_loaded, 100)\n",
              "    }\n",
              "  }\n",
              "\n",
              "\n",
              "  function run_callbacks() {\n",
              "    try {\n",
              "      root._bokeh_onload_callbacks.forEach(function(callback) {\n",
              "        if (callback != null)\n",
              "          callback();\n",
              "      });\n",
              "    } finally {\n",
              "      delete root._bokeh_onload_callbacks\n",
              "    }\n",
              "    console.debug(\"Bokeh: all callbacks have finished\");\n",
              "  }\n",
              "\n",
              "  function load_libs(css_urls, js_urls, callback) {\n",
              "    if (css_urls == null) css_urls = [];\n",
              "    if (js_urls == null) js_urls = [];\n",
              "\n",
              "    root._bokeh_onload_callbacks.push(callback);\n",
              "    if (root._bokeh_is_loading > 0) {\n",
              "      console.debug(\"Bokeh: BokehJS is being loaded, scheduling callback at\", now());\n",
              "      return null;\n",
              "    }\n",
              "    if (js_urls == null || js_urls.length === 0) {\n",
              "      run_callbacks();\n",
              "      return null;\n",
              "    }\n",
              "    console.debug(\"Bokeh: BokehJS not loaded, scheduling load and callback at\", now());\n",
              "    root._bokeh_is_loading = css_urls.length + js_urls.length;\n",
              "\n",
              "    function on_load() {\n",
              "      root._bokeh_is_loading--;\n",
              "      if (root._bokeh_is_loading === 0) {\n",
              "        console.debug(\"Bokeh: all BokehJS libraries/stylesheets loaded\");\n",
              "        run_callbacks()\n",
              "      }\n",
              "    }\n",
              "\n",
              "    function on_error() {\n",
              "      console.error(\"failed to load \" + url);\n",
              "    }\n",
              "\n",
              "    for (var i = 0; i < css_urls.length; i++) {\n",
              "      var url = css_urls[i];\n",
              "      const element = document.createElement(\"link\");\n",
              "      element.onload = on_load;\n",
              "      element.onerror = on_error;\n",
              "      element.rel = \"stylesheet\";\n",
              "      element.type = \"text/css\";\n",
              "      element.href = url;\n",
              "      console.debug(\"Bokeh: injecting link tag for BokehJS stylesheet: \", url);\n",
              "      document.body.appendChild(element);\n",
              "    }\n",
              "\n",
              "    for (var i = 0; i < js_urls.length; i++) {\n",
              "      var url = js_urls[i];\n",
              "      var element = document.createElement('script');\n",
              "      element.onload = on_load;\n",
              "      element.onerror = on_error;\n",
              "      element.async = false;\n",
              "      element.src = url;\n",
              "      console.debug(\"Bokeh: injecting script tag for BokehJS library: \", url);\n",
              "      document.head.appendChild(element);\n",
              "    }\n",
              "  };\n",
              "\n",
              "  function inject_raw_css(css) {\n",
              "    const element = document.createElement(\"style\");\n",
              "    element.appendChild(document.createTextNode(css));\n",
              "    document.body.appendChild(element);\n",
              "  }\n",
              "\n",
              "  \n",
              "  var js_urls = [\"https://cdn.pydata.org/bokeh/release/bokeh-1.4.0.min.js\", \"https://cdn.pydata.org/bokeh/release/bokeh-widgets-1.4.0.min.js\", \"https://cdn.pydata.org/bokeh/release/bokeh-tables-1.4.0.min.js\", \"https://cdn.pydata.org/bokeh/release/bokeh-gl-1.4.0.min.js\"];\n",
              "  var css_urls = [];\n",
              "  \n",
              "\n",
              "  var inline_js = [\n",
              "    function(Bokeh) {\n",
              "      Bokeh.set_log_level(\"info\");\n",
              "    },\n",
              "    function(Bokeh) {\n",
              "    \n",
              "    \n",
              "    }\n",
              "  ];\n",
              "\n",
              "  function run_inline_js() {\n",
              "    \n",
              "    if (root.Bokeh !== undefined || force === true) {\n",
              "      \n",
              "    for (var i = 0; i < inline_js.length; i++) {\n",
              "      inline_js[i].call(root, root.Bokeh);\n",
              "    }\n",
              "    } else if (Date.now() < root._bokeh_timeout) {\n",
              "      setTimeout(run_inline_js, 100);\n",
              "    } else if (!root._bokeh_failed_load) {\n",
              "      console.log(\"Bokeh: BokehJS failed to load within specified timeout.\");\n",
              "      root._bokeh_failed_load = true;\n",
              "    } else if (force !== true) {\n",
              "      var cell = $(document.getElementById(null)).parents('.cell').data().cell;\n",
              "      cell.output_area.append_execute_result(NB_LOAD_WARNING)\n",
              "    }\n",
              "\n",
              "  }\n",
              "\n",
              "  if (root._bokeh_is_loading === 0) {\n",
              "    console.debug(\"Bokeh: BokehJS loaded, going straight to plotting\");\n",
              "    run_inline_js();\n",
              "  } else {\n",
              "    load_libs(css_urls, js_urls, function() {\n",
              "      console.debug(\"Bokeh: BokehJS plotting callback run at\", now());\n",
              "      run_inline_js();\n",
              "    });\n",
              "  }\n",
              "}(window));"
            ],
            "application/vnd.bokehjs_load.v0+json": "\n(function(root) {\n  function now() {\n    return new Date();\n  }\n\n  var force = true;\n\n  if (typeof root._bokeh_onload_callbacks === \"undefined\" || force === true) {\n    root._bokeh_onload_callbacks = [];\n    root._bokeh_is_loading = undefined;\n  }\n\n  \n\n  \n  if (typeof (root._bokeh_timeout) === \"undefined\" || force === true) {\n    root._bokeh_timeout = Date.now() + 5000;\n    root._bokeh_failed_load = false;\n  }\n\n  var NB_LOAD_WARNING = {'data': {'text/html':\n     \"<div style='background-color: #fdd'>\\n\"+\n     \"<p>\\n\"+\n     \"BokehJS does not appear to have successfully loaded. If loading BokehJS from CDN, this \\n\"+\n     \"may be due to a slow or bad network connection. Possible fixes:\\n\"+\n     \"</p>\\n\"+\n     \"<ul>\\n\"+\n     \"<li>re-rerun `output_notebook()` to attempt to load from CDN again, or</li>\\n\"+\n     \"<li>use INLINE resources instead, as so:</li>\\n\"+\n     \"</ul>\\n\"+\n     \"<code>\\n\"+\n     \"from bokeh.resources import INLINE\\n\"+\n     \"output_notebook(resources=INLINE)\\n\"+\n     \"</code>\\n\"+\n     \"</div>\"}};\n\n  function display_loaded() {\n    var el = document.getElementById(null);\n    if (el != null) {\n      el.textContent = \"BokehJS is loading...\";\n    }\n    if (root.Bokeh !== undefined) {\n      if (el != null) {\n        el.textContent = \"BokehJS \" + root.Bokeh.version + \" successfully loaded.\";\n      }\n    } else if (Date.now() < root._bokeh_timeout) {\n      setTimeout(display_loaded, 100)\n    }\n  }\n\n\n  function run_callbacks() {\n    try {\n      root._bokeh_onload_callbacks.forEach(function(callback) {\n        if (callback != null)\n          callback();\n      });\n    } finally {\n      delete root._bokeh_onload_callbacks\n    }\n    console.debug(\"Bokeh: all callbacks have finished\");\n  }\n\n  function load_libs(css_urls, js_urls, callback) {\n    if (css_urls == null) css_urls = [];\n    if (js_urls == null) js_urls = [];\n\n    root._bokeh_onload_callbacks.push(callback);\n    if (root._bokeh_is_loading > 0) {\n      console.debug(\"Bokeh: BokehJS is being loaded, scheduling callback at\", now());\n      return null;\n    }\n    if (js_urls == null || js_urls.length === 0) {\n      run_callbacks();\n      return null;\n    }\n    console.debug(\"Bokeh: BokehJS not loaded, scheduling load and callback at\", now());\n    root._bokeh_is_loading = css_urls.length + js_urls.length;\n\n    function on_load() {\n      root._bokeh_is_loading--;\n      if (root._bokeh_is_loading === 0) {\n        console.debug(\"Bokeh: all BokehJS libraries/stylesheets loaded\");\n        run_callbacks()\n      }\n    }\n\n    function on_error() {\n      console.error(\"failed to load \" + url);\n    }\n\n    for (var i = 0; i < css_urls.length; i++) {\n      var url = css_urls[i];\n      const element = document.createElement(\"link\");\n      element.onload = on_load;\n      element.onerror = on_error;\n      element.rel = \"stylesheet\";\n      element.type = \"text/css\";\n      element.href = url;\n      console.debug(\"Bokeh: injecting link tag for BokehJS stylesheet: \", url);\n      document.body.appendChild(element);\n    }\n\n    for (var i = 0; i < js_urls.length; i++) {\n      var url = js_urls[i];\n      var element = document.createElement('script');\n      element.onload = on_load;\n      element.onerror = on_error;\n      element.async = false;\n      element.src = url;\n      console.debug(\"Bokeh: injecting script tag for BokehJS library: \", url);\n      document.head.appendChild(element);\n    }\n  };\n\n  function inject_raw_css(css) {\n    const element = document.createElement(\"style\");\n    element.appendChild(document.createTextNode(css));\n    document.body.appendChild(element);\n  }\n\n  \n  var js_urls = [\"https://cdn.pydata.org/bokeh/release/bokeh-1.4.0.min.js\", \"https://cdn.pydata.org/bokeh/release/bokeh-widgets-1.4.0.min.js\", \"https://cdn.pydata.org/bokeh/release/bokeh-tables-1.4.0.min.js\", \"https://cdn.pydata.org/bokeh/release/bokeh-gl-1.4.0.min.js\"];\n  var css_urls = [];\n  \n\n  var inline_js = [\n    function(Bokeh) {\n      Bokeh.set_log_level(\"info\");\n    },\n    function(Bokeh) {\n    \n    \n    }\n  ];\n\n  function run_inline_js() {\n    \n    if (root.Bokeh !== undefined || force === true) {\n      \n    for (var i = 0; i < inline_js.length; i++) {\n      inline_js[i].call(root, root.Bokeh);\n    }\n    } else if (Date.now() < root._bokeh_timeout) {\n      setTimeout(run_inline_js, 100);\n    } else if (!root._bokeh_failed_load) {\n      console.log(\"Bokeh: BokehJS failed to load within specified timeout.\");\n      root._bokeh_failed_load = true;\n    } else if (force !== true) {\n      var cell = $(document.getElementById(null)).parents('.cell').data().cell;\n      cell.output_area.append_execute_result(NB_LOAD_WARNING)\n    }\n\n  }\n\n  if (root._bokeh_is_loading === 0) {\n    console.debug(\"Bokeh: BokehJS loaded, going straight to plotting\");\n    run_inline_js();\n  } else {\n    load_libs(css_urls, js_urls, function() {\n      console.debug(\"Bokeh: BokehJS plotting callback run at\", now());\n      run_inline_js();\n    });\n  }\n}(window));"
          },
          "metadata": {
            "tags": []
          }
        },
        {
          "output_type": "display_data",
          "data": {
            "text/html": [
              "\n",
              "\n",
              "\n",
              "\n",
              "\n",
              "\n",
              "  <div class=\"bk-root\" id=\"e9f42a6f-bca1-4912-a3af-1f1218a0a74e\" data-root-id=\"1854\"></div>\n"
            ]
          },
          "metadata": {
            "tags": []
          }
        },
        {
          "output_type": "display_data",
          "data": {
            "application/javascript": [
              "(function(root) {\n",
              "  function embed_document(root) {\n",
              "    \n",
              "  var docs_json = {\"679305c8-d6dc-4ee9-b8f4-06e87e8b4fb8\":{\"roots\":{\"references\":[{\"attributes\":{\"below\":[{\"id\":\"1865\",\"type\":\"LinearAxis\"}],\"center\":[{\"id\":\"1869\",\"type\":\"Grid\"},{\"id\":\"1874\",\"type\":\"Grid\"},{\"id\":\"1884\",\"type\":\"LabelSet\"}],\"left\":[{\"id\":\"1870\",\"type\":\"LinearAxis\"}],\"renderers\":[{\"id\":\"1887\",\"type\":\"TileRenderer\"},{\"id\":\"1892\",\"type\":\"GlyphRenderer\"}],\"title\":{\"id\":\"1855\",\"type\":\"Title\"},\"toolbar\":{\"id\":\"1879\",\"type\":\"Toolbar\"},\"x_range\":{\"id\":\"1857\",\"type\":\"DataRange1d\"},\"x_scale\":{\"id\":\"1861\",\"type\":\"LinearScale\"},\"y_range\":{\"id\":\"1859\",\"type\":\"DataRange1d\"},\"y_scale\":{\"id\":\"1863\",\"type\":\"LinearScale\"}},\"id\":\"1854\",\"subtype\":\"Figure\",\"type\":\"Plot\"},{\"attributes\":{},\"id\":\"1950\",\"type\":\"BasicTickFormatter\"},{\"attributes\":{},\"id\":\"1953\",\"type\":\"UnionRenderers\"},{\"attributes\":{},\"id\":\"1866\",\"type\":\"BasicTicker\"},{\"attributes\":{\"callback\":null},\"id\":\"1857\",\"type\":\"DataRange1d\"},{\"attributes\":{\"fill_color\":{\"value\":\"#1f77b4\"},\"line_color\":{\"value\":\"#1f77b4\"},\"x\":{\"field\":\"x\"},\"y\":{\"field\":\"y\"}},\"id\":\"1890\",\"type\":\"Circle\"},{\"attributes\":{\"callback\":null},\"id\":\"1859\",\"type\":\"DataRange1d\"},{\"attributes\":{},\"id\":\"1954\",\"type\":\"Selection\"},{\"attributes\":{\"dimension\":1,\"ticker\":{\"id\":\"1871\",\"type\":\"BasicTicker\"}},\"id\":\"1874\",\"type\":\"Grid\"},{\"attributes\":{},\"id\":\"1863\",\"type\":\"LinearScale\"},{\"attributes\":{\"data_source\":{\"id\":\"1889\",\"type\":\"ColumnDataSource\"},\"glyph\":{\"id\":\"1890\",\"type\":\"Circle\"},\"hover_glyph\":null,\"muted_glyph\":null,\"nonselection_glyph\":{\"id\":\"1891\",\"type\":\"Circle\"},\"selection_glyph\":null,\"view\":{\"id\":\"1893\",\"type\":\"CDSView\"}},\"id\":\"1892\",\"type\":\"GlyphRenderer\"},{\"attributes\":{},\"id\":\"1861\",\"type\":\"LinearScale\"},{\"attributes\":{\"callback\":null,\"data\":{\"x\":[7347611.811881752,2231936.842697963,291359.0040101303,173718.90271772936,1952250.4340047385,-7020361.031362647,-6878952.374894387,-7255781.407372113,5001576.195269873,-7790434.359759396,14971466.530680537,1572551.7989506412,5292795.273336327,-8530236.075546086,5626305.118228091,10045260.306044666,-6630164.894657588,3120517.677250045,516594.8142882208,-9875161.64636288,259135.30598287217,-7208443.023416366,10063489.327528192,-7200742.783474787,1978009.7199424673,2649240.099424741,-5910822.2935395595,-7176929.709292753,12770795.344888672,2806979.273994317,-195317.35406602084,3325682.628058518,11678185.073579606,1418170.1160277503,-10943568.652057936,-2667201.9992814595,-9007095.594584502,2278516.7316349894,2075543.1394455435,-7946268.814856559,11557083.991152694,-8135354.247215039,4862717.062609131,1694244.183773139,-9372218.379246868,-619962.1268401558,1826098.906610086,-8796025.048502196,-7677836.563423531,3674210.5931490255,1704568.397436726,2632033.158624042,1116312.725621792,4737831.727957128,-6830309.3934026705,-7848655.760322907,-8766632.855222533,3324210.920832419,-9893144.174707694,1151196.831474729,4324334.976539849,2843375.872945558,3504552.455914833,4408340.082558184,-6607076.408619704,-765984.1621711297,18418023.473669942,2924881.7873185794,-307434.25158744754,-16130741.20901885,1312303.8706616233,-1713875.9648669194,4843265.414447736,1156139.557113211,-135449.7052915779,2555400.488775111,-4602159.55354479,-6866429.876759776,16115486.696164241,-10059363.664785417,-286357.1560958843,-1217909.127604622,-1664195.3665912547,-6565847.577251132,-8091286.1278320495,1384131.9856305702,-9641954.178862903,2159106.8824541164,-2067643.5250461262,8862362.797025086,13051107.038193071,6041760.583712739,4869506.637760445,-905910.6682791113,-505250.0674582948,3896676.39681106,1343627.4649869024,-8606645.26303667,15365525.812663617,-236765.30663015676,4093368.335169404,7490853.240358438,4207423.889389067,5297360.017128834,8297937.365945027,11548028.22259194,2773230.634136255,3994160.3894129717,3142240.3621862037,-1037728.507161513,2004714.6318183157,1061513.8473661146,2659109.6697885287,675911.9937945349,5199146.4301904645,3817072.853993635,12211480.97558833,8177208.610179287,-394370.43698376854,1603582.886992237,-1151911.3807402328,6408795.947981545,-11412856.062344443,3167788.4487667773,824462.7870255028,11471804.836365374,2141657.359067418,-941335.0009973998,3955589.831487378,10741041.017811919,1915767.480624009,9341465.12092997,587927.9719116142,18443957.505145364,19089610.38747711,-9465553.298288003,1044784.278829213,900512.0371161035,2413641.3276231824,16210307.092838865,1708569.768364874,6244093.902258279,7718845.061962059,3918031.9376417855,-8918821.299073422,16164415.754850766,-6501072.164149699,-8280212.158371657,13679373.949889734,2158498.7651972836,-946331.6492961982,-7399747.437150911,5697864.277426155,2779973.316640875,10763096.5115771,3330665.6868329295,-6978344.988226246,-6787114.459560079,-6812895.794945512,1386954.1088732583,748545.1154168659,4957819.847117635,-1611181.4684708961,2314285.3493277463,6175562.43675778,-1312758.4737639627,11556881.660227906,-7019486.545878035,2168397.718813227,1648022.6440913451,5088095.033983319,2792326.497163903,14230987.330146404,3367180.1271143225,8983601.52782163,3332956.971817356,-6224132.556941735,1864109.1050225182,913785.2982685697,4286676.928680546,7905199.075482517,11243586.976252394,14008930.479588103,107125.89071725206,-6820062.796503184,1063421.9155329415,3914989.1769544617,-8012093.873166642,3603308.721528717,3493568.3175153024,6044665.694182527,-319000.5886932,3875375.7374574887,-12519173.645502623,-7213837.172639422,-6235901.7894454645,7028712.887422274,-7367327.33287808,11833164.45152983,-1360304.6972772214,5297332.999760455,3091871.437159019,3323046.5427005077],\"y\":[4006697.9948068024,5033374.485251342,3269026.3761278116,5242560.013503629,-1379112.7611526162,2063778.893481914,1953151.2706231137,-4215825.439146412,4908103.771147313,1405045.8180043928,-2966034.634281245,6038169.199397249,4907920.862358999,2788830.107639997,3004289.444525694,2737247.158792791,1480470.3008478575,7081885.643812977,6557825.0644857995,1944150.333736434,1078417.463221378,3804555.653506401,3174922.826228646,-1886877.6141045205,5492485.0584660685,-2533634.321772482,-1208048.4251207698,2099191.6173365517,503652.045964344,5276861.095633336,1376398.7885492335,-374180.70029307203,1427765.9941434404,634574.3791652408,8709433.403744685,1799538.7206548299,2205504.7952420874,732778.9539206906,1727645.925118773,-4541452.58283768,4378196.258730091,436025.1771889628,-1331808.0390698402,-93275.08245190037,1116215.9117656967,851712.3961749667,5634198.264947646,2466308.538698649,1367967.3009754352,4152561.9886855586,6400233.1362355715,-320452.3711327174,7554682.237964948,1317123.8579705048,1739899.7501913495,2142498.5607876075,-158514.76863591466,3060634.487633799,1544339.3913668818,189889.11444101523,1730939.1572760206,8109811.043719806,-3068410.273538752,963528.0970473241,-6754118.077253773,8871920.719845658,-1970771.4834685375,9477583.046833294,5186994.1242726995,-1657213.5133283976,-65301.16830187891,1511150.8093076628,5186260.767189865,6640237.542459074,888231.7385091237,4732375.655885191,12808885.379142977,1359054.8881380162,1510235.5937909484,1769317.0485086283,6354662.489108583,1168231.774501562,1351108.6553751773,534264.7667854491,2147287.26424955,5146272.087655364,1669256.5566595553,5968682.089301647,9607249.586032275,2618211.17319292,-246640.1402762225,3839030.695184854,3900574.5212374628,7015515.296342961,7212727.73255858,3692776.9351752396,5281066.016536786,2055926.8833383678,4521989.589250809,6311994.666061467,3664710.234217253,6132992.3127727965,66779.56628395228,3418264.9625351597,5080758.568350509,2096411.323336386,7729692.533683592,4018475.435984004,-3449679.492785735,719843.918761745,3127337.741024879,5964407.186044218,7425414.113795115,6406063.624433397,-2198769.46159144,-1484658.1993069495,422194.11867905915,415371.22177928593,1961117.042989078,4289823.729331616,2303544.1409417363,-2305955.4460216253,2747015.98874761,5973957.754830663,5427257.084335768,5913850.031493914,5279894.316916456,3482694.866844558,-1952721.891237122,2414030.567013629,-2527179.0436307685,3280391.763900332,6818368.153369714,-2427676.2236478566,-5132729.019058203,1442268.2071276335,1969668.2958056137,1073038.0122804549,5100548.849063394,1784959.9584765334,10673610.510483082,2344858.623223185,3497091.701062835,3752306.714227854,951676.1767232715,-721118.9983259379,-2659643.1497105546,-1023246.5818111749,1320154.118623296,6823227.379084764,4807334.159167652,2064267.7371461433,2913377.7021259847,5756731.157298853,8854522.68578178,-221607.97632132043,1951647.4324034613,1562149.0561510392,1485417.6934887522,5456449.029483808,49416.81457233534,2768336.702982408,1616267.9656907,5499783.115483161,-519432.2590152922,956830.4210731342,151270.71639349422,2043497.0361420324,6225031.963525723,5798883.6568583315,529444.44537711,-3375688.6628061077,4353759.032081243,815824.9819277714,849942.2438939661,1803605.6581237293,460209.89503415505,9046423.865509667,5909140.087686703,4167342.4930250105,4654633.425282457,1702820.8297312486,-986740.2570509642,952554.7898509112,1170622.2607275255,4044866.710318929,4730498.3398606945,2491183.402258687,141909.85172622697,6274277.129908432,2741869.928567399,7193648.937629023,-700003.531069674,5729142.7925125435,2032282.3384007877,-3868722.2097652196,5124429.610591697,795116.3399470313,1879657.50827938,2781406.3353545726,1794218.884474312,-1512133.9207769544,-2155430.430876611]},\"selected\":{\"id\":\"1952\",\"type\":\"Selection\"},\"selection_policy\":{\"id\":\"1951\",\"type\":\"UnionRenderers\"}},\"id\":\"1889\",\"type\":\"ColumnDataSource\"},{\"attributes\":{\"callback\":null,\"data\":{\"nombre\":[\"Afghanistan\",\"Albania\",\"Algeria\",\"Andorra\",\"Angola\",\"Anguilla\",\"Antigua_and_Barbuda\",\"Argentina\",\"Armenia\",\"Aruba\",\"Australia\",\"Austria\",\"Azerbaijan\",\"Bahamas\",\"Bahrain\",\"Bangladesh\",\"Barbados\",\"Belarus\",\"Belgium\",\"Belize\",\"Benin\",\"Bermuda\",\"Bhutan\",\"Bolivia\",\"Bosnia_and_Herzegovina\",\"Botswana\",\"Brazil\",\"British_Virgin_Islands\",\"Brunei_Darussalam\",\"Bulgaria\",\"Burkina_Faso\",\"Burundi\",\"Cambodia\",\"Cameroon\",\"Canada\",\"Cape_Verde\",\"Cayman_Islands\",\"Central_African_Republic\",\"Chad\",\"Chile\",\"China\",\"Colombia\",\"Comoros\",\"Congo\",\"Costa_Rica\",\"Cote_dIvoire\",\"Croatia\",\"Cuba\",\"Cura\\u00e7ao\",\"Cyprus\",\"Czechia\",\"Democratic_Republic_of_the_Congo\",\"Denmark\",\"Djibouti\",\"Dominica\",\"Dominican_Republic\",\"Ecuador\",\"Egypt\",\"El_Salvador\",\"Equatorial_Guinea\",\"Eritrea\",\"Estonia\",\"Eswatini\",\"Ethiopia\",\"Falkland_Islands_(Malvinas)\",\"Faroe_Islands\",\"Fiji\",\"Finland\",\"France\",\"French_Polynesia\",\"Gabon\",\"Gambia\",\"Georgia\",\"Germany\",\"Ghana\",\"Greece\",\"Greenland\",\"Grenada\",\"Guam\",\"Guatemala\",\"Guernsey\",\"Guinea\",\"Guinea_Bissau\",\"Guyana\",\"Haiti\",\"Holy_See\",\"Honduras\",\"Hungary\",\"Iceland\",\"India\",\"Indonesia\",\"Iran\",\"Iraq\",\"Ireland\",\"Isle_of_Man\",\"Israel\",\"Italy\",\"Jamaica\",\"Japan\",\"Jersey\",\"Jordan\",\"Kazakhstan\",\"Kenya\",\"Kuwait\",\"Kyrgyzstan\",\"Laos\",\"Latvia\",\"Lebanon\",\"Lesotho\",\"Liberia\",\"Libya\",\"Liechtenstein\",\"Lithuania\",\"Luxembourg\",\"Madagascar\",\"Malawi\",\"Malaysia\",\"Maldives\",\"Mali\",\"Malta\",\"Mauritania\",\"Mauritius\",\"Mexico\",\"Moldova\",\"Monaco\",\"Mongolia\",\"Montenegro\",\"Morocco\",\"Mozambique\",\"Myanmar\",\"Namibia\",\"Nepal\",\"Netherlands\",\"New_Caledonia\",\"New_Zealand\",\"Nicaragua\",\"Niger\",\"Nigeria\",\"North_Macedonia\",\"Northern_Mariana_Islands\",\"Norway\",\"Oman\",\"Pakistan\",\"Palestine\",\"Panama\",\"Papua_New_Guinea\",\"Paraguay\",\"Peru\",\"Philippines\",\"Poland\",\"Portugal\",\"Puerto_Rico\",\"Qatar\",\"Romania\",\"Russia\",\"Rwanda\",\"Saint_Kitts_and_Nevis\",\"Saint_Lucia\",\"Saint_Vincent_and_the_Grenadines\",\"San_Marino\",\"Sao_Tome_and_Principe\",\"Saudi_Arabia\",\"Senegal\",\"Serbia\",\"Seychelles\",\"Sierra_Leone\",\"Singapore\",\"Sint_Maarten\",\"Slovakia\",\"Slovenia\",\"Somalia\",\"South_Africa\",\"South_Korea\",\"South_Sudan\",\"Sri_Lanka\",\"Sudan\",\"Suriname\",\"Sweden\",\"Switzerland\",\"Syria\",\"Tajikistan\",\"Thailand\",\"Timor_Leste\",\"Togo\",\"Trinidad_and_Tobago\",\"Tunisia\",\"Turkey\",\"Turks_and_Caicos_islands\",\"Uganda\",\"Ukraine\",\"United_Arab_Emirates\",\"United_Kingdom\",\"United_Republic_of_Tanzania\",\"United_States_of_America\",\"United_States_Virgin_Islands\",\"Uruguay\",\"Uzbekistan\",\"Venezuela\",\"Vietnam\",\"Western_Sahara\",\"Yemen\",\"Zambia\",\"Zimbabwe\"],\"x\":[7347611.811881752,2231936.842697963,291359.0040101303,173718.90271772936,1952250.4340047385,-7020361.031362647,-6878952.374894387,-7255781.407372113,5001576.195269873,-7790434.359759396,14971466.530680537,1572551.7989506412,5292795.273336327,-8530236.075546086,5626305.118228091,10045260.306044666,-6630164.894657588,3120517.677250045,516594.8142882208,-9875161.64636288,259135.30598287217,-7208443.023416366,10063489.327528192,-7200742.783474787,1978009.7199424673,2649240.099424741,-5910822.2935395595,-7176929.709292753,12770795.344888672,2806979.273994317,-195317.35406602084,3325682.628058518,11678185.073579606,1418170.1160277503,-10943568.652057936,-2667201.9992814595,-9007095.594584502,2278516.7316349894,2075543.1394455435,-7946268.814856559,11557083.991152694,-8135354.247215039,4862717.062609131,1694244.183773139,-9372218.379246868,-619962.1268401558,1826098.906610086,-8796025.048502196,-7677836.563423531,3674210.5931490255,1704568.397436726,2632033.158624042,1116312.725621792,4737831.727957128,-6830309.3934026705,-7848655.760322907,-8766632.855222533,3324210.920832419,-9893144.174707694,1151196.831474729,4324334.976539849,2843375.872945558,3504552.455914833,4408340.082558184,-6607076.408619704,-765984.1621711297,18418023.473669942,2924881.7873185794,-307434.25158744754,-16130741.20901885,1312303.8706616233,-1713875.9648669194,4843265.414447736,1156139.557113211,-135449.7052915779,2555400.488775111,-4602159.55354479,-6866429.876759776,16115486.696164241,-10059363.664785417,-286357.1560958843,-1217909.127604622,-1664195.3665912547,-6565847.577251132,-8091286.1278320495,1384131.9856305702,-9641954.178862903,2159106.8824541164,-2067643.5250461262,8862362.797025086,13051107.038193071,6041760.583712739,4869506.637760445,-905910.6682791113,-505250.0674582948,3896676.39681106,1343627.4649869024,-8606645.26303667,15365525.812663617,-236765.30663015676,4093368.335169404,7490853.240358438,4207423.889389067,5297360.017128834,8297937.365945027,11548028.22259194,2773230.634136255,3994160.3894129717,3142240.3621862037,-1037728.507161513,2004714.6318183157,1061513.8473661146,2659109.6697885287,675911.9937945349,5199146.4301904645,3817072.853993635,12211480.97558833,8177208.610179287,-394370.43698376854,1603582.886992237,-1151911.3807402328,6408795.947981545,-11412856.062344443,3167788.4487667773,824462.7870255028,11471804.836365374,2141657.359067418,-941335.0009973998,3955589.831487378,10741041.017811919,1915767.480624009,9341465.12092997,587927.9719116142,18443957.505145364,19089610.38747711,-9465553.298288003,1044784.278829213,900512.0371161035,2413641.3276231824,16210307.092838865,1708569.768364874,6244093.902258279,7718845.061962059,3918031.9376417855,-8918821.299073422,16164415.754850766,-6501072.164149699,-8280212.158371657,13679373.949889734,2158498.7651972836,-946331.6492961982,-7399747.437150911,5697864.277426155,2779973.316640875,10763096.5115771,3330665.6868329295,-6978344.988226246,-6787114.459560079,-6812895.794945512,1386954.1088732583,748545.1154168659,4957819.847117635,-1611181.4684708961,2314285.3493277463,6175562.43675778,-1312758.4737639627,11556881.660227906,-7019486.545878035,2168397.718813227,1648022.6440913451,5088095.033983319,2792326.497163903,14230987.330146404,3367180.1271143225,8983601.52782163,3332956.971817356,-6224132.556941735,1864109.1050225182,913785.2982685697,4286676.928680546,7905199.075482517,11243586.976252394,14008930.479588103,107125.89071725206,-6820062.796503184,1063421.9155329415,3914989.1769544617,-8012093.873166642,3603308.721528717,3493568.3175153024,6044665.694182527,-319000.5886932,3875375.7374574887,-12519173.645502623,-7213837.172639422,-6235901.7894454645,7028712.887422274,-7367327.33287808,11833164.45152983,-1360304.6972772214,5297332.999760455,3091871.437159019,3323046.5427005077],\"y\":[4006697.9948068024,5033374.485251342,3269026.3761278116,5242560.013503629,-1379112.7611526162,2063778.893481914,1953151.2706231137,-4215825.439146412,4908103.771147313,1405045.8180043928,-2966034.634281245,6038169.199397249,4907920.862358999,2788830.107639997,3004289.444525694,2737247.158792791,1480470.3008478575,7081885.643812977,6557825.0644857995,1944150.333736434,1078417.463221378,3804555.653506401,3174922.826228646,-1886877.6141045205,5492485.0584660685,-2533634.321772482,-1208048.4251207698,2099191.6173365517,503652.045964344,5276861.095633336,1376398.7885492335,-374180.70029307203,1427765.9941434404,634574.3791652408,8709433.403744685,1799538.7206548299,2205504.7952420874,732778.9539206906,1727645.925118773,-4541452.58283768,4378196.258730091,436025.1771889628,-1331808.0390698402,-93275.08245190037,1116215.9117656967,851712.3961749667,5634198.264947646,2466308.538698649,1367967.3009754352,4152561.9886855586,6400233.1362355715,-320452.3711327174,7554682.237964948,1317123.8579705048,1739899.7501913495,2142498.5607876075,-158514.76863591466,3060634.487633799,1544339.3913668818,189889.11444101523,1730939.1572760206,8109811.043719806,-3068410.273538752,963528.0970473241,-6754118.077253773,8871920.719845658,-1970771.4834685375,9477583.046833294,5186994.1242726995,-1657213.5133283976,-65301.16830187891,1511150.8093076628,5186260.767189865,6640237.542459074,888231.7385091237,4732375.655885191,12808885.379142977,1359054.8881380162,1510235.5937909484,1769317.0485086283,6354662.489108583,1168231.774501562,1351108.6553751773,534264.7667854491,2147287.26424955,5146272.087655364,1669256.5566595553,5968682.089301647,9607249.586032275,2618211.17319292,-246640.1402762225,3839030.695184854,3900574.5212374628,7015515.296342961,7212727.73255858,3692776.9351752396,5281066.016536786,2055926.8833383678,4521989.589250809,6311994.666061467,3664710.234217253,6132992.3127727965,66779.56628395228,3418264.9625351597,5080758.568350509,2096411.323336386,7729692.533683592,4018475.435984004,-3449679.492785735,719843.918761745,3127337.741024879,5964407.186044218,7425414.113795115,6406063.624433397,-2198769.46159144,-1484658.1993069495,422194.11867905915,415371.22177928593,1961117.042989078,4289823.729331616,2303544.1409417363,-2305955.4460216253,2747015.98874761,5973957.754830663,5427257.084335768,5913850.031493914,5279894.316916456,3482694.866844558,-1952721.891237122,2414030.567013629,-2527179.0436307685,3280391.763900332,6818368.153369714,-2427676.2236478566,-5132729.019058203,1442268.2071276335,1969668.2958056137,1073038.0122804549,5100548.849063394,1784959.9584765334,10673610.510483082,2344858.623223185,3497091.701062835,3752306.714227854,951676.1767232715,-721118.9983259379,-2659643.1497105546,-1023246.5818111749,1320154.118623296,6823227.379084764,4807334.159167652,2064267.7371461433,2913377.7021259847,5756731.157298853,8854522.68578178,-221607.97632132043,1951647.4324034613,1562149.0561510392,1485417.6934887522,5456449.029483808,49416.81457233534,2768336.702982408,1616267.9656907,5499783.115483161,-519432.2590152922,956830.4210731342,151270.71639349422,2043497.0361420324,6225031.963525723,5798883.6568583315,529444.44537711,-3375688.6628061077,4353759.032081243,815824.9819277714,849942.2438939661,1803605.6581237293,460209.89503415505,9046423.865509667,5909140.087686703,4167342.4930250105,4654633.425282457,1702820.8297312486,-986740.2570509642,952554.7898509112,1170622.2607275255,4044866.710318929,4730498.3398606945,2491183.402258687,141909.85172622697,6274277.129908432,2741869.928567399,7193648.937629023,-700003.531069674,5729142.7925125435,2032282.3384007877,-3868722.2097652196,5124429.610591697,795116.3399470313,1879657.50827938,2781406.3353545726,1794218.884474312,-1512133.9207769544,-2155430.430876611]},\"selected\":{\"id\":\"1954\",\"type\":\"Selection\"},\"selection_policy\":{\"id\":\"1953\",\"type\":\"UnionRenderers\"}},\"id\":\"1853\",\"type\":\"ColumnDataSource\"},{\"attributes\":{\"ticker\":{\"id\":\"1866\",\"type\":\"BasicTicker\"}},\"id\":\"1869\",\"type\":\"Grid\"},{\"attributes\":{\"tile_source\":{\"id\":\"1886\",\"type\":\"WMTSTileSource\"}},\"id\":\"1887\",\"type\":\"TileRenderer\"},{\"attributes\":{},\"id\":\"1951\",\"type\":\"UnionRenderers\"},{\"attributes\":{},\"id\":\"1878\",\"type\":\"ResetTool\"},{\"attributes\":{},\"id\":\"1875\",\"type\":\"PanTool\"},{\"attributes\":{\"formatter\":{\"id\":\"1948\",\"type\":\"BasicTickFormatter\"},\"ticker\":{\"id\":\"1866\",\"type\":\"BasicTicker\"}},\"id\":\"1865\",\"type\":\"LinearAxis\"},{\"attributes\":{\"formatter\":{\"id\":\"1950\",\"type\":\"BasicTickFormatter\"},\"ticker\":{\"id\":\"1871\",\"type\":\"BasicTicker\"}},\"id\":\"1870\",\"type\":\"LinearAxis\"},{\"attributes\":{\"attribution\":\"&copy; <a href=\\\"https://www.openstreetmap.org/copyright\\\">OpenStreetMap</a> contributors,&copy; <a href=\\\"https://cartodb.com/attributions\\\">CartoDB</a>\",\"url\":\"https://tiles.basemaps.cartocdn.com/light_all/{z}/{x}/{y}.png\"},\"id\":\"1886\",\"type\":\"WMTSTileSource\"},{\"attributes\":{},\"id\":\"1948\",\"type\":\"BasicTickFormatter\"},{\"attributes\":{},\"id\":\"1877\",\"type\":\"SaveTool\"},{\"attributes\":{},\"id\":\"1876\",\"type\":\"WheelZoomTool\"},{\"attributes\":{\"active_drag\":\"auto\",\"active_inspect\":\"auto\",\"active_multi\":null,\"active_scroll\":\"auto\",\"active_tap\":\"auto\",\"tools\":[{\"id\":\"1875\",\"type\":\"PanTool\"},{\"id\":\"1876\",\"type\":\"WheelZoomTool\"},{\"id\":\"1877\",\"type\":\"SaveTool\"},{\"id\":\"1878\",\"type\":\"ResetTool\"}]},\"id\":\"1879\",\"type\":\"Toolbar\"},{\"attributes\":{\"source\":{\"id\":\"1853\",\"type\":\"ColumnDataSource\"},\"text\":{\"field\":\"nombre\"},\"x\":{\"field\":\"x\"},\"y\":{\"field\":\"y\"}},\"id\":\"1884\",\"type\":\"LabelSet\"},{\"attributes\":{\"fill_alpha\":{\"value\":0.1},\"fill_color\":{\"value\":\"#1f77b4\"},\"line_alpha\":{\"value\":0.1},\"line_color\":{\"value\":\"#1f77b4\"},\"x\":{\"field\":\"x\"},\"y\":{\"field\":\"y\"}},\"id\":\"1891\",\"type\":\"Circle\"},{\"attributes\":{},\"id\":\"1871\",\"type\":\"BasicTicker\"},{\"attributes\":{\"source\":{\"id\":\"1889\",\"type\":\"ColumnDataSource\"}},\"id\":\"1893\",\"type\":\"CDSView\"},{\"attributes\":{\"text\":\"COVID-19\"},\"id\":\"1855\",\"type\":\"Title\"},{\"attributes\":{},\"id\":\"1952\",\"type\":\"Selection\"}],\"root_ids\":[\"1854\"]},\"title\":\"Bokeh Application\",\"version\":\"1.4.0\"}};\n",
              "  var render_items = [{\"docid\":\"679305c8-d6dc-4ee9-b8f4-06e87e8b4fb8\",\"roots\":{\"1854\":\"e9f42a6f-bca1-4912-a3af-1f1218a0a74e\"}}];\n",
              "  root.Bokeh.embed.embed_items_notebook(docs_json, render_items);\n",
              "\n",
              "  }\n",
              "  if (root.Bokeh !== undefined) {\n",
              "    embed_document(root);\n",
              "  } else {\n",
              "    var attempts = 0;\n",
              "    var timer = setInterval(function(root) {\n",
              "      if (root.Bokeh !== undefined) {\n",
              "        clearInterval(timer);\n",
              "        embed_document(root);\n",
              "      } else {\n",
              "        attempts++;\n",
              "        if (attempts > 100) {\n",
              "          clearInterval(timer);\n",
              "          console.log(\"Bokeh: ERROR: Unable to run BokehJS code because BokehJS library is missing\");\n",
              "        }\n",
              "      }\n",
              "    }, 10, root)\n",
              "  }\n",
              "})(window);"
            ],
            "application/vnd.bokehjs_exec.v0+json": ""
          },
          "metadata": {
            "tags": [],
            "application/vnd.bokehjs_exec.v0+json": {
              "id": "1854"
            }
          }
        }
      ]
    },
    {
      "cell_type": "markdown",
      "metadata": {
        "id": "7rYz-CbLzc-g",
        "colab_type": "text"
      },
      "source": [
        ""
      ]
    },
    {
      "cell_type": "markdown",
      "metadata": {
        "id": "A2Q7Yp_ocypC",
        "colab_type": "text"
      },
      "source": [
        "Resultado esperado:\n",
        "\n",
        "![Resultado](https://drive.google.com/uc?id=14g7vGEQW4y9THOTRZjzY2R3RibRetc3t)"
      ]
    },
    {
      "cell_type": "markdown",
      "metadata": {
        "id": "vC-CoIjzfmSL",
        "colab_type": "text"
      },
      "source": [
        "![Enlace](https://drive.google.com/uc?export=view&id=1SG6x3Jj5aX1gsOR8XESFcA_NN0KrddsR)\n",
        "# Ejercicio\n",
        "Elaborar una gráfica interactiva empleando Bokeh sobre alguno de los datos que estáis usando en vuestras investigaciones.\n",
        "\n",
        "Indicar las razones de selección de la gráfica, mostrar el resultado interactivo en este notebook o exportado a una página HTML."
      ]
    },
    {
      "cell_type": "markdown",
      "metadata": {
        "id": "9XJAEeO06EL0",
        "colab_type": "text"
      },
      "source": [
        "*Se ha utilizado un dataset devuelto por un algoritmo, mediante el cual comparamos diferentes algoritmos de clustering. He utilizado un diagrama de barra para mostrar que algoritmo es el que mejor medida de evaluación internal tiene con respecto al resto.*"
      ]
    },
    {
      "cell_type": "code",
      "metadata": {
        "id": "H2FRZqxOj6py",
        "colab_type": "code",
        "colab": {}
      },
      "source": [
        "import matplotlib.pyplot as plt\n",
        "import numpy as np\n",
        "import pandas as pd\n",
        "from bokeh.io import output_file, show\n",
        "from bokeh.models import ColumnDataSource\n",
        "from bokeh.plotting import figure\n",
        "from bokeh.transform import dodge\n",
        "from bokeh.palettes import Spectral6\n",
        "from bokeh.transform import factor_cmap\n",
        "\n",
        "datosCSV = pd.read_csv('clustering.csv')\n",
        "\n",
        "datosCSV = datosCSV[(datosCSV.Ranking == 1)]\n",
        "\n",
        "output_file(\"clustering.html\")\n",
        "\n",
        "algorithms = ['gmm','kmeans_arma','kmeans_rcpp','mini_kmeans']\n",
        "\n",
        "gmm = datosCSV[(datosCSV.Algorithm=='gmm')].groupby('Algorithm').max()\n",
        "kmeans_arma = datosCSV[(datosCSV.Algorithm=='kmeans_arma')].groupby('Algorithm').max()\n",
        "kmeans_rcpp = datosCSV[(datosCSV.Algorithm=='kmeans_rcpp')].groupby('Algorithm').max()\n",
        "mini_kmeans = datosCSV[(datosCSV.Algorithm=='mini_kmeans')].groupby('Algorithm').max()\n",
        "\n",
        "counts = []\n",
        "\n",
        "counts.append(float(gmm.dunn))\n",
        "counts.append(float(kmeans_arma.dunn))\n",
        "counts.append(float(kmeans_rcpp.dunn))\n",
        "counts.append(float(mini_kmeans.dunn))\n",
        "\n",
        "source = ColumnDataSource(data=dict(algorithms=algorithms, counts=counts))\n",
        "\n",
        "p = figure(x_range=algorithms, plot_height=350, toolbar_location=None, title=\"Algoritmos con mejor Medida Internal\")\n",
        "p.vbar(x='algorithms', top='counts', width=0.9, source=source, legend_field=\"algorithms\",\n",
        "       line_color='white', fill_color=factor_cmap('algorithms', palette=Spectral6, factors=algorithms))\n",
        "\n",
        "p.xgrid.grid_line_color = None\n",
        "p.y_range.start = 0\n",
        "p.y_range.end = 0.2\n",
        "p.legend.orientation = \"horizontal\"\n",
        "p.legend.location = \"top_center\"\n",
        "\n",
        "show(p)\n",
        "\n",
        "\n",
        "\n"
      ],
      "execution_count": 133,
      "outputs": []
    },
    {
      "cell_type": "markdown",
      "metadata": {
        "id": "VO97q2TqT6io",
        "colab_type": "text"
      },
      "source": [
        "Resultado esperado:\n",
        "\n",
        "**Este ejercicio no tiene resultado esperado. Dependerá de cada uno de los alumnos.**\n"
      ]
    }
  ]
}