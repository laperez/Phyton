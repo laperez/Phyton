{
  "nbformat": 4,
  "nbformat_minor": 0,
  "metadata": {
    "colab": {
      "name": "Introducción a SciPy - alumno",
      "provenance": [],
      "collapsed_sections": [],
      "toc_visible": true,
      "include_colab_link": true
    },
    "kernelspec": {
      "name": "python3",
      "display_name": "Python 3"
    }
  },
  "cells": [
    {
      "cell_type": "markdown",
      "metadata": {
        "id": "view-in-github",
        "colab_type": "text"
      },
      "source": [
        "<a href=\"https://colab.research.google.com/github/laperez/Phyton/blob/master/Introducci%C3%B3n_a_SciPy_alumno.ipynb\" target=\"_parent\"><img src=\"https://colab.research.google.com/assets/colab-badge.svg\" alt=\"Open In Colab\"/></a>"
      ]
    },
    {
      "cell_type": "markdown",
      "metadata": {
        "id": "dhvZG8nZA1z5",
        "colab_type": "text"
      },
      "source": [
        "# 1\\. Introducción a SciPy ![](https://scipy.org/_static/images/scipy_med.png)\n",
        "*Inicio rápido a Python para investigación. Cursos del Programa de Doctorado en TIC.*\n",
        "\n",
        "Arturo Montejo Ráez - amontejo@ujaen.es\n",
        "\n",
        "Departamento de Informática \n",
        "\n",
        "Universidad de Jaén\n",
        "\n",
        "---"
      ]
    },
    {
      "cell_type": "markdown",
      "metadata": {
        "id": "V7K4tTT3CxYd",
        "colab_type": "text"
      },
      "source": [
        "Vamos a contextualizar primer,o tecnológicamente y luego científicamente. **SciPy**. Más que una biblioteca, es un marco de trabajo para la programación científica en Python similar a entornos como Scilab, Octave o Matlab. Los componentes principales son los siguientes:\n",
        "\n",
        "![SciPy stack](https://drive.google.com/uc?id=15HT89IkCBQew4zOjJKNN2u4zK4sysdx4)\n",
        "\n",
        "* **Python**: El lenguaje base interpretado que se usa para programar. Hay [libros](https://www.casadellibro.com/libro-curso-de-programacion-python-manuales-imprescindibles/9788441541160/9598369) muy buenos para aprenderlo. 😁 \n",
        "* **IPython**: Un acceso al intérprete mediante una interfaz interactiva donde poder jugar con el código mediante celdas aisladas sobre un único *kernel*. Sobre SciPy se construyen otras herramientas de programación interactia como Jupyter.\n",
        "* **NumPy**: La biblioteca para trabajo con arrays multidimensionales (tensores y matrices). \n",
        "* **Pandas**: Biblioteca para lectura, escritura y manipulación de tablas de datos.\n",
        "* **SciPy**: Biblioteca que ofrece diversas herramientas para cálculo numérico (integración, interpolación, optimización, álgebra lineal, estadística...).\n",
        "* **SymPy**: Biblioteca que ofrece diversas herramientas para el cálculo simbólico (matrices, simplificación, cálculo de derivadas, integrales, límites, series...). Vamos a verla con más detalle en este cuaderno.\n",
        "* **Matplotlib**: Biblioteca para la **visualización de datos**. Esta biblioteca va a ser nuestro foco de atención para el resto del curso.\n",
        "\n",
        "Podemos visitar la web oficial de SciPy para acceder a toda la documentación:\n",
        "\n",
        "[![](https://docs.scipy.org/doc/scipy/reference/_static/img/scipy_org_logo.png)](https://scipy.org)\n"
      ]
    },
    {
      "cell_type": "markdown",
      "metadata": {
        "id": "RVDdtUwNCzzg",
        "colab_type": "text"
      },
      "source": [
        "# 2\\. Módulos de SciPy\n",
        "\n",
        "Estos son los [módulos principales de SciPy](https://docs.scipy.org/doc/scipy/reference/):\n",
        "\n",
        "| Submódulo | Descripción |\n",
        "| ---------- | ----------- |\n",
        "| cluster | Algoritmos de agrupamiento (mejor usar Scikit-learn) |\n",
        "| constants | Constantes físicas y matemáticas |\n",
        "| fftpack | Rutinas para la Transformada Rápida de Fourier |\n",
        "| integrate | Resolución numérica de integrales y ecuaciones diferenciales |\n",
        "| interpolate | Interpolación y curvas suaves |\n",
        "| io | Herramientas de entrada/salida |\n",
        "| linalg | Álgebra lineal (cálculos con vectores y matrices) |\n",
        "| ndimage | Procesamiento n-dimensional de imágenes |\n",
        "| odr | Regresión por distancia ortogonal |\n",
        "| optimize | Rutinas de optimización y búsqueda de raíces |\n",
        "| signal | Procesamiento de la señal |\n",
        "| sparse | Matrices dispersas y rutinas asociadas |\n",
        "| spatial | Algoritmos y estructuras de datos espaciales |\n",
        "| special | Funciones especiales |\n",
        "| stats | Distribuciones y funciones estadísticas |\n",
        "\n",
        "Veremos unos ejemplos de uso para algunos de ellos."
      ]
    },
    {
      "cell_type": "markdown",
      "metadata": {
        "id": "JOcG6Dd4IRa_",
        "colab_type": "text"
      },
      "source": [
        "# 3\\. Funciones básicas\n",
        "\n",
        "Además de los módulos anteriores, SciPy incorpora algunas funcionalidades básicas que merece la pena conocer:"
      ]
    },
    {
      "cell_type": "markdown",
      "metadata": {
        "id": "shfejSB9Icb4",
        "colab_type": "text"
      },
      "source": [
        "## 3.1. Generación de arrays\n",
        "\n",
        "Aunque tenemos toda la potencia de NumPy para generar tensores, SciPy le incorpora una sintaxis rápida de creación de datos."
      ]
    },
    {
      "cell_type": "code",
      "metadata": {
        "id": "YKijFCzMIbR_",
        "colab_type": "code",
        "colab": {}
      },
      "source": [
        "import numpy as np\n",
        "import matplotlib as mpl\n",
        "import matplotlib.pyplot as plt"
      ],
      "execution_count": null,
      "outputs": []
    },
    {
      "cell_type": "markdown",
      "metadata": {
        "id": "GMYYx8_lI-dK",
        "colab_type": "text"
      },
      "source": [
        "En lugar de usar:"
      ]
    },
    {
      "cell_type": "code",
      "metadata": {
        "id": "deXDkK55I7zz",
        "colab_type": "code",
        "colab": {}
      },
      "source": [
        "np.concatenate(([3], [0]*5, np.arange(-1, 1.002, 2/9.0)))"
      ],
      "execution_count": null,
      "outputs": []
    },
    {
      "cell_type": "markdown",
      "metadata": {
        "id": "ZuUWmgfaJAbn",
        "colab_type": "text"
      },
      "source": [
        "Podemos usar `r_[]` (*row concatenation*):"
      ]
    },
    {
      "cell_type": "code",
      "metadata": {
        "id": "KOOgs3BGI1BN",
        "colab_type": "code",
        "colab": {}
      },
      "source": [
        "np.r_[3,[0]*5,-1:1:10j]"
      ],
      "execution_count": null,
      "outputs": []
    },
    {
      "cell_type": "markdown",
      "metadata": {
        "id": "Ro_POnd9JeRG",
        "colab_type": "text"
      },
      "source": [
        "Con `mgrid` es sencillo crear arrays multidimensionales a partir de rangos específicos:"
      ]
    },
    {
      "cell_type": "code",
      "metadata": {
        "id": "H60sHU_7JlEM",
        "colab_type": "code",
        "colab": {}
      },
      "source": [
        "np.mgrid[0:5,0:5]"
      ],
      "execution_count": null,
      "outputs": []
    },
    {
      "cell_type": "code",
      "metadata": {
        "id": "Ca1ZxTXxJrhQ",
        "colab_type": "code",
        "colab": {}
      },
      "source": [
        "np.mgrid[0:5:4j,0:5:4j]"
      ],
      "execution_count": null,
      "outputs": []
    },
    {
      "cell_type": "markdown",
      "metadata": {
        "id": "uah74_cUJtCx",
        "colab_type": "text"
      },
      "source": [
        "Como puede verse, la notación `j` se usa para indicar el número de valores a generar en el intervalo cerrado dado."
      ]
    },
    {
      "cell_type": "markdown",
      "metadata": {
        "id": "w969Pxs7KXu2",
        "colab_type": "text"
      },
      "source": [
        "## 3.2. Polinomios\n",
        "\n",
        "Aunque disponemos de [SymPy](https://www.sympy.org/en/index.html) para cálculo simbólico, SciPy incorpora la posibilidad de trabajar con polinomios y hacer operaciones de integración, derivación, simplificación, etc. con ellos."
      ]
    },
    {
      "cell_type": "code",
      "metadata": {
        "id": "l4dmKXrrK7Qx",
        "colab_type": "code",
        "colab": {
          "base_uri": "https://localhost:8080/",
          "height": 52
        },
        "outputId": "4ddf9313-1319-4c3f-afc8-68817ae018b4"
      },
      "source": [
        "from scipy import poly1d\n",
        "\n",
        "p = poly1d([8,2,5,6])\n",
        "print(p)"
      ],
      "execution_count": 1,
      "outputs": [
        {
          "output_type": "stream",
          "text": [
            "   3     2\n",
            "8 x + 2 x + 5 x + 6\n"
          ],
          "name": "stdout"
        }
      ]
    },
    {
      "cell_type": "code",
      "metadata": {
        "id": "DPHypzyeLNjZ",
        "colab_type": "code",
        "colab": {
          "base_uri": "https://localhost:8080/",
          "height": 52
        },
        "outputId": "52fafef3-bd80-4ac6-c177-c0eae722aedb"
      },
      "source": [
        "print(p*p)"
      ],
      "execution_count": 2,
      "outputs": [
        {
          "output_type": "stream",
          "text": [
            "    6      5      4       3      2\n",
            "64 x + 32 x + 84 x + 116 x + 49 x + 60 x + 36\n"
          ],
          "name": "stdout"
        }
      ]
    },
    {
      "cell_type": "code",
      "metadata": {
        "id": "KKeesSiuLRc7",
        "colab_type": "code",
        "colab": {
          "base_uri": "https://localhost:8080/",
          "height": 52
        },
        "outputId": "b281702d-dffc-4b26-b54a-a119d1ce2ca6"
      },
      "source": [
        "# Derivada de p\n",
        "print(p.deriv())"
      ],
      "execution_count": 3,
      "outputs": [
        {
          "output_type": "stream",
          "text": [
            "    2\n",
            "24 x + 4 x + 5\n"
          ],
          "name": "stdout"
        }
      ]
    },
    {
      "cell_type": "code",
      "metadata": {
        "id": "-j6H5RKZL942",
        "colab_type": "code",
        "colab": {
          "base_uri": "https://localhost:8080/",
          "height": 52
        },
        "outputId": "905ac448-48ef-41ee-df89-2b6072980c36"
      },
      "source": [
        "# Derivada segunda de p\n",
        "print(p.deriv(m=2))"
      ],
      "execution_count": 4,
      "outputs": [
        {
          "output_type": "stream",
          "text": [
            " \n",
            "48 x + 4\n"
          ],
          "name": "stdout"
        }
      ]
    },
    {
      "cell_type": "code",
      "metadata": {
        "id": "HwxPdxqVLmLe",
        "colab_type": "code",
        "colab": {
          "base_uri": "https://localhost:8080/",
          "height": 52
        },
        "outputId": "d437940d-0d93-4705-ceff-e20eeebcc7d3"
      },
      "source": [
        "# Integral de p en 5\n",
        "print(p.integ(k=5))"
      ],
      "execution_count": 5,
      "outputs": [
        {
          "output_type": "stream",
          "text": [
            "   4          3       2\n",
            "2 x + 0.6667 x + 2.5 x + 6 x + 5\n"
          ],
          "name": "stdout"
        }
      ]
    },
    {
      "cell_type": "code",
      "metadata": {
        "id": "EnRZRqQsMjF7",
        "colab_type": "code",
        "colab": {
          "base_uri": "https://localhost:8080/",
          "height": 35
        },
        "outputId": "411e5542-b6f6-494f-e16c-16fd27a93367"
      },
      "source": [
        "# Raíces de p\n",
        "p.r"
      ],
      "execution_count": 6,
      "outputs": [
        {
          "output_type": "execute_result",
          "data": {
            "text/plain": [
              "array([ 0.25+0.96824584j,  0.25-0.96824584j, -0.75+0.j        ])"
            ]
          },
          "metadata": {
            "tags": []
          },
          "execution_count": 6
        }
      ]
    },
    {
      "cell_type": "code",
      "metadata": {
        "id": "c6RyHod7MzoY",
        "colab_type": "code",
        "colab": {
          "base_uri": "https://localhost:8080/",
          "height": 35
        },
        "outputId": "f2b247d7-de98-4f89-d4a2-ec8ec810830b"
      },
      "source": [
        "# Evaluación del polinomio\n",
        "p(3)"
      ],
      "execution_count": 7,
      "outputs": [
        {
          "output_type": "execute_result",
          "data": {
            "text/plain": [
              "255"
            ]
          },
          "metadata": {
            "tags": []
          },
          "execution_count": 7
        }
      ]
    },
    {
      "cell_type": "code",
      "metadata": {
        "id": "-oiR1ka6M4eI",
        "colab_type": "code",
        "colab": {
          "base_uri": "https://localhost:8080/",
          "height": 35
        },
        "outputId": "80f27815-e610-4fcb-c745-e0edb232d64b"
      },
      "source": [
        "p(p.r[0])"
      ],
      "execution_count": 8,
      "outputs": [
        {
          "output_type": "execute_result",
          "data": {
            "text/plain": [
              "(-4.440892098500626e-15+2.220446049250313e-15j)"
            ]
          },
          "metadata": {
            "tags": []
          },
          "execution_count": 8
        }
      ]
    },
    {
      "cell_type": "markdown",
      "metadata": {
        "id": "qEbO_iZ5NExM",
        "colab_type": "text"
      },
      "source": [
        "Para conocer todas las posibles funciones matemáticas (factorial, combinatoria...) debemos ir al módulo [scipy.special](https://docs.scipy.org/doc/scipy/reference/special.html#module-scipy.special)"
      ]
    },
    {
      "cell_type": "markdown",
      "metadata": {
        "id": "yva4xvMQNTBn",
        "colab_type": "text"
      },
      "source": [
        "# 4\\. Optimización\n",
        "\n",
        "El módulo [scipy.optimize](https://docs.scipy.org/doc/scipy/reference/tutorial/optimize.html) proporciona varios métodos de optimización (ajuste, búsqueda de raíces, búsqueda de mínimos y máximos...). Veamos un ejemplo para un ajuste por mínimos cuadrados de una función dada (basada en el modelo que queremos usar para el ajuste):"
      ]
    },
    {
      "cell_type": "code",
      "metadata": {
        "id": "G59LKQWJOaru",
        "colab_type": "code",
        "colab": {
          "base_uri": "https://localhost:8080/",
          "height": 89
        },
        "outputId": "35969926-a29d-4400-86f4-823b32568849"
      },
      "source": [
        "import numpy as np\n",
        "from scipy.optimize import least_squares\n",
        "\n",
        "#\n",
        "# Este ejemplo trata de calcular los parámetros de una reacción enzimática\n",
        "# definida en el modelo indicado.\n",
        "#\n",
        "\n",
        "def model(x, u): # x son los parámetros a ajustar, u representa las variables independientes\n",
        "    return x[0] * (u ** 2 + x[1] * u) / (u ** 2 + x[2] * u + x[3])\n",
        "\n",
        "def fun(x, u, y): # esta función calcula la diferencia entre los valores esperados y los valores calculados con los parámetros x\n",
        "    return model(x, u) - y\n",
        "\n",
        "# Variables independientes\n",
        "u = np.array([4.0, 2.0, 1.0, 5.0e-1, 2.5e-1, 1.67e-1, 1.25e-1, 1.0e-1, 8.33e-2, 7.14e-2, 6.25e-2])\n",
        "\n",
        "# Valores medidos \n",
        "y = np.array([1.957e-1, 1.947e-1, 1.735e-1, 1.6e-1, 8.44e-2, 6.27e-2, 4.56e-2, 3.42e-2, 3.23e-2, 2.35e-2, 2.46e-2])\n",
        "\n",
        "# Valores de inicialización\n",
        "x0 = np.array([2.5, 3.9, 4.15, 3.9]) \n",
        "\n",
        "res = least_squares(fun, x0, bounds=(0, 100), args=(u, y), verbose=1)\n",
        "\n",
        "# \"residuos\" (valores finales de ajuste)\n",
        "res.x"
      ],
      "execution_count": 10,
      "outputs": [
        {
          "output_type": "stream",
          "text": [
            "`ftol` termination condition is satisfied.\n",
            "Function evaluations 131, initial cost 4.4383e+00, final cost 1.5375e-04, first-order optimality 4.43e-08.\n"
          ],
          "name": "stdout"
        },
        {
          "output_type": "execute_result",
          "data": {
            "text/plain": [
              "array([0.192806  , 0.19130333, 0.12306046, 0.13607206])"
            ]
          },
          "metadata": {
            "tags": []
          },
          "execution_count": 10
        }
      ]
    },
    {
      "cell_type": "code",
      "metadata": {
        "id": "pIjOQnB0PClg",
        "colab_type": "code",
        "colab": {}
      },
      "source": [
        "import matplotlib.pyplot as plt\n",
        "\n",
        "u_test = np.linspace(0, 5)\n",
        "y_test = model(res.x, u_test)\n",
        "plt.plot(u, y, 'o', markersize=4, label='datos')\n",
        "plt.plot(u_test, y_test, label='modelo ajustado')\n",
        "plt.xlabel(\"u\")\n",
        "plt.ylabel(\"y\")\n",
        "plt.legend(loc='lower right')\n",
        "plt.show()"
      ],
      "execution_count": null,
      "outputs": []
    },
    {
      "cell_type": "markdown",
      "metadata": {
        "id": "pp1x2__TSnHe",
        "colab_type": "text"
      },
      "source": [
        "# 5\\. Interpolación\n",
        "\n",
        "Las funciones de interpolación permiten generar datos a partir de valores conocidos mediante una estimación que dependerá del método elegido para interpolar: lineal, cúbico, con curvas paramétricas (*splines*)."
      ]
    },
    {
      "cell_type": "code",
      "metadata": {
        "id": "hOOMLNI8S7OY",
        "colab_type": "code",
        "colab": {
          "base_uri": "https://localhost:8080/",
          "height": 265
        },
        "outputId": "91e40cff-fbba-453d-cae0-74faae28ae82"
      },
      "source": [
        "import numpy as np\n",
        "from scipy.interpolate import interp1d\n",
        "\n",
        "x = np.linspace(0, 10, num=11, endpoint=True)\n",
        "y = np.cos(-x**2/9.0)\n",
        "f = interp1d(x, y)\n",
        "f2 = interp1d(x, y, kind='cubic')\n",
        "xnew = np.linspace(0, 10, num=41, endpoint=True)\n",
        "\n",
        "import matplotlib.pyplot as plt\n",
        "plt.plot(x, y, 'o', xnew, f(xnew), '-', xnew, f2(xnew), '--')\n",
        "plt.legend(['datos', 'lineal', 'cúbico'], loc='best')\n",
        "\n",
        "plt.show()"
      ],
      "execution_count": 11,
      "outputs": [
        {
          "output_type": "display_data",
          "data": {
            "image/png": "[encoded data removed]",
            "text/plain": [
              "<Figure size 432x288 with 1 Axes>"
            ]
          },
          "metadata": {
            "tags": [],
            "needs_background": "light"
          }
        }
      ]
    },
    {
      "cell_type": "code",
      "metadata": {
        "id": "AuzOiYHATNOr",
        "colab_type": "code",
        "colab": {
          "base_uri": "https://localhost:8080/",
          "height": 265
        },
        "outputId": "790ed135-46b4-4bb8-a152-5f0dac176da0"
      },
      "source": [
        "f1 = interp1d(x, y, kind='nearest')  # se opta por el valor más cercano\n",
        "f2 = interp1d(x, y, kind='previous') # valor anterior\n",
        "f3 = interp1d(x, y, kind='next')     # valor siguiente\n",
        "\n",
        "new = np.linspace(0, 10, num=1001, endpoint=True)\n",
        "\n",
        "plt.plot(x, y, 'o')\n",
        "plt.plot(xnew, f1(xnew), '-', xnew, f2(xnew), '--', xnew, f3(xnew), ':')\n",
        "plt.legend(['datos', 'nearest', 'previous', 'next'], loc='best')\n",
        "plt.show()"
      ],
      "execution_count": 12,
      "outputs": [
        {
          "output_type": "display_data",
          "data": {
            "image/png": "[encoded data removed]",
            "text/plain": [
              "<Figure size 432x288 with 1 Axes>"
            ]
          },
          "metadata": {
            "tags": [],
            "needs_background": "light"
          }
        }
      ]
    },
    {
      "cell_type": "code",
      "metadata": {
        "id": "Z9pejRxRToCy",
        "colab_type": "code",
        "colab": {
          "base_uri": "https://localhost:8080/",
          "height": 281
        },
        "outputId": "ad6b5636-1bcc-4b1f-bd63-27a1810b59f7"
      },
      "source": [
        "# definimos una malla de valores dispersos de 20x20\n",
        "x_edges, y_edges = np.mgrid[-1:1:21j, -1:1:21j]\n",
        "x = x_edges[:-1, :-1] + np.diff(x_edges[:2, 0])[0] / 2.\n",
        "y = y_edges[:-1, :-1] + np.diff(y_edges[0, :2])[0] / 2.\n",
        "z = (x+y) * np.exp(-6.0*(x*x+y*y))\n",
        "\n",
        "plt.figure()\n",
        "lims = dict(cmap='RdBu_r', vmin=-0.25, vmax=0.25)\n",
        "plt.pcolormesh(x_edges, y_edges, z, shading='flat', **lims)\n",
        "plt.colorbar()\n",
        "plt.title(\"Función muestreada de manera dispersa\")\n",
        "plt.show()"
      ],
      "execution_count": 13,
      "outputs": [
        {
          "output_type": "display_data",
          "data": {
            "image/png": "[encoded data removed]",
            "text/plain": [
              "<Figure size 432x288 with 2 Axes>"
            ]
          },
          "metadata": {
            "tags": [],
            "needs_background": "light"
          }
        }
      ]
    },
    {
      "cell_type": "code",
      "metadata": {
        "id": "2tYn2Dj1T4w0",
        "colab_type": "code",
        "colab": {
          "base_uri": "https://localhost:8080/",
          "height": 281
        },
        "outputId": "a9956c14-8871-4c24-f919-46816db7ce8f"
      },
      "source": [
        "# Interpolamos con un nuevo grid de 70x70\n",
        "from scipy.interpolate import bisplrep, bisplev\n",
        "\n",
        "xnew_edges, ynew_edges = np.mgrid[-1:1:71j, -1:1:71j]\n",
        "xnew = xnew_edges[:-1, :-1] + np.diff(xnew_edges[:2, 0])[0] / 2.\n",
        "ynew = ynew_edges[:-1, :-1] + np.diff(ynew_edges[0, :2])[0] / 2.\n",
        "tck = bisplrep(x, y, z, s=0)                 # interpolamos\n",
        "znew = bisplev(xnew[:,0], ynew[0,:], tck)    # evaluamos la interpolación\n",
        "\n",
        "plt.figure()\n",
        "plt.pcolormesh(xnew_edges, ynew_edges, znew, shading='flat', **lims)\n",
        "plt.colorbar()\n",
        "plt.title(\"Función interpolada con un spline 2-D\")\n",
        "plt.show()"
      ],
      "execution_count": 14,
      "outputs": [
        {
          "output_type": "display_data",
          "data": {
            "image/png": "[encoded data removed]",
            "text/plain": [
              "<Figure size 432x288 with 2 Axes>"
            ]
          },
          "metadata": {
            "tags": [],
            "needs_background": "light"
          }
        }
      ]
    },
    {
      "cell_type": "markdown",
      "metadata": {
        "id": "WChQia5iUwwm",
        "colab_type": "text"
      },
      "source": [
        "Todos estos ejemplos están sacados del tutorial oficial de SciPy."
      ]
    },
    {
      "cell_type": "markdown",
      "metadata": {
        "id": "Anbiczd7V7wG",
        "colab_type": "text"
      },
      "source": [
        "# 6\\. Álgebra lineal\n",
        "\n",
        "Un nutrido conjunto de operaciones con matrices y vectores (transformadas, descomposiciones, inversas, resolución de sistemas lineales, cálculo de determinantes, etc.) están integradas en el módulo [scipy.linalg](https://docs.scipy.org/doc/scipy/reference/tutorial/linalg.html).\n",
        "\n",
        "Veamos un ejemplo para realizar una descomposición en valores singulares (SVD). La descomposición SVD descompone cualquier matriz M en tres matrices: dos externas de rotación y una de escalado (esta última es la que contiene los valores singulares).\n",
        "\n",
        "<img src=\"https://upload.wikimedia.org/wikipedia/commons/thumb/b/bb/Singular-Value-Decomposition.svg/1200px-Singular-Value-Decomposition.svg.png\" width=\"400\">"
      ]
    },
    {
      "cell_type": "code",
      "metadata": {
        "id": "E9c68H1wXgYQ",
        "colab_type": "code",
        "colab": {
          "base_uri": "https://localhost:8080/",
          "height": 52
        },
        "outputId": "98bfbdef-adaf-4ce3-9f53-87bfb99086ac"
      },
      "source": [
        "import numpy as np\n",
        "from scipy import linalg\n",
        "\n",
        "# Definimos una matrix M\n",
        "M = np.mat('[1 3 2; 1 2 3]')\n",
        "\n",
        "# Descomponemos\n",
        "m,n = M.shape\n",
        "U,s,Vh = linalg.svd(M)\n",
        "Sig = np.mat(linalg.diagsvd(s,m,n))\n",
        "U, Vh = np.mat(U), np.mat(Vh)\n",
        "\n",
        "# Primera rotación\n",
        "U"
      ],
      "execution_count": 15,
      "outputs": [
        {
          "output_type": "execute_result",
          "data": {
            "text/plain": [
              "matrix([[-0.70710678, -0.70710678],\n",
              "        [-0.70710678,  0.70710678]])"
            ]
          },
          "metadata": {
            "tags": []
          },
          "execution_count": 15
        }
      ]
    },
    {
      "cell_type": "code",
      "metadata": {
        "id": "PqX-Hf8WX6Y7",
        "colab_type": "code",
        "colab": {
          "base_uri": "https://localhost:8080/",
          "height": 52
        },
        "outputId": "cf070c0a-fc3b-4a84-9c59-67a2fb06cc11"
      },
      "source": [
        "# Valores singulares\n",
        "Sig"
      ],
      "execution_count": 16,
      "outputs": [
        {
          "output_type": "execute_result",
          "data": {
            "text/plain": [
              "matrix([[5.19615242, 0.        , 0.        ],\n",
              "        [0.        , 1.        , 0.        ]])"
            ]
          },
          "metadata": {
            "tags": []
          },
          "execution_count": 16
        }
      ]
    },
    {
      "cell_type": "code",
      "metadata": {
        "id": "sueH8cn5X9wl",
        "colab_type": "code",
        "colab": {
          "base_uri": "https://localhost:8080/",
          "height": 69
        },
        "outputId": "c7b7a7e9-08f2-40d0-93bd-2e5dedd1388e"
      },
      "source": [
        "# Segunda rotación\n",
        "Vh"
      ],
      "execution_count": 17,
      "outputs": [
        {
          "output_type": "execute_result",
          "data": {
            "text/plain": [
              "matrix([[-2.72165527e-01, -6.80413817e-01, -6.80413817e-01],\n",
              "        [ 7.54115369e-16, -7.07106781e-01,  7.07106781e-01],\n",
              "        [-9.62250449e-01,  1.92450090e-01,  1.92450090e-01]])"
            ]
          },
          "metadata": {
            "tags": []
          },
          "execution_count": 17
        }
      ]
    },
    {
      "cell_type": "code",
      "metadata": {
        "id": "bNpAFPigYXI2",
        "colab_type": "code",
        "colab": {
          "base_uri": "https://localhost:8080/",
          "height": 52
        },
        "outputId": "de58ba4b-45ea-4fef-c9f8-1fdfd5efd0b9"
      },
      "source": [
        "# Comprobamos recomposición\n",
        "U.dot(Sig.dot(Vh))"
      ],
      "execution_count": 18,
      "outputs": [
        {
          "output_type": "execute_result",
          "data": {
            "text/plain": [
              "matrix([[1., 3., 2.],\n",
              "        [1., 2., 3.]])"
            ]
          },
          "metadata": {
            "tags": []
          },
          "execution_count": 18
        }
      ]
    },
    {
      "cell_type": "code",
      "metadata": {
        "id": "ndVh6wdBYs3h",
        "colab_type": "code",
        "colab": {
          "base_uri": "https://localhost:8080/",
          "height": 52
        },
        "outputId": "004209b9-9095-448c-d4ff-fea0120ca08d"
      },
      "source": [
        "# Reducimos a un único valores singular\n",
        "Sigr = np.mat([[Sig[0,0], 0, 0], [0,0,0]])\n",
        "Sigr"
      ],
      "execution_count": 19,
      "outputs": [
        {
          "output_type": "execute_result",
          "data": {
            "text/plain": [
              "matrix([[5.19615242, 0.        , 0.        ],\n",
              "        [0.        , 0.        , 0.        ]])"
            ]
          },
          "metadata": {
            "tags": []
          },
          "execution_count": 19
        }
      ]
    },
    {
      "cell_type": "code",
      "metadata": {
        "id": "59jlA0xrZBxR",
        "colab_type": "code",
        "colab": {}
      },
      "source": [
        "# Matriz aproximada\n",
        "Mr = U.dot(Sigr.dot(Vh))\n",
        "Mr"
      ],
      "execution_count": null,
      "outputs": []
    },
    {
      "cell_type": "code",
      "metadata": {
        "id": "ztKJugwHZIvB",
        "colab_type": "code",
        "colab": {}
      },
      "source": [
        "# Comprobamos fidelidad sobre una nueva matriz aleatoria\n",
        "A = np.mat(np.random.rand(4,2))\n",
        "A"
      ],
      "execution_count": null,
      "outputs": []
    },
    {
      "cell_type": "code",
      "metadata": {
        "id": "kqphyEH0ZtaJ",
        "colab_type": "code",
        "colab": {}
      },
      "source": [
        "A.dot(M)"
      ],
      "execution_count": null,
      "outputs": []
    },
    {
      "cell_type": "code",
      "metadata": {
        "id": "B8LRJyYzZanz",
        "colab_type": "code",
        "colab": {}
      },
      "source": [
        "A.dot(Mr)"
      ],
      "execution_count": null,
      "outputs": []
    },
    {
      "cell_type": "markdown",
      "metadata": {
        "id": "F_ecgqjiahhl",
        "colab_type": "text"
      },
      "source": [
        "# 7\\. Funciones espaciales\n",
        "\n",
        "El módulo [scipy.spatial](https://docs.scipy.org/doc/scipy/reference/tutorial/spatial.html) proporciona herramientas interesantes, como el cálculo de la envolvente (*convex-hull*), particionado de datos en diagramas de Voronoi, triangulación, etc.\n",
        "\n",
        "Vamos a ver un ejemplo de cálculo de la envolven para una nube de puntos dada:"
      ]
    },
    {
      "cell_type": "code",
      "metadata": {
        "id": "-UTrFJSpa-Wy",
        "colab_type": "code",
        "colab": {
          "base_uri": "https://localhost:8080/",
          "height": 35
        },
        "outputId": "477fc34f-70b2-4763-aa49-95bb175b4979"
      },
      "source": [
        "import numpy as np\n",
        "from scipy.spatial import ConvexHull\n",
        "points = np.random.rand(30, 2)   # 30 puntos con sus coordenadas x e y (2D)\n",
        "hull = ConvexHull(points)\n",
        "hull"
      ],
      "execution_count": 20,
      "outputs": [
        {
          "output_type": "execute_result",
          "data": {
            "text/plain": [
              "<scipy.spatial.qhull.ConvexHull at 0x7f6d1e995e10>"
            ]
          },
          "metadata": {
            "tags": []
          },
          "execution_count": 20
        }
      ]
    },
    {
      "cell_type": "code",
      "metadata": {
        "id": "eWQl0pocbFhF",
        "colab_type": "code",
        "colab": {
          "base_uri": "https://localhost:8080/",
          "height": 267
        },
        "outputId": "8ab14834-9bbe-41b9-fddc-0b0f27b8f6a9"
      },
      "source": [
        "plt.plot(points[:,0], points[:,1], 'o')\n",
        "for simplex in hull.simplices:\n",
        "    plt.plot(points[simplex,0], points[simplex,1], 'k-')\n",
        "plt.show()"
      ],
      "execution_count": 21,
      "outputs": [
        {
          "output_type": "display_data",
          "data": {
            "image/png": "[encoded data removed]",
            "text/plain": [
              "<Figure size 432x288 with 1 Axes>"
            ]
          },
          "metadata": {
            "tags": [],
            "needs_background": "light"
          }
        }
      ]
    },
    {
      "cell_type": "markdown",
      "metadata": {
        "id": "q_gGR-9eb8rh",
        "colab_type": "text"
      },
      "source": [
        "# 8\\. Análisis de la señal\n",
        "\n",
        "El módulo [scipy.signal](https://docs.scipy.org/doc/scipy/reference/tutorial/signal.html) proporciona herramientas para el filtrado de la señal (1D y 2D) y el análisis espectral.\n",
        "\n",
        "Veamos un ejemplo de análisis espectral usando el método de Welch.\n"
      ]
    },
    {
      "cell_type": "code",
      "metadata": {
        "id": "-ic_URVccDAR",
        "colab_type": "code",
        "colab": {}
      },
      "source": [
        "import scipy.signal as signal\n",
        "\n",
        "fs = 10e3\n",
        "N = 1e3\n",
        "amp = 2*np.sqrt(2)\n",
        "freq = 1270.0\n",
        "noise_power = 0.001 * fs / 2\n",
        "time = np.arange(N) / fs\n",
        "x = amp*np.sin(2*np.pi*freq*time)\n",
        "x += np.random.normal(scale=np.sqrt(noise_power), size=time.shape)\n",
        "\n",
        "plt.semilogy(x)\n",
        "plt.grid()\n",
        "plt.show()"
      ],
      "execution_count": null,
      "outputs": []
    },
    {
      "cell_type": "code",
      "metadata": {
        "id": "eYJxpKV8cMxH",
        "colab_type": "code",
        "colab": {}
      },
      "source": [
        "f, Pwelch_spec = signal.welch(x, fs, scaling='spectrum')\n",
        "\n",
        "plt.semilogy(f, Pwelch_spec)\n",
        "plt.xlabel('frequency [Hz]')\n",
        "plt.ylabel('PSD')\n",
        "plt.grid()\n",
        "plt.show()\n"
      ],
      "execution_count": null,
      "outputs": []
    },
    {
      "cell_type": "markdown",
      "metadata": {
        "id": "2_Rrb9QKYM9N",
        "colab_type": "text"
      },
      "source": [
        "# Ejercicios"
      ]
    },
    {
      "cell_type": "markdown",
      "metadata": {
        "id": "-bpz8_GRYP4j",
        "colab_type": "text"
      },
      "source": [
        "1. Calcula la suma de las áreas que quedan delimitadas por el eje de abcisas y la función ![](https://drive.google.com/uc?id=1uTmCxIbPX9mqZJCM95gws-hzyNxXuPGF).\n",
        "\n",
        "![](https://drive.google.com/uc?id=1_tbFDsWnp_frU6RZZocMmqr9jY407Y_k)\n",
        "\n",
        "Sugerencias: \n",
        "* Crea un polinomio\n",
        "* Calcula sus raíces\n",
        "* Calcula las dos integrales entre los intervalos que definen las tres raíces resultantes (utiliza [scipy.integrate.quad](https://docs.scipy.org/doc/scipy/reference/generated/scipy.integrate.quad.html))"
      ]
    },
    {
      "cell_type": "code",
      "metadata": {
        "id": "ZWOEZhk5Zlh1",
        "colab_type": "code",
        "colab": {
          "base_uri": "https://localhost:8080/",
          "height": 269
        },
        "outputId": "3456f0a7-4c3b-46f2-d45c-a1314735bdc3"
      },
      "source": [
        "# Mostramos la función\n",
        "def fun(x):\n",
        "  return x**3 - 6*x**2 + 8*x\n",
        "\n",
        "x = np.linspace(-1, 6, 100)\n",
        "y = fun(x)\n",
        "plt.plot(x, y)\n",
        "plt.grid(True, which='both')\n",
        "plt.axhline(y=0, color='grey')\n",
        "plt.axvline(x=0, color='grey')\n",
        "x_area1 = np.linspace(0, 2, 50)\n",
        "x_area2 = np.linspace(2, 4, 50)\n",
        "plt.fill_between(x_area1, fun(x_area1), color='red')\n",
        "plt.fill_between(x_area2, fun(x_area2), color='red')\n",
        "plt.ylim(-6,6);"
      ],
      "execution_count": 24,
      "outputs": [
        {
          "output_type": "display_data",
          "data": {
            "image/png": "[encoded data removed]",
            "text/plain": [
              "<Figure size 432x288 with 1 Axes>"
            ]
          },
          "metadata": {
            "tags": [],
            "needs_background": "light"
          }
        }
      ]
    },
    {
      "cell_type": "code",
      "metadata": {
        "id": "3UQh6boPcNon",
        "colab_type": "code",
        "colab": {
          "base_uri": "https://localhost:8080/",
          "height": 52
        },
        "outputId": "5e7af331-2fef-4bb5-c4e4-f3a418dcb829"
      },
      "source": [
        "# Creamos el polinomio\n",
        "\n",
        "from scipy import poly1d\n",
        "\n",
        "p = poly1d([1,6,8,0])\n",
        "print(p)\n"
      ],
      "execution_count": 22,
      "outputs": [
        {
          "output_type": "stream",
          "text": [
            "   3     2\n",
            "1 x + 6 x + 8 x\n"
          ],
          "name": "stdout"
        }
      ]
    },
    {
      "cell_type": "markdown",
      "metadata": {
        "id": "tgr9uBN0eTKv",
        "colab_type": "text"
      },
      "source": [
        "Resultado esperado:\n",
        "\n",
        "```\n",
        "   3     2\n",
        "1 x - 6 x + 8 x\n",
        "```"
      ]
    },
    {
      "cell_type": "code",
      "metadata": {
        "id": "114WMz_wcc8m",
        "colab_type": "code",
        "colab": {
          "base_uri": "https://localhost:8080/",
          "height": 35
        },
        "outputId": "2d232210-2949-45ee-d608-afbd23675387"
      },
      "source": [
        "# Calculamos sus raíces\n",
        "p.r"
      ],
      "execution_count": 23,
      "outputs": [
        {
          "output_type": "execute_result",
          "data": {
            "text/plain": [
              "array([-4., -2.,  0.])"
            ]
          },
          "metadata": {
            "tags": []
          },
          "execution_count": 23
        }
      ]
    },
    {
      "cell_type": "markdown",
      "metadata": {
        "id": "m-U4jBKVenZk",
        "colab_type": "text"
      },
      "source": [
        "Resultado esperado:\n",
        "```\n",
        "array([4., 2., 0.])\n",
        "```"
      ]
    },
    {
      "cell_type": "code",
      "metadata": {
        "id": "NOWgwcZ2cgS-",
        "colab_type": "code",
        "colab": {}
      },
      "source": [
        "# Calculamos integral entre los intervalos\n",
        "from scipy.integrate import quad\n",
        "\n",
        "integrate.quad(p, 0, 4)"
      ],
      "execution_count": null,
      "outputs": []
    },
    {
      "cell_type": "markdown",
      "metadata": {
        "id": "5swD-qKsert4",
        "colab_type": "text"
      },
      "source": [
        "Resultado esperado:\n",
        "```\n",
        "8.0\n",
        "```"
      ]
    },
    {
      "cell_type": "markdown",
      "metadata": {
        "id": "R6uv7QvOe12k",
        "colab_type": "text"
      },
      "source": [
        "2. Comprime la imagen siguiente usando descomposición de valores singulares (SVD)."
      ]
    },
    {
      "cell_type": "code",
      "metadata": {
        "id": "ZPtPpnlogcF3",
        "colab_type": "code",
        "colab": {}
      },
      "source": [
        "from scipy import signal, misc\n",
        "\n",
        "image = misc.face(gray=True).astype(np.float32)\n",
        "plt.figure()\n",
        "plt.imshow(image)\n",
        "plt.gray()\n",
        "plt.title('Imagen original')\n",
        "plt.show()\n",
        "image.shape"
      ],
      "execution_count": null,
      "outputs": []
    },
    {
      "cell_type": "code",
      "metadata": {
        "id": "OoCWfOqAhLkd",
        "colab_type": "code",
        "colab": {}
      },
      "source": [
        "def compress(img, n_sv=100):\n",
        "  \"\"\"\n",
        "  Esta función calcula la descomposición SVD de la imagen y se queda con los n_sv \n",
        "  valores singulares indicados, generado una versión comprimida\n",
        "  \"\"\"\n",
        "  # Descomponemos la imagen usando SVD\n",
        "  <código>\n",
        "\n",
        "  # Recomponemos recortando la dimensionalidad\n",
        "  <código>"
      ],
      "execution_count": null,
      "outputs": []
    },
    {
      "cell_type": "code",
      "metadata": {
        "id": "U0ql2xctiddY",
        "colab_type": "code",
        "colab": {}
      },
      "source": [
        "# Mostramos el aspecto de distintas compresiones\n",
        "\n",
        "plt.figure(figsize=(20,10))\n",
        "for i in range(1,7):\n",
        "  plt.subplot(2,3,i)\n",
        "  n = i*10\n",
        "  h,w = image.shape\n",
        "  ratio = (h*n + n*n + n*w) / (h*w) * 100\n",
        "  plt.imshow(compress(image, n))\n",
        "  plt.title('Reducción al %.2f%% (n=%d)' % (ratio, n))"
      ],
      "execution_count": null,
      "outputs": []
    },
    {
      "cell_type": "markdown",
      "metadata": {
        "id": "wYHRtp8Plhdo",
        "colab_type": "text"
      },
      "source": [
        "Resultado esperado:\n",
        "\n",
        "![](https://drive.google.com/uc?id=1mrS4_JdW7P2IpmesK9VhlbVRYUcX_XZq)"
      ]
    },
    {
      "cell_type": "markdown",
      "metadata": {
        "id": "4kmswCP_FKnR",
        "colab_type": "text"
      },
      "source": [
        "# Referencias\n",
        "\n",
        "Os animo a que exploréis todas las posibilidades de esta potente herramienta científica.\n",
        "\n",
        "\n",
        "- [SciPy tutorial](https://docs.scipy.org/doc/scipy/reference/tutorial/index.html)"
      ]
    },
    {
      "cell_type": "markdown",
      "metadata": {
        "id": "oe1r37-tdion",
        "colab_type": "text"
      },
      "source": [
        "![](https://lh3.googleusercontent.com/proxy/n2pkW0Eboeqv-OwJhXphRQrq_J-WrCW6hUtTEmEXpkiDsicejB9BqZ_bsthVzbXLxXPYBvFBjz6lX2oMcn8lCjWWWJ7HM0a-mtmJ3mRZglf_2lmJdAUS10H19nw)\n",
        "\n",
        "¡Ya estamos a mitad del parto! ¡Ánimo que os ayudo con Python como herramienta a mano!"
      ]
    }
  ]
}