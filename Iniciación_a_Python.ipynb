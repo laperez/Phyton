{
  "nbformat": 4,
  "nbformat_minor": 0,
  "metadata": {
    "colab": {
      "name": "Iniciación a Python.ipynb",
      "provenance": [],
      "collapsed_sections": [
        "FpdVSiV5dSdv",
        "TVKJrivAdSd-",
        "XDRwq-QRdSeC",
        "nE8GBxKbdSeW",
        "8xl-MITodSec",
        "YUv0RRK4dSeh",
        "2Q6dwT0bdSe4",
        "S3HYNem6ztCW",
        "MzaNIgJZztCc",
        "msT9Mg-YztCk",
        "LC3EdcNxztD2",
        "NrFiYHJ_ztEC",
        "eeNmxqk1ztEE",
        "S_RJk8EvztEF",
        "rucPT87d1O7F",
        "CHEv7dUN1O7J",
        "cDPH3EJy1O7V",
        "vVk1DoWz1O7a",
        "NiLqtfNJ1O7h",
        "-3e-yOI31O7k",
        "WAxWtSnu1O7n",
        "LW_9l5851O7p",
        "Gze_edZx1O7s",
        "goRxi7Z71O7v",
        "fZ5ox-SH1O7x",
        "atTXJJ7E1O70"
      ],
      "toc_visible": true,
      "include_colab_link": true
    },
    "kernelspec": {
      "name": "python3",
      "display_name": "Python 3"
    }
  },
  "cells": [
    {
      "cell_type": "markdown",
      "metadata": {
        "id": "view-in-github",
        "colab_type": "text"
      },
      "source": [
        "<a href=\"https://colab.research.google.com/github/laperez/Phyton/blob/master/Iniciaci%C3%B3n_a_Python.ipynb\" target=\"_parent\"><img src=\"https://colab.research.google.com/assets/colab-badge.svg\" alt=\"Open In Colab\"/></a>"
      ]
    },
    {
      "cell_type": "markdown",
      "metadata": {
        "id": "AVaR-Ffca4Wi",
        "colab_type": "text"
      },
      "source": [
        "![Enlace](https://drive.google.com/uc?export=view&id=1N_Cf8b0OVNbFMd5lmNvlhY98X6liuTZh)"
      ]
    },
    {
      "cell_type": "markdown",
      "metadata": {
        "id": "ug_kCU7DcqjE",
        "colab_type": "text"
      },
      "source": [
        "# **Introducción a Python**\n",
        "\n"
      ]
    },
    {
      "cell_type": "markdown",
      "metadata": {
        "id": "bJxjMjOPl_xj",
        "colab_type": "text"
      },
      "source": [
        "El documento que está leyendo no es una página web estática, sino un entorno interactivo denominado notebook de Colab, que permite escribir y ejecutar código.\n",
        "\n",
        "Por ejemplo, la celda que está leyendo es una celda de código con un código Python que calcula un valor, lo almacena en una variable y devuelve el resultado:"
      ]
    },
    {
      "cell_type": "code",
      "metadata": {
        "colab_type": "code",
        "id": "gJr_9dXGpJ05",
        "colab": {}
      },
      "source": [
        "seconds_in_a_day = 24 * 60 * 60\n",
        "seconds_in_a_day"
      ],
      "execution_count": null,
      "outputs": []
    },
    {
      "cell_type": "markdown",
      "metadata": {
        "colab_type": "text",
        "id": "2fhs6GZ4qFMx"
      },
      "source": [
        "Aunque veremos después cómo se hace, ejecute la celda: haga clic en ella y después pulse \"Command/Ctrl + Intro\".\n",
        "\n",
        "Las variables que se definen en una celda pueden usarse en otras:"
      ]
    },
    {
      "cell_type": "code",
      "metadata": {
        "colab_type": "code",
        "id": "-gE-Ez1qtyIA",
        "colab": {}
      },
      "source": [
        "seconds_in_a_week = 7 * seconds_in_a_day\n",
        "seconds_in_a_week"
      ],
      "execution_count": null,
      "outputs": []
    },
    {
      "cell_type": "markdown",
      "metadata": {
        "colab_type": "text",
        "id": "lSrWNr3MuFUS"
      },
      "source": [
        "Los notebooks de Colab permiten combinar <strong>código ejecutable</strong> y <strong>texto enriquecido</strong> en un único documento, junto con <strong>imágenes</strong>, <strong>HTML</strong>, <strong>LaTeX</strong> y mucho más. Los notebooks que cree en Colab se almacenan en su cuenta de Google Drive. Puede compartir fácilmente los notebooks de Colab con amigos o compañeros de trabajo para que realicen comentarios o los editen. Para más información, consulte la <a href=\"/notebooks/basic_features_overview.ipynb\">Descripción general de Colab</a>. Para crear un nuevo notebook de Colab, vaya al menú \"Archivo\" que aparece más arriba o use este vínculo: <a href=\"http://colab.research.google.com#create=true\">crear un nuevo notebook de Colab</a>.\n",
        "\n",
        "Los notebooks de Colab son notebooks de Jupyter que aloja Colab. Para obtener más información sobre el proyecto Jupyter, visite <a href=\"https://www.jupyter.org\">jupyter.org</a>."
      ]
    },
    {
      "cell_type": "markdown",
      "metadata": {
        "colab_type": "text",
        "id": "JyG45Qk3qQLS"
      },
      "source": [
        "# Celdas\n",
        "Un notebook es una lista de celdas. Pueden ser de dos clases: de código o de texto. Para seleccionar una celda haz clic en ella.\n"
      ]
    },
    {
      "cell_type": "markdown",
      "metadata": {
        "colab_type": "text",
        "id": "KR921S_OQSHG"
      },
      "source": [
        "## Celdas de código\n",
        "La celda que hay a continuación es de código. Observa las diferencias en apariencia. Haz clic en ella y ejécutala con una de las siguientes maneras:\n",
        "\n",
        "* Pulsa en el icono **Play** a la izquierda de la celda\n",
        "* Teclea **Cmd/Ctrl+Enter**\n",
        "\n",
        "Hay más formas, pero con estas tenemos suficientes para continuar.\n"
      ]
    },
    {
      "cell_type": "code",
      "metadata": {
        "cellView": "both",
        "colab_type": "code",
        "id": "WUtu4316QSHL",
        "colab": {}
      },
      "source": [
        "a = 10\n",
        "a"
      ],
      "execution_count": null,
      "outputs": []
    },
    {
      "cell_type": "markdown",
      "metadata": {
        "colab_type": "text",
        "id": "Id6tDF1HQSHD"
      },
      "source": [
        "## Celdas de texto\n",
        "Esta es una celda de texto. Haga doble clilc en ella para editarla. Use **markdown**. Si quiere aprender este markdown haga clic en la [guía de markdown de google](/notebooks/markdown_guide.ipynb).\n",
        "\n",
        "Puede añadir cualquier tipo de ecuación matemática usando sintaxis de [LaTeX](http://www.latex-project.org/) y renderizando con [MathJax](https://www.mathjax.org). Simplemente añada un par de **\\$** encerrando la ecuación. Por ejemplo  `$\\sqrt{3x-1}+(1+x)^2$` se verá como \n",
        "$\\sqrt{3x-1}+(1+x)^2.$\n"
      ]
    },
    {
      "cell_type": "markdown",
      "metadata": {
        "colab_type": "text",
        "id": "7bqjkGKwQSHW"
      },
      "source": [
        "## Añadiendo y moviendo celdas\n",
        "Puede añadir celdas pulsando los iconos **+ CODE** y **+ TEXT** que están en la barra de tareas encima del notebook.\n",
        "\n",
        "Puede mover la celda seleccionada haciendo clic en los iconos de flechas que se muestran en la botonera que aparece al activar la celda (hacer clic sobre ella) en su parte de arriba a la derecha. \n"
      ]
    },
    {
      "cell_type": "markdown",
      "metadata": {
        "colab_type": "text",
        "id": "GOwlZRXEQSHZ"
      },
      "source": [
        "# Python\n",
        "\n",
        "La ejecución de una celda puede ser interrupida seleccionando en el menú **Entorno de ejecución -> Interrumpir ejecución**. Pruébalo ejecutando y abortando la siguiente celda:"
      ]
    },
    {
      "cell_type": "code",
      "metadata": {
        "cellView": "both",
        "colab_type": "code",
        "id": "d-S-3nYLQSHb",
        "colab": {}
      },
      "source": [
        "import time\n",
        "print(\"Sleeping\")\n",
        "time.sleep(30) # sleep for a while; interrupt me!\n",
        "print(\"Done Sleeping\")"
      ],
      "execution_count": null,
      "outputs": []
    },
    {
      "cell_type": "markdown",
      "metadata": {
        "colab_type": "text",
        "id": "d4L9TOP9QSHn"
      },
      "source": [
        "## Acceso a la ayuda desde el tabulador\n",
        "\n",
        "Si no recuerda el nombre de un metodo o solo recuerda el comienzo de una instrucción, simplemente espera un par de segundos y aparece la ayuda automáticamente.\n",
        "\n"
      ]
    },
    {
      "cell_type": "markdown",
      "metadata": {
        "id": "3GHQJ7F9dSdS",
        "colab_type": "text"
      },
      "source": [
        "# Introducción a la sintaxis de Python\n",
        "\n",
        "Aunque la sintaxis de Python permite muchas variaciones, existe una guía de estilo que es recomendable para todo programador de Python. Cuando acabe el curso y antes de empezar a usar Python como tu lenguaje de programación es más que leerla atentamente:\n",
        "\n",
        "[Guía de estilo de Python: PEP 8](https://www.python.org/dev/peps/pep-0008/)\n",
        "\n",
        "Veamos lo básico para poder escribir programas simples en python que nos permitan dominar los entornos que hemos explicado. \n",
        "\n",
        "## Tipos numéricos\n",
        "\n",
        "Python dispone de los tipos numéricos y las operaciones más habituales (**ejecuta las celdas y comprueba lo que pasa**):"
      ]
    },
    {
      "cell_type": "code",
      "metadata": {
        "id": "nZbrhIntdSdS",
        "colab_type": "code",
        "colab": {}
      },
      "source": [
        "2 * 4 - (7 - 1) / 3 + 1.0"
      ],
      "execution_count": null,
      "outputs": []
    },
    {
      "cell_type": "markdown",
      "metadata": {
        "id": "8un9JcLAdSdV",
        "colab_type": "text"
      },
      "source": [
        "Las divisiones por cero lanzan un error (ejecuta la siguientes celdas):"
      ]
    },
    {
      "cell_type": "code",
      "metadata": {
        "id": "TZThzEnXdSdV",
        "colab_type": "code",
        "colab": {}
      },
      "source": [
        "1/0"
      ],
      "execution_count": null,
      "outputs": []
    },
    {
      "cell_type": "markdown",
      "metadata": {
        "id": "OBAqMNtPdSdX",
        "colab_type": "text"
      },
      "source": [
        "La división en Python es división entera o real en función del operador que se use (ejecuta la siguiente celda):"
      ]
    },
    {
      "cell_type": "code",
      "metadata": {
        "id": "WUdz-k8QdSdY",
        "colab_type": "code",
        "colab": {
          "base_uri": "https://localhost:8080/",
          "height": 51
        },
        "outputId": "6eb4041e-8998-4890-9e6e-6ba13626427e"
      },
      "source": [
        "x = 3 / 2\n",
        "y = 3 // 2\n",
        "\n",
        "print(\"x =\",x,\"\\ny =\",y)"
      ],
      "execution_count": 7,
      "outputs": [
        {
          "output_type": "stream",
          "text": [
            "x = 1.5 \n",
            "y = 1\n"
          ],
          "name": "stdout"
        }
      ]
    },
    {
      "cell_type": "markdown",
      "metadata": {
        "id": "zebV_5u5dSdZ",
        "colab_type": "text"
      },
      "source": [
        "El operador potencia es ******"
      ]
    },
    {
      "cell_type": "code",
      "metadata": {
        "id": "lQ7a1NevdSda",
        "colab_type": "code",
        "colab": {}
      },
      "source": [
        "2 ** 16"
      ],
      "execution_count": null,
      "outputs": []
    },
    {
      "cell_type": "markdown",
      "metadata": {
        "id": "GsoqgknDdSdc",
        "colab_type": "text"
      },
      "source": [
        "Tenemos números complejos"
      ]
    },
    {
      "cell_type": "code",
      "metadata": {
        "id": "_jYjWP-BdSdc",
        "colab_type": "code",
        "colab": {}
      },
      "source": [
        "2+5j"
      ],
      "execution_count": null,
      "outputs": []
    },
    {
      "cell_type": "markdown",
      "metadata": {
        "id": "VtgiPIxndSdh",
        "colab_type": "text"
      },
      "source": [
        "Podemos __convertir variables__ a `int, float, complex, str`..."
      ]
    },
    {
      "cell_type": "code",
      "metadata": {
        "id": "kD30MEpUdSdh",
        "colab_type": "code",
        "colab": {}
      },
      "source": [
        "int(1.56)"
      ],
      "execution_count": null,
      "outputs": []
    },
    {
      "cell_type": "code",
      "metadata": {
        "id": "YCNHOXW_dSdj",
        "colab_type": "code",
        "colab": {}
      },
      "source": [
        "round(1.56)"
      ],
      "execution_count": null,
      "outputs": []
    },
    {
      "cell_type": "code",
      "metadata": {
        "scrolled": true,
        "id": "-i2iCmphdSdl",
        "colab_type": "code",
        "colab": {}
      },
      "source": [
        "str(3.1415926)"
      ],
      "execution_count": null,
      "outputs": []
    },
    {
      "cell_type": "markdown",
      "metadata": {
        "id": "tXp3o9SydSdm",
        "colab_type": "text"
      },
      "source": [
        "Podemos comprobar el tipo de una variable:"
      ]
    },
    {
      "cell_type": "code",
      "metadata": {
        "id": "fYaHPgy7dSdm",
        "colab_type": "code",
        "colab": {}
      },
      "source": [
        "a = 2.\n",
        "type(a)"
      ],
      "execution_count": null,
      "outputs": []
    },
    {
      "cell_type": "code",
      "metadata": {
        "id": "fvLwrP3QdSdo",
        "colab_type": "code",
        "colab": {}
      },
      "source": [
        "isinstance(a, float)"
      ],
      "execution_count": null,
      "outputs": []
    },
    {
      "cell_type": "code",
      "metadata": {
        "id": "uW5gSL-1dSdq",
        "colab_type": "code",
        "colab": {}
      },
      "source": [
        "max(2,9,3,5)"
      ],
      "execution_count": null,
      "outputs": []
    },
    {
      "cell_type": "code",
      "metadata": {
        "id": "DUqv--NqdSds",
        "colab_type": "code",
        "colab": {}
      },
      "source": [
        "min(-2,9,3,5)"
      ],
      "execution_count": null,
      "outputs": []
    },
    {
      "cell_type": "markdown",
      "metadata": {
        "id": "vcCcfJi8dSdt",
        "colab_type": "text"
      },
      "source": [
        "Podemos declarar una variable global para que sea acesible desde cualquier parte del programa. Volveremos a este concepto cuando veamos las funciones."
      ]
    },
    {
      "cell_type": "code",
      "metadata": {
        "id": "schPitQWdSdu",
        "colab_type": "code",
        "colab": {}
      },
      "source": [
        "global a"
      ],
      "execution_count": null,
      "outputs": []
    },
    {
      "cell_type": "markdown",
      "metadata": {
        "id": "FpdVSiV5dSdv",
        "colab_type": "text"
      },
      "source": [
        "## Asignación y operadores de comparación\n",
        "\n",
        "La asignación se realiza con el operador `=`. Los nombres de las variables en Python pueden contener caracteres alfanuméricos (empezando con una letra) a-z, A-Z, 0-9 y otros símbolos como el \\_. \n",
        "\n",
        "Por cuestiones de estilo, las variables suelen empezar con minúscula, reservando la mayúcula para clases. \n",
        "\n",
        "Algunos nombres no pueden ser usados porque son usados por python:\n",
        "\n",
        "    and, as, assert, break, class, continue, def, del, elif, else, except, exec, finally, for, from, global, if, import, in, is, lambda, not, or, pass, print, raise, return, try, while, with, yield"
      ]
    },
    {
      "cell_type": "code",
      "metadata": {
        "id": "NlteQ_F6dSdv",
        "colab_type": "code",
        "colab": {}
      },
      "source": [
        "a = 1.56\n",
        "b = 1 - 2j\n",
        "x, y = 12, 13.73\n",
        "print(a)\n",
        "print(b)\n",
        "print(x, y)"
      ],
      "execution_count": null,
      "outputs": []
    },
    {
      "cell_type": "markdown",
      "metadata": {
        "id": "lLkRSHRNdSdx",
        "colab_type": "text"
      },
      "source": [
        "La asignación múltiple que hemos hecho en la celda anterior es una operación nueva que nos permite un código antes impensable:"
      ]
    },
    {
      "cell_type": "code",
      "metadata": {
        "id": "GjSVHft4dSdx",
        "colab_type": "code",
        "colab": {}
      },
      "source": [
        "x, y = y, x\n",
        "x, y"
      ],
      "execution_count": null,
      "outputs": []
    },
    {
      "cell_type": "markdown",
      "metadata": {
        "id": "yNTSCs9-dSd0",
        "colab_type": "text"
      },
      "source": [
        "Los operadores de comparación son:\n",
        "\n",
        "* `==` igual a\n",
        "* `!=` distinto de \n",
        "* `<` menor que\n",
        "* `<=` menor o igual que\n",
        "* `>` mayor que\n",
        "* `>=` mayor o igual que\n",
        "\n",
        "Devolverán un booleano: `True` o `False`"
      ]
    },
    {
      "cell_type": "code",
      "metadata": {
        "id": "8jKfrdPTdSd0",
        "colab_type": "code",
        "colab": {}
      },
      "source": [
        "print(x < y)\n",
        "print(x <= y)\n",
        "print(x > y)\n",
        "print(x >= y)"
      ],
      "execution_count": null,
      "outputs": []
    },
    {
      "cell_type": "markdown",
      "metadata": {
        "id": "WKN6ReG8dSd2",
        "colab_type": "text"
      },
      "source": [
        "También hay nuevas formas de excribir expresiones:"
      ]
    },
    {
      "cell_type": "code",
      "metadata": {
        "id": "U2kX1wgddSd2",
        "colab_type": "code",
        "colab": {}
      },
      "source": [
        "x = 5.2\n",
        "6.34 < x < 7.25"
      ],
      "execution_count": null,
      "outputs": []
    },
    {
      "cell_type": "markdown",
      "metadata": {
        "id": "5DBnCVYpdSd3",
        "colab_type": "text"
      },
      "source": [
        "las **cadenas de texto** tiene orden alfabético y pueden ser comparadas:"
      ]
    },
    {
      "cell_type": "code",
      "metadata": {
        "id": "4aFTtrR6dSd4",
        "colab_type": "code",
        "colab": {}
      },
      "source": [
        "\"aarónico\" < \"zuzo\""
      ],
      "execution_count": null,
      "outputs": []
    },
    {
      "cell_type": "markdown",
      "metadata": {
        "id": "mVbDI0aMdSd6",
        "colab_type": "text"
      },
      "source": [
        "Tipo **Booleano**:"
      ]
    },
    {
      "cell_type": "code",
      "metadata": {
        "id": "b5f_WOKVdSd6",
        "colab_type": "code",
        "colab": {}
      },
      "source": [
        "True and False"
      ],
      "execution_count": null,
      "outputs": []
    },
    {
      "cell_type": "code",
      "metadata": {
        "id": "Iuw7IdNbdSd8",
        "colab_type": "code",
        "colab": {}
      },
      "source": [
        "not True"
      ],
      "execution_count": null,
      "outputs": []
    },
    {
      "cell_type": "code",
      "metadata": {
        "id": "WizeppBDdSd9",
        "colab_type": "code",
        "colab": {}
      },
      "source": [
        "True or False"
      ],
      "execution_count": null,
      "outputs": []
    },
    {
      "cell_type": "markdown",
      "metadata": {
        "id": "TVKJrivAdSd-",
        "colab_type": "text"
      },
      "source": [
        "## Listas y Tuplas\n",
        "\n",
        "Otro tipo de datos muy importante que vamos a usar son las secuencias: las tuplas y las listas. Ambos son conjuntos ordenados de elementos: las tuplas se demarcan con paréntesis y las listas con corchetes."
      ]
    },
    {
      "cell_type": "code",
      "metadata": {
        "id": "IcP6OBGTdSd_",
        "colab_type": "code",
        "colab": {}
      },
      "source": [
        "mi_lista = [1, 2, 3.0, 4 + 0j, \"5\"]\n",
        "mi_tupla = (1, 2, 3.0, 4 + 0j, \"5\")\n",
        "print(mi_lista)\n",
        "print(mi_tupla)\n",
        "print(mi_lista == mi_tupla)"
      ],
      "execution_count": null,
      "outputs": []
    },
    {
      "cell_type": "markdown",
      "metadata": {
        "id": "Dkr-UZ8PdSeA",
        "colab_type": "text"
      },
      "source": [
        "En las tuplas se pueden obviar los parántesis:"
      ]
    },
    {
      "cell_type": "code",
      "metadata": {
        "id": "xUFwN-tmdSeA",
        "colab_type": "code",
        "colab": {}
      },
      "source": [
        "tupla_sin_parentesis = 2,5,6,9,7\n",
        "type(tupla_sin_parentesis)"
      ],
      "execution_count": null,
      "outputs": []
    },
    {
      "cell_type": "markdown",
      "metadata": {
        "id": "XDRwq-QRdSeC",
        "colab_type": "text"
      },
      "source": [
        "### Funciones con secuencias\n",
        "\n",
        "Comprobar si un elemento está en la secuencia con el operador *in*, saber su longitud con la función *len* :"
      ]
    },
    {
      "cell_type": "code",
      "metadata": {
        "id": "-f1dX9WndSeC",
        "colab_type": "code",
        "colab": {}
      },
      "source": [
        "2 in mi_lista"
      ],
      "execution_count": null,
      "outputs": []
    },
    {
      "cell_type": "code",
      "metadata": {
        "id": "305Q6R5ldSeD",
        "colab_type": "code",
        "colab": {}
      },
      "source": [
        "2 not in mi_tupla"
      ],
      "execution_count": null,
      "outputs": []
    },
    {
      "cell_type": "code",
      "metadata": {
        "id": "ll1b1YmddSeE",
        "colab_type": "code",
        "colab": {}
      },
      "source": [
        "len(mi_lista)"
      ],
      "execution_count": null,
      "outputs": []
    },
    {
      "cell_type": "code",
      "metadata": {
        "id": "hXdrXkZedSeG",
        "colab_type": "code",
        "colab": {}
      },
      "source": [
        "len(mi_tupla)"
      ],
      "execution_count": null,
      "outputs": []
    },
    {
      "cell_type": "markdown",
      "metadata": {
        "id": "18vMmmUGdSeH",
        "colab_type": "text"
      },
      "source": [
        "Se pueden insertar y eliminar elementos en una lista con *insert*, *append*, *extend*, *remove* y *pop*, así como unir varias listas o tuplas mediante el operador *+*:"
      ]
    },
    {
      "cell_type": "code",
      "metadata": {
        "id": "yyQejwGqdSeI",
        "colab_type": "code",
        "colab": {}
      },
      "source": [
        "print(mi_lista)\n",
        "mi_lista.insert(3,3.5)\n",
        "mi_lista\n"
      ],
      "execution_count": null,
      "outputs": []
    },
    {
      "cell_type": "code",
      "metadata": {
        "id": "hYQxL7qQdSeJ",
        "colab_type": "code",
        "colab": {}
      },
      "source": [
        "mi_lista=[1, 2, 3.0, 3.5, (4+0j), '5'] # crea la lista\n",
        "mi_lista.append(6) # añade el 6 al final\n",
        "print(mi_lista)\n",
        "mi_lista.extend([7, 8]) # añade los elementos 7 y 8 al final\n",
        "print(mi_lista)\n",
        "mi_lista.insert(0, 0.0) # añade el 0.0 al principio\n",
        "print(mi_lista)"
      ],
      "execution_count": null,
      "outputs": []
    },
    {
      "cell_type": "code",
      "metadata": {
        "id": "rxNnKM-sdSeL",
        "colab_type": "code",
        "colab": {}
      },
      "source": [
        "mi_lista.remove(3.5) # elimina el 3.5\n",
        "print(mi_lista)\n",
        "dato = mi_lista.pop(0) #saca al primer elemento y lo devuelve\n",
        "print(dato)\n",
        "dato = mi_lista.pop() #si no hay índice saca el último\n",
        "print(dato)\n",
        "print(mi_lista)"
      ],
      "execution_count": null,
      "outputs": []
    },
    {
      "cell_type": "code",
      "metadata": {
        "id": "y40QzsihdSeM",
        "colab_type": "code",
        "colab": {}
      },
      "source": [
        "# concatenar listas y tuplas\n",
        "\n",
        "lista1=[1, 2, 3]\n",
        "lista2=[4, 5, 6]\n",
        "lista3=lista1+lista2\n",
        "print(lista3)\n",
        "\n",
        "tupla1=(1, 2, 3)\n",
        "tupla2=(4, 5, 6)\n",
        "tupla3=tupla1+tupla2\n",
        "print(tupla3)\n"
      ],
      "execution_count": null,
      "outputs": []
    },
    {
      "cell_type": "markdown",
      "metadata": {
        "id": "t1eRtK1GdSeN",
        "colab_type": "text"
      },
      "source": [
        "Podemos crear listas a partir de otras usado los índices:"
      ]
    },
    {
      "cell_type": "code",
      "metadata": {
        "id": "amP6UnWTdSeO",
        "colab_type": "code",
        "colab": {}
      },
      "source": [
        "print(\"Lista: \", mi_lista)\n",
        "print(\"Tupla: \", mi_tupla)\n",
        "print(mi_lista[0])  # Primer elemento, 1\n",
        "print(mi_tupla[1])  # Segundo elemento, 2\n",
        "print(mi_lista[0:2])# Desde el 1º hasta el 3º, excluyendo el 3º: 1, 2\n",
        "print(mi_tupla[:3]) # Desde el 1º hasta el 4º, excluyendo el 4º: 1, 2, 3.0\n",
        "print(mi_lista[-1]) # El último: 7\n",
        "print(mi_tupla[:])  # Desde el 1º hasta el último (incluido)\n",
        "print(mi_lista[::2])# responde al patrón inicio:fin: posiciones impares"
      ],
      "execution_count": null,
      "outputs": []
    },
    {
      "cell_type": "markdown",
      "metadata": {
        "id": "Qbpwrrd0dSeQ",
        "colab_type": "text"
      },
      "source": [
        "podemos hacer listas de listas"
      ]
    },
    {
      "cell_type": "code",
      "metadata": {
        "id": "gEK73etCdSeQ",
        "colab_type": "code",
        "colab": {}
      },
      "source": [
        "bolas = ['roja', 'negra', 'blanca', 'azul']\n",
        "chuches = ['regaliz', 'chicle', 'piruleta']\n",
        "edades = [15, 18, 25, 35]\n",
        "\n",
        "cosas = [bolas, chuches, edades]\n",
        "\n",
        "cosas"
      ],
      "execution_count": null,
      "outputs": []
    },
    {
      "cell_type": "markdown",
      "metadata": {
        "id": "_19qPiy1dSeS",
        "colab_type": "text"
      },
      "source": [
        "Para buscar y ordenar también tenemos varios métodos:"
      ]
    },
    {
      "cell_type": "code",
      "metadata": {
        "id": "m4sQqn5LdSeS",
        "colab_type": "code",
        "colab": {}
      },
      "source": [
        "estudiantes = ['Rosa', 'Antonio', 'Ismael', 'Anabel', 'Miguel', 'Cristina', 'Lucas', 'Miguel']\n",
        "\n",
        "estudiantes.reverse()\n",
        "print(estudiantes)\n",
        "\n",
        "estudiantes.sort(reverse=True)\n",
        "print(estudiantes)\n",
        "\n",
        "estudiantes.sort()\n",
        "print(estudiantes)\n",
        "\n",
        "print(\"Miguel aparece :\", estudiantes.count('Miguel'), \"veces.\")\n",
        "print(\"Miguel aparece en la posición: \", estudiantes.index('Miguel',0,6)) #busca en las posiciones 0..5"
      ],
      "execution_count": null,
      "outputs": []
    },
    {
      "cell_type": "markdown",
      "metadata": {
        "id": "2fDnuHTBdSeU",
        "colab_type": "text"
      },
      "source": [
        "Podemos transformar una tupla en lista y viceversa"
      ]
    },
    {
      "cell_type": "code",
      "metadata": {
        "id": "_wklgrpvdSeV",
        "colab_type": "code",
        "colab": {}
      },
      "source": [
        "tupla = (1, 2, 3, 4) \n",
        "lista=list(tupla) #convertimos en lista\n",
        "print(tupla)\n",
        "print(lista)\n",
        "lista.pop() #como es una lista, es mutable ;-)\n",
        "tupla=tuple(lista) #a tupla de nuevo\n",
        "print(tupla) # hemos modificado una tupla!"
      ],
      "execution_count": null,
      "outputs": []
    },
    {
      "cell_type": "markdown",
      "metadata": {
        "id": "nE8GBxKbdSeW",
        "colab_type": "text"
      },
      "source": [
        "### Diferencias entre tuplas y listas\n",
        "\n",
        "* Una lista puede ser alterada, no así una tupla.\n",
        "* Una tupla puede ser utilizada como clave en un diccionario, una lista no.\n",
        "* Una tupla consume menos memoria que una lista."
      ]
    },
    {
      "cell_type": "markdown",
      "metadata": {
        "id": "8xl-MITodSec",
        "colab_type": "text"
      },
      "source": [
        "## Introducir e imprimir datos \n",
        "\n",
        "En programación, a veces necesitamos que los datos nos vengan del usuario final de la aplicación y nosotros debemos tratar esos datos y orientar al usuario para que sepa qué debe escribir o qué tipo de dato escribir.\n",
        "\n",
        "Usamos input (o raw_input) donde le podemos poner un mensaje orientativo para ayudar al usuario.\n",
        "\n",
        "Veamos algun ejemplo:"
      ]
    },
    {
      "cell_type": "code",
      "metadata": {
        "id": "tdpeNDNDdSec",
        "colab_type": "code",
        "colab": {}
      },
      "source": [
        "edad = input(\"Introduce tu edad: \") #input devuelve un string!!\n",
        "print (\"Tu edad es: \" + edad)\n",
        "print(edad*2)"
      ],
      "execution_count": null,
      "outputs": []
    },
    {
      "cell_type": "markdown",
      "metadata": {
        "id": "eRXF6raZdSeg",
        "colab_type": "text"
      },
      "source": [
        "La salida podemos formatearla con un estilo muy parecido a C"
      ]
    },
    {
      "cell_type": "code",
      "metadata": {
        "scrolled": true,
        "id": "f_PRe2FqdSeg",
        "colab_type": "code",
        "colab": {}
      },
      "source": [
        "# Esto imprime \"Hola, Juan!\"\n",
        "\n",
        "nombre = \"Juan\"\n",
        "edad = 18\n",
        "nota = 7.677\n",
        "\n",
        "print(\"Hola, %s! dijiste que tenías %d años?\" % (nombre, 18))\n",
        "print(\"Has sacado un %.2f de nota final\" % nota)\n"
      ],
      "execution_count": null,
      "outputs": []
    },
    {
      "cell_type": "markdown",
      "metadata": {
        "id": "YUv0RRK4dSeh",
        "colab_type": "text"
      },
      "source": [
        "### Rangos\n",
        "\n",
        "Los rangos son tipos especiales en Python y tienen una sintaxis que ahorra mucho código y es tremendamente intuitiva"
      ]
    },
    {
      "cell_type": "code",
      "metadata": {
        "id": "h0Tu2jmGdSei",
        "colab_type": "code",
        "colab": {}
      },
      "source": [
        "# rango del 0 al 5\n",
        "\n",
        "list(range(6))"
      ],
      "execution_count": null,
      "outputs": []
    },
    {
      "cell_type": "code",
      "metadata": {
        "id": "Y8cBj4nWdSej",
        "colab_type": "code",
        "colab": {}
      },
      "source": [
        "# igual rango pero las posiciones impares\n",
        "\n",
        "list(range(0, 5, 2))"
      ],
      "execution_count": null,
      "outputs": []
    },
    {
      "cell_type": "code",
      "metadata": {
        "id": "mGXNPxoedSel",
        "colab_type": "code",
        "colab": {}
      },
      "source": [
        "# igual rango pero en sentido decreciente\n",
        "\n",
        "list(range(5, -1, -1))"
      ],
      "execution_count": null,
      "outputs": []
    },
    {
      "cell_type": "code",
      "metadata": {
        "id": "0T1QC7uPdSen",
        "colab_type": "code",
        "colab": {}
      },
      "source": [
        "# igual rango pero en orden decreciente y posiciones pares (que se devuelven en posiciones impares)\n",
        "\n",
        "list(range(5, -1, -2))"
      ],
      "execution_count": null,
      "outputs": []
    },
    {
      "cell_type": "markdown",
      "metadata": {
        "id": "UdPSh1e_dSep",
        "colab_type": "text"
      },
      "source": [
        "## Estructuras de control\n",
        "\n",
        "En Python los bloques se delimitan usando el sangrado, utilizando siempre cuatro espacios (esto de cuatro es una norma de estilo). Cuando ponemos los dos puntos al final de la primera línea del condicional, todo lo que vaya a continuación con un nivel de sangrado superior se considera dentro del condicional. En cuanto escribimos la primera línea con un nivel de sangrado inferior, hemos cerrado el condicional. Si no seguimos esto a rajatabla, Python nos dará errores. Es una forma de forzar a que el código sea legible.\n",
        "\n",
        "### Condicionales\n",
        "\n",
        "Los condicionales tienen la siguiente forma:"
      ]
    },
    {
      "cell_type": "markdown",
      "metadata": {
        "id": "NTIWZ5LldSep",
        "colab_type": "text"
      },
      "source": [
        "    if <condición>:\n",
        "        <haz lo que sea>\n",
        "    elif <condición>:\n",
        "        <haz otra cosa>\n",
        "    else:\n",
        "        <haz otra cosa>"
      ]
    },
    {
      "cell_type": "markdown",
      "metadata": {
        "id": "WgiT7XTSdSeq",
        "colab_type": "text"
      },
      "source": [
        "#### Algunos ejemplos aclaratorios"
      ]
    },
    {
      "cell_type": "code",
      "metadata": {
        "id": "F_GWYuDqdSeq",
        "colab_type": "code",
        "colab": {}
      },
      "source": [
        "x, y = 5, 3\n",
        "print(x,y)\n",
        "if x > y:\n",
        "    print(\"x es mayor que y\")\n",
        "    print(\"x sigue siendo mayor que y\")"
      ],
      "execution_count": null,
      "outputs": []
    },
    {
      "cell_type": "code",
      "metadata": {
        "id": "1tDv4U7vdSes",
        "colab_type": "code",
        "colab": {}
      },
      "source": [
        "if 1 < 0:\n",
        "    print(\"Es falso que \")\n",
        "print(\"eres una buena persona :-)\") "
      ],
      "execution_count": null,
      "outputs": []
    },
    {
      "cell_type": "code",
      "metadata": {
        "id": "8vi4E-CLdSeu",
        "colab_type": "code",
        "colab": {}
      },
      "source": [
        "if 1 < 0:\n",
        "    print(\"1 es menor que 0\")\n",
        "     print(\"1 sigue siendo menor que 0\") # hay que sangrar correctamente"
      ],
      "execution_count": null,
      "outputs": []
    },
    {
      "cell_type": "code",
      "metadata": {
        "id": "YI6tdk90dSev",
        "colab_type": "code",
        "colab": {}
      },
      "source": [
        "print(x,y)\n",
        "if x > y:\n",
        "    print(\"x es mayor que y\")\n",
        "else:\n",
        "    print(\"x es menor que y\")"
      ],
      "execution_count": null,
      "outputs": []
    },
    {
      "cell_type": "code",
      "metadata": {
        "id": "bd8GrxQ2dSew",
        "colab_type": "code",
        "colab": {}
      },
      "source": [
        "print(x, y)\n",
        "if x < y:\n",
        "    print(\"x es menor que y\")\n",
        "elif x == y:\n",
        "    print(\"x es igual a y\")\n",
        "else:\n",
        "    print(\"x no es ni menor ni igual que y\")"
      ],
      "execution_count": null,
      "outputs": []
    },
    {
      "cell_type": "markdown",
      "metadata": {
        "id": "vxt2R7ZmdSex",
        "colab_type": "text"
      },
      "source": [
        "### Bucles\n",
        "\n",
        "En Python existen dos tipos de estructuras de control típicas:\n",
        "\n",
        "1. Bucles `while`\n",
        "2. Bucles `for`\n",
        "\n",
        "#### while\n",
        "\n",
        "Los bucles `while` repetirán las sentencias anidadas en él mientras se cumpla una condición:\n",
        "\n",
        "    while <condición>:\n",
        "        <cosas que hacer>\n",
        "        \n",
        "Como en el caso de los condicionales, los bloques se separan por indentación sin necesidad de sentencias del tipo `end`"
      ]
    },
    {
      "cell_type": "code",
      "metadata": {
        "id": "acVx9Wu4dSey",
        "colab_type": "code",
        "colab": {
          "base_uri": "https://localhost:8080/",
          "height": 136
        },
        "outputId": "ebcec129-9eee-4cd4-b455-12e1082e7880"
      },
      "source": [
        "i = -2\n",
        "while i < 5:\n",
        "    print(i)\n",
        "    i += 1"
      ],
      "execution_count": 21,
      "outputs": [
        {
          "output_type": "stream",
          "text": [
            "-2\n",
            "-1\n",
            "0\n",
            "1\n",
            "2\n",
            "3\n",
            "4\n"
          ],
          "name": "stdout"
        }
      ]
    },
    {
      "cell_type": "markdown",
      "metadata": {
        "id": "Z_uYxijZdSez",
        "colab_type": "text"
      },
      "source": [
        "Se puede interrumpir el bucle a la mitad con la sentencia break:"
      ]
    },
    {
      "cell_type": "code",
      "metadata": {
        "id": "mdMkFtGudSez",
        "colab_type": "code",
        "colab": {}
      },
      "source": [
        "i = -2\n",
        "while i < 5:\n",
        "    print(i)\n",
        "    i += 1\n",
        "    if i==3:\n",
        "        break"
      ],
      "execution_count": null,
      "outputs": []
    },
    {
      "cell_type": "markdown",
      "metadata": {
        "id": "hzNbuQXXdSe1",
        "colab_type": "text"
      },
      "source": [
        "Un bloque *else* justo después del bucle se ejecuta si no ha sido interrumpido por nosotros:"
      ]
    },
    {
      "cell_type": "code",
      "metadata": {
        "id": "EryLzYJbdSe1",
        "colab_type": "code",
        "colab": {}
      },
      "source": [
        "i = -2\n",
        "while i < 5:\n",
        "    print(i)\n",
        "    i += 1\n",
        "    if i==3:\n",
        "        break\n",
        "else:\n",
        "    print(\"El bucle ha terminado.\")"
      ],
      "execution_count": null,
      "outputs": []
    },
    {
      "cell_type": "code",
      "metadata": {
        "id": "fhJG597UdSe3",
        "colab_type": "code",
        "colab": {
          "base_uri": "https://localhost:8080/",
          "height": 153
        },
        "outputId": "3346327f-3f46-4bc4-8aaf-4b7ffe112404"
      },
      "source": [
        "i = -2\n",
        "while i < 5:\n",
        "    print(i)\n",
        "    i += 1\n",
        "    #if i==3:\n",
        "    #    break\n",
        "else:\n",
        "    print(\"El bucle ha terminado.\")"
      ],
      "execution_count": 12,
      "outputs": [
        {
          "output_type": "stream",
          "text": [
            "-2\n",
            "-1\n",
            "0\n",
            "1\n",
            "2\n",
            "3\n",
            "4\n",
            "El bucle ha terminado.\n"
          ],
          "name": "stdout"
        }
      ]
    },
    {
      "cell_type": "markdown",
      "metadata": {
        "id": "2Q6dwT0bdSe4",
        "colab_type": "text"
      },
      "source": [
        "#### for\n",
        "\n",
        "El otro bucle en Python es el bucle `for` y funciona de manera que puede resultar chocante al principio ya que tiene multitud de formas sintácticas. La idea es recorrer un conjunto de elementos, o dicho correctamente, recorrer todos los elementos de un objeto iterable:\n",
        "\n",
        "    for <elemento> in <objeto iterable>:\n",
        "        <haz lo que sea...>"
      ]
    },
    {
      "cell_type": "code",
      "metadata": {
        "id": "0YViO28WdSe4",
        "colab_type": "code",
        "colab": {}
      },
      "source": [
        "for i in (1,2,3,4,5):\n",
        "    print(i)"
      ],
      "execution_count": null,
      "outputs": []
    },
    {
      "cell_type": "code",
      "metadata": {
        "id": "q0XK2GvYdSe5",
        "colab_type": "code",
        "colab": {}
      },
      "source": [
        "for nombre in \"Juanlu\", \"Siro\", \"Carlos\":\n",
        "    print(nombre)"
      ],
      "execution_count": null,
      "outputs": []
    },
    {
      "cell_type": "code",
      "metadata": {
        "id": "4nzOjFqidSe6",
        "colab_type": "code",
        "colab": {}
      },
      "source": [
        "for i in range(3):\n",
        "    print(i)"
      ],
      "execution_count": null,
      "outputs": []
    },
    {
      "cell_type": "code",
      "metadata": {
        "id": "f2fSJK0pdSe6",
        "colab_type": "code",
        "colab": {}
      },
      "source": [
        "for j in range(2, 5):\n",
        "    print(j)"
      ],
      "execution_count": null,
      "outputs": []
    },
    {
      "cell_type": "code",
      "metadata": {
        "id": "Mt6T2aeNdSe8",
        "colab_type": "code",
        "colab": {}
      },
      "source": [
        "for nombre in \"Juanlu\", \"Siro\", \"Carlos\":\n",
        "    if nombre == \"Carlos\":\n",
        "        break\n",
        "    print(nombre)\n",
        "    \n",
        "else:\n",
        "    print(\"¿Carlos excluido?\")"
      ],
      "execution_count": null,
      "outputs": []
    },
    {
      "cell_type": "markdown",
      "metadata": {
        "id": "SQ9HbzZHdSe8",
        "colab_type": "text"
      },
      "source": [
        "# Ejercicios\n",
        "\n",
        "## Ejercicio 1\n",
        "\n",
        "Imprime por pantalla todas las potencias de dos menores o iguales que 2048, utilizando un bucle while\n"
      ]
    },
    {
      "cell_type": "code",
      "metadata": {
        "id": "l-MUaB09dSe9",
        "colab_type": "code",
        "colab": {
          "base_uri": "https://localhost:8080/",
          "height": 204
        },
        "outputId": "8f5d7005-be08-4644-c3b7-d39cf90969e7"
      },
      "source": [
        "potencia = 1\n",
        "indice = 1\n",
        "while potencia < 2049:\n",
        "  if 2**indice < 2049:\n",
        "    potencia = 2**indice\n",
        "    indice+= 1\n",
        "    print(indice)\n",
        "  else:\n",
        "    break"
      ],
      "execution_count": 1,
      "outputs": [
        {
          "output_type": "stream",
          "text": [
            "2\n",
            "3\n",
            "4\n",
            "5\n",
            "6\n",
            "7\n",
            "8\n",
            "9\n",
            "10\n",
            "11\n",
            "12\n"
          ],
          "name": "stdout"
        }
      ]
    },
    {
      "cell_type": "markdown",
      "metadata": {
        "id": "2M2Ga0i5snIq",
        "colab_type": "text"
      },
      "source": [
        ""
      ]
    },
    {
      "cell_type": "markdown",
      "metadata": {
        "id": "OIuI0bIvdSe_",
        "colab_type": "text"
      },
      "source": [
        "#### Ejercicio 2\n",
        "\n",
        "Lee valores del usuario hasta que teclee un numero par, utilizando un bucle while\n"
      ]
    },
    {
      "cell_type": "code",
      "metadata": {
        "id": "WOO8ZIPSdSe_",
        "colab_type": "code",
        "colab": {
          "base_uri": "https://localhost:8080/",
          "height": 68
        },
        "outputId": "8baa3842-6ada-4a3d-d4d1-939a447ae338"
      },
      "source": [
        "numero = int(input(\"Escriba un número: \"))\n",
        "while numero % 2 > 0:\n",
        "  numero = int(input(\"Escriba un número: \"))"
      ],
      "execution_count": 6,
      "outputs": [
        {
          "output_type": "stream",
          "text": [
            "Escriba un número: 3\n",
            "Escriba un número: 5\n",
            "Escriba un número: 6\n"
          ],
          "name": "stdout"
        }
      ]
    },
    {
      "cell_type": "markdown",
      "metadata": {
        "id": "1FLudeA4dSfA",
        "colab_type": "text"
      },
      "source": [
        "#### Ejercicio 3\n",
        "\n",
        "Imprime por pantalla las primeras 15 potencias de dos\n"
      ]
    },
    {
      "cell_type": "code",
      "metadata": {
        "id": "lKoyvHxGdSfA",
        "colab_type": "code",
        "colab": {
          "base_uri": "https://localhost:8080/",
          "height": 272
        },
        "outputId": "a5827cc4-4ade-4de1-c754-263a796c514c"
      },
      "source": [
        "numero = 0\n",
        "while numero < 15:\n",
        "  print(2**numero)\n",
        "  numero+= 1"
      ],
      "execution_count": 7,
      "outputs": [
        {
          "output_type": "stream",
          "text": [
            "1\n",
            "2\n",
            "4\n",
            "8\n",
            "16\n",
            "32\n",
            "64\n",
            "128\n",
            "256\n",
            "512\n",
            "1024\n",
            "2048\n",
            "4096\n",
            "8192\n",
            "16384\n"
          ],
          "name": "stdout"
        }
      ]
    },
    {
      "cell_type": "markdown",
      "metadata": {
        "id": "mRnTK08ydSfB",
        "colab_type": "text"
      },
      "source": [
        "#### Ejercicio 4\n",
        "\n",
        "Lee una cadena de texto del usuario y para cada letra indica si es una vocal o una consonante\n"
      ]
    },
    {
      "cell_type": "markdown",
      "metadata": {
        "id": "XkSM1J4JpWTu",
        "colab_type": "text"
      },
      "source": [
        ""
      ]
    },
    {
      "cell_type": "code",
      "metadata": {
        "id": "JhO4DOAXdSfB",
        "colab_type": "code",
        "colab": {
          "base_uri": "https://localhost:8080/",
          "height": 34
        },
        "outputId": "34d50975-d928-4956-d95a-65c228b24754"
      },
      "source": [
        "texto = str(input(\"Introduce una cadena: \"))\n",
        "texto = texto.lower()\n",
        "pos = 0\n",
        "while (pos < len(texto)):\n",
        "  if texto[pos] in \"aeiou\":\n",
        "    print(\"Letra \"+texto[pos]+\" es: vocal\")\n",
        "  elif texto[pos] in \"bcdfghijklmnñpqrstvwxyz\":\n",
        "    print(\"Letra \"+texto[pos]+\" es: consonante\")\n",
        "  else:\n",
        "    print(\"Letra \"+texto[pos]+\" no es ni vocal ni consonante\")\n",
        "  pos+= 1\n"
      ],
      "execution_count": 20,
      "outputs": [
        {
          "output_type": "stream",
          "text": [
            "Introduce una cadena\n"
          ],
          "name": "stdout"
        }
      ]
    },
    {
      "cell_type": "markdown",
      "metadata": {
        "id": "345uISnrdSfC",
        "colab_type": "text"
      },
      "source": [
        "#### Ejercicio 5\n",
        "\n",
        "A partir de dos listas de enteros, 'numeros1' y 'numeros2', crea una lista que contiene aquellos valores de la primera que tambien estan en la segunda e imprimela por pantalla. Es decir, calcula la interseccion de ambas listas.\n"
      ]
    },
    {
      "cell_type": "code",
      "metadata": {
        "id": "Uvfg2ABFdSfC",
        "colab_type": "code",
        "colab": {
          "base_uri": "https://localhost:8080/",
          "height": 34
        },
        "outputId": "3c06df4b-a8fe-446e-dcd2-1d0a9e1d8eea"
      },
      "source": [
        "numeros1 = [1, 7, 13, 21, 27, 29, 34, 48, 50, 51, 53, 61, 68, 74, 82, 83, 84, 87, 92, 94]\n",
        "numeros2 = [4, 6, 10, 18, 23, 29, 30, 32, 43, 54, 55, 55, 71, 76, 77, 82, 88, 92, 94, 95]\n",
        "\n",
        "list(set(numeros1) & set(numeros2))\n",
        "\n"
      ],
      "execution_count": 22,
      "outputs": [
        {
          "output_type": "execute_result",
          "data": {
            "text/plain": [
              "[82, 92, 29, 94]"
            ]
          },
          "metadata": {
            "tags": []
          },
          "execution_count": 22
        }
      ]
    },
    {
      "cell_type": "markdown",
      "metadata": {
        "id": "t1glVSH3dSfD",
        "colab_type": "text"
      },
      "source": [
        "#### Ejercicio 6\n",
        "\n",
        "A partir de dos listas de enteros, 'numeros1' y 'numeros2' de igual tamano, generar otra cuyo primer elemento es el producto del primer elemento de las listas 'numeros1' y 'numeros2', y asi sucesivamente.\n"
      ]
    },
    {
      "cell_type": "code",
      "metadata": {
        "id": "7eLJ3mkFdSfD",
        "colab_type": "code",
        "colab": {
          "base_uri": "https://localhost:8080/",
          "height": 34
        },
        "outputId": "ef0a9029-033e-4388-f1f7-c2eff7b1b333"
      },
      "source": [
        "numeros1 = [1, 7, 13, 21, 27]\n",
        "numeros2 = [4, 6, 10, 18, 23]\n",
        "\n",
        "resultado = []\n",
        "for x, y in zip(numeros1, numeros2):\n",
        "    resultado.append(x * y)\n",
        "\n",
        "print(resultado)\n",
        "\n",
        "\n"
      ],
      "execution_count": 26,
      "outputs": [
        {
          "output_type": "stream",
          "text": [
            "[4, 42, 130, 378, 621]\n"
          ],
          "name": "stdout"
        }
      ]
    },
    {
      "cell_type": "markdown",
      "metadata": {
        "id": "Vx1jWMrHdSfE",
        "colab_type": "text"
      },
      "source": [
        "#### Ejercicio 7\n",
        "\n",
        "A partir de dos listas de enteros, 'numeros1' y 'numeros2', almacenar en una lista el resultado de multiplicar cada uno de los elementos de 'numeros1' por, a su vez, cada uno de los elementos de 'numeros2'. Es decir, la lista resultante tendra len(numeros1) * len(numeros2) elementos.\n"
      ]
    },
    {
      "cell_type": "code",
      "metadata": {
        "id": "Vhn1GfGAdSfE",
        "colab_type": "code",
        "colab": {
          "base_uri": "https://localhost:8080/",
          "height": 54
        },
        "outputId": "e6d24867-18e9-4860-d5af-afed97519bc5"
      },
      "source": [
        "numeros1 = [1, 7, 13, 21, 27]\n",
        "numeros2 = [8, 9, 28, 41, 55, 77]\n",
        "\n",
        "resultado = []\n",
        "for x in numeros1:\n",
        "    for y in numeros2:\n",
        "        resultado.append(x * y)\n",
        "print (resultado)\n"
      ],
      "execution_count": 27,
      "outputs": [
        {
          "output_type": "stream",
          "text": [
            "[8, 9, 28, 41, 55, 77, 56, 63, 196, 287, 385, 539, 104, 117, 364, 533, 715, 1001, 168, 189, 588, 861, 1155, 1617, 216, 243, 756, 1107, 1485, 2079]\n"
          ],
          "name": "stdout"
        }
      ]
    },
    {
      "cell_type": "markdown",
      "metadata": {
        "id": "jcihoyD4dSfH",
        "colab_type": "text"
      },
      "source": [
        "#### Ejercicio 8\n",
        "\n",
        "Para cada una de las cadenas de texto almacenadas en una lista, imprimir por pantalla el indice y la cadena en sí e indicar si la palabra es demasiado corta (cinco o menos caracteres) o larga (mas de cinco caracteres)\n"
      ]
    },
    {
      "cell_type": "code",
      "metadata": {
        "id": "B-5t5jK5dSfH",
        "colab_type": "code",
        "colab": {
          "base_uri": "https://localhost:8080/",
          "height": 527
        },
        "outputId": "22d46fd6-42da-486e-b7e0-e3871fc42474"
      },
      "source": [
        "frase = \"\"\" Programmers are, in their hearts, architects, and the first thing\n",
        "            they want to do when they get to a site is to bulldoze the place\n",
        "            flat and build something grand \"\"\"\n",
        "\n",
        "listado = frase.split()    # listado = [\"Programmers\", \"are\", \",\",...]\n",
        "\n",
        "for index, palabra in enumerate(listado):\n",
        "    \n",
        "    if len(palabra) > 5:\n",
        "        print (\"La palabra numero\", index, \"(\", palabra, \") es demasiado larga\")\n",
        "    else:\n",
        "        print (\"La palabra numero\", index, \"(\", palabra, \") es demasiado corta!\")\n"
      ],
      "execution_count": 29,
      "outputs": [
        {
          "output_type": "stream",
          "text": [
            "La palabra numero 0 ( Programmers ) es demasiado larga\n",
            "La palabra numero 1 ( are, ) es demasiado corta!\n",
            "La palabra numero 2 ( in ) es demasiado corta!\n",
            "La palabra numero 3 ( their ) es demasiado corta!\n",
            "La palabra numero 4 ( hearts, ) es demasiado larga\n",
            "La palabra numero 5 ( architects, ) es demasiado larga\n",
            "La palabra numero 6 ( and ) es demasiado corta!\n",
            "La palabra numero 7 ( the ) es demasiado corta!\n",
            "La palabra numero 8 ( first ) es demasiado corta!\n",
            "La palabra numero 9 ( thing ) es demasiado corta!\n",
            "La palabra numero 10 ( they ) es demasiado corta!\n",
            "La palabra numero 11 ( want ) es demasiado corta!\n",
            "La palabra numero 12 ( to ) es demasiado corta!\n",
            "La palabra numero 13 ( do ) es demasiado corta!\n",
            "La palabra numero 14 ( when ) es demasiado corta!\n",
            "La palabra numero 15 ( they ) es demasiado corta!\n",
            "La palabra numero 16 ( get ) es demasiado corta!\n",
            "La palabra numero 17 ( to ) es demasiado corta!\n",
            "La palabra numero 18 ( a ) es demasiado corta!\n",
            "La palabra numero 19 ( site ) es demasiado corta!\n",
            "La palabra numero 20 ( is ) es demasiado corta!\n",
            "La palabra numero 21 ( to ) es demasiado corta!\n",
            "La palabra numero 22 ( bulldoze ) es demasiado larga\n",
            "La palabra numero 23 ( the ) es demasiado corta!\n",
            "La palabra numero 24 ( place ) es demasiado corta!\n",
            "La palabra numero 25 ( flat ) es demasiado corta!\n",
            "La palabra numero 26 ( and ) es demasiado corta!\n",
            "La palabra numero 27 ( build ) es demasiado corta!\n",
            "La palabra numero 28 ( something ) es demasiado larga\n",
            "La palabra numero 29 ( grand ) es demasiado corta!\n"
          ],
          "name": "stdout"
        }
      ]
    },
    {
      "cell_type": "markdown",
      "metadata": {
        "id": "VKbCuT9kdSfI",
        "colab_type": "text"
      },
      "source": [
        "#### Ejercicio 9\n",
        "\n",
        "Recibe una lista de enteros y calcula la media aritmetica\n"
      ]
    },
    {
      "cell_type": "code",
      "metadata": {
        "id": "b6HT2Y9idSfJ",
        "colab_type": "code",
        "colab": {
          "base_uri": "https://localhost:8080/",
          "height": 34
        },
        "outputId": "c17353d3-733a-4b47-c075-d27213fa913b"
      },
      "source": [
        "enteros = [1, 5, 9, 12, 13, 19, 23, 27, 29, 30, 57, 59, 67, 83, 92, 98, 100]\n",
        "\n",
        "sum(enteros) / len(enteros)"
      ],
      "execution_count": 33,
      "outputs": [
        {
          "output_type": "execute_result",
          "data": {
            "text/plain": [
              "42.588235294117645"
            ]
          },
          "metadata": {
            "tags": []
          },
          "execution_count": 33
        }
      ]
    },
    {
      "cell_type": "markdown",
      "metadata": {
        "id": "ka39D7p6dSfK",
        "colab_type": "text"
      },
      "source": [
        "#### Ejercicio 10\n",
        "\n",
        "Lee una cadena de texto del usuario e imprime por pantalla un mensaje si y solo si contiene todas las vocales"
      ]
    },
    {
      "cell_type": "code",
      "metadata": {
        "id": "r85tDfM4dSfK",
        "colab_type": "code",
        "colab": {
          "base_uri": "https://localhost:8080/",
          "height": 51
        },
        "outputId": "ede85f43-fdb3-44ee-9a1b-4b74437cf026"
      },
      "source": [
        "vocales = [\"a\", \"e\", \"i\", \"o\", \"u\"]\n",
        "palabra = str(input(\"Introduzca palabra: \"))\n",
        "\n",
        "for vocal in vocales:\n",
        "    if vocal not in palabra.lower():\n",
        "        break\n",
        "else: # Solo se ejecuta si el for no hace 'break'\n",
        "    print (\"Probablemente has escrito una palabra con todas las vocales\")"
      ],
      "execution_count": 39,
      "outputs": [
        {
          "output_type": "stream",
          "text": [
            "Introduzca palabra: Arquitecto\n",
            "Probablemente has escrito una palabra con todas las vocales\n"
          ],
          "name": "stdout"
        }
      ]
    },
    {
      "cell_type": "markdown",
      "metadata": {
        "id": "2UGDN3Ugz9zr",
        "colab_type": "text"
      },
      "source": [
        ""
      ]
    },
    {
      "cell_type": "markdown",
      "metadata": {
        "id": "KZIhh8wHztCF",
        "colab_type": "text"
      },
      "source": [
        "## Funciones\n",
        "\n",
        "\n",
        "En Python, la definición de funciones se realiza mediante la instrucción *def* más un nombre de función descriptivo, para el que se aplican las mismas reglas que para el nombre de las variables, seguido de los paréntesis de apertura y cierre. La definición de la cabecera de la función termina con dos puntos (:). El algoritmo que la compone, irá indentado con 4 espacios:\n"
      ]
    },
    {
      "cell_type": "code",
      "metadata": {
        "id": "zT2ElB1sztCG",
        "colab_type": "code",
        "colab": {}
      },
      "source": [
        "def mi_funcion(): \n",
        "    print('2*2=4')"
      ],
      "execution_count": null,
      "outputs": []
    },
    {
      "cell_type": "markdown",
      "metadata": {
        "id": "V8NOv8ORztCJ",
        "colab_type": "text"
      },
      "source": [
        "¿Cómo se llama a la función? como en todos los lenguajes: por su nombre"
      ]
    },
    {
      "cell_type": "code",
      "metadata": {
        "id": "iaTqDShsztCJ",
        "colab_type": "code",
        "colab": {}
      },
      "source": [
        "mi_funcion()"
      ],
      "execution_count": null,
      "outputs": []
    },
    {
      "cell_type": "markdown",
      "metadata": {
        "id": "FqxH0OJmztCM",
        "colab_type": "text"
      },
      "source": [
        "¿Se les puede poner parámetros? Pueden tener tantos parámetros como sea necesario, incluso no definirlos directamente y pasar un número intedeterminado de ellos, o \"peor\" aún, pasarle el número de parametros correcto pero empaquetados en una lista, o en una tupla, por ejemplo.\n",
        "\n",
        "¿Pueden devolver valores, simples o complejos? Tampoco hay restricciones, pueden devolver lo que sea. Aquí se muestran varios ejemplos:\n"
      ]
    },
    {
      "cell_type": "code",
      "metadata": {
        "id": "4bz9-xMMztCM",
        "colab_type": "code",
        "colab": {}
      },
      "source": [
        "# Cómo no, la función \"Hola mundo\"\n",
        "\n",
        "def funcion(): \n",
        "    return \"Hola Mundo\" \n",
        "\n",
        "#esto sería el programa principal\n",
        "frase = funcion() \n",
        "print(frase)\n"
      ],
      "execution_count": null,
      "outputs": []
    },
    {
      "cell_type": "code",
      "metadata": {
        "id": "69WBfMu6ztCP",
        "colab_type": "code",
        "colab": {}
      },
      "source": [
        "# Esta función recibe dos cadenas de caracteres y las concatena\n",
        "\n",
        "def completa_nombre(nombre, apellidos): \n",
        "    nombre_completo = nombre + ' ' + apellidos\n",
        "    return nombre_completo \n",
        " \n",
        "# este es el programa principal\n",
        "nombre, apellidos = \"Leonardo\", \"Torres Quevedo\"\n",
        "nombre_completo = completa_nombre(nombre, apellidos)\n",
        "print(nombre_completo)"
      ],
      "execution_count": null,
      "outputs": []
    },
    {
      "cell_type": "code",
      "metadata": {
        "id": "Y5VoLzJkztCR",
        "colab_type": "code",
        "colab": {}
      },
      "source": [
        "# A esta función se le pasa un número indeterminado de parámetros\n",
        "# uno de ellos es fijo, el nombre del padre, pero los hijos son variables\n",
        "\n",
        "def asigna_hijos_a_padre(padre, *hijos): \n",
        "    print(\"los\", len(hijos), \"hijos de\", padre, \" son:\")\n",
        "    los_hijos=[] #se develve una lista de hijos (prueba luego a quitar esta línea y mira qué pasa)\n",
        "\n",
        "    # Los parámetros arbitrarios se recorren como tuplas\n",
        "    for argumento in hijos: \n",
        "        print(argumento)\n",
        "        los_hijos.append(argumento)\n",
        "    return los_hijos\n",
        "\n",
        "# principal\n",
        "los_hijos_de_Antonio = asigna_hijos_a_padre('Antonio', 'Manuel', 'Ana', 'Carlos')\n",
        "los_hijos_de_Emilio = asigna_hijos_a_padre('Emilio', 'Cristina', 'Carmen', 'Fernando', 'Isabel')\n",
        "print(los_hijos_de_Antonio)\n",
        "print(los_hijos_de_Emilio)"
      ],
      "execution_count": null,
      "outputs": []
    },
    {
      "cell_type": "code",
      "metadata": {
        "id": "_NQUJw0bztCT",
        "colab_type": "code",
        "colab": {}
      },
      "source": [
        "# se pueden pasar tuplas como parametros y se descomponen automáticamente\n",
        "def semisuma(a, b):\n",
        "    return (a+b)/2\n",
        "\n",
        "par = (2,5)\n",
        "\n",
        "semisuma(*par)"
      ],
      "execution_count": null,
      "outputs": []
    },
    {
      "cell_type": "markdown",
      "metadata": {
        "id": "S3HYNem6ztCW",
        "colab_type": "text"
      },
      "source": [
        "### Variables globales y locales\n",
        "\n",
        "Las variables pertenecen al ámbito en las que se han declarado. En el siguiente ejemplo se aprecia que los cambios dentro no afectan a la variable externa."
      ]
    },
    {
      "cell_type": "code",
      "metadata": {
        "id": "WrSWgnVbztCW",
        "colab_type": "code",
        "colab": {}
      },
      "source": [
        "total = 0\n",
        "def nada():\n",
        "    total=30\n",
        "    print(\"Local:\",total)\n",
        "\n",
        "#principal\n",
        "nada()\n",
        "print(\"Global:\",total)"
      ],
      "execution_count": null,
      "outputs": []
    },
    {
      "cell_type": "markdown",
      "metadata": {
        "id": "N0ztiKAUztCZ",
        "colab_type": "text"
      },
      "source": [
        "Para que dentro de la función se use la variable global, hay que declararla como tal:"
      ]
    },
    {
      "cell_type": "code",
      "metadata": {
        "id": "l_YaPmxlztCZ",
        "colab_type": "code",
        "colab": {}
      },
      "source": [
        "total = 0\n",
        "def nada():\n",
        "    global total\n",
        "    total=30\n",
        "    print(\"Local:\",total)\n",
        "\n",
        "#principal\n",
        "nada()\n",
        "print(\"Global:\",total)"
      ],
      "execution_count": null,
      "outputs": []
    },
    {
      "cell_type": "markdown",
      "metadata": {
        "id": "MzaNIgJZztCc",
        "colab_type": "text"
      },
      "source": [
        "### Paso por valor y paso por referencia\n",
        "\n",
        "En Python, los objetos inmutables (número enteros, cadenas de caracteres, números reales, tuplas...) sólo se pueden pasar por valor, es decir, cualquier modificación que se haga en un parámetro inmutable dentro de la función no tendrá efecto al salir:"
      ]
    },
    {
      "cell_type": "code",
      "metadata": {
        "id": "qGuqI7DYztCc",
        "colab_type": "code",
        "colab": {}
      },
      "source": [
        "def pon6(n): #por valor\n",
        "    n=6;\n",
        "    \n",
        "n=5\n",
        "pon6(n)\n",
        "print(n)\n"
      ],
      "execution_count": null,
      "outputs": []
    },
    {
      "cell_type": "markdown",
      "metadata": {
        "id": "1H4FTJdyztCf",
        "colab_type": "text"
      },
      "source": [
        "¿Cómo puedo simular el paso por referencia? fácil, haciendo que la función devuelva los parametros modificados. Aqui figuran dos ejemplos:"
      ]
    },
    {
      "cell_type": "code",
      "metadata": {
        "id": "8Roo-C0eztCf",
        "colab_type": "code",
        "colab": {}
      },
      "source": [
        "def pon6(n): #por referencia\n",
        "    n=6\n",
        "    return n\n",
        "    \n",
        "n=5\n",
        "n=pon6(n)\n",
        "print(n)"
      ],
      "execution_count": null,
      "outputs": []
    },
    {
      "cell_type": "code",
      "metadata": {
        "id": "rG63Wmb-ztCh",
        "colab_type": "code",
        "colab": {}
      },
      "source": [
        "def multiplicax2(n, m):\n",
        "    n*=2\n",
        "    m*=2\n",
        "    return n, m\n",
        "    \n",
        "n=5\n",
        "m=6\n",
        "n, m = multiplicax2(n, m)\n",
        "print(n, m)"
      ],
      "execution_count": null,
      "outputs": []
    },
    {
      "cell_type": "markdown",
      "metadata": {
        "id": "GYtyoJPuztCj",
        "colab_type": "text"
      },
      "source": [
        "Bien, ya sabemos cómo pasar por referencia los objetos inmmutables, pero ¿qué pasa con los mutables (listas, diccionarios...)? El asunto es peliagudo, solamente se pueden pasar por referencia. Es decir, si se pasa una lista y se añade un elemento dentro de la función, el cambio permanece a la salida.\n",
        "\n",
        "Esto no es un problema, solamente hay que tenerlo en cuenta: si no quieres que se haga ningún cambio, haz una copia y pásala."
      ]
    },
    {
      "cell_type": "markdown",
      "metadata": {
        "id": "msT9Mg-YztCk",
        "colab_type": "text"
      },
      "source": [
        "### Recursividad\n",
        "\n",
        "En cambio python sí tiene recursividad:"
      ]
    },
    {
      "cell_type": "code",
      "metadata": {
        "id": "7v4AIIbDztCk",
        "colab_type": "code",
        "colab": {}
      },
      "source": [
        "def jugar(intento=1): \n",
        "    respuesta = input(\"¿De qué color es una naranja? \") \n",
        "    if respuesta != \"naranja\": \n",
        "        if intento < 3: \n",
        "            print(\"\\nFallaste! Inténtalo de nuevo\")\n",
        "            intento += 1 \n",
        "            jugar(intento) # Llamada recursiva \n",
        "        else: \n",
        "            print(\"\\nPerdiste!\")\n",
        "    else:\n",
        "        print(\"\\nGanaste!\")\n",
        "jugar()\n"
      ],
      "execution_count": null,
      "outputs": []
    },
    {
      "cell_type": "markdown",
      "metadata": {
        "id": "m_8TBqHSztCm",
        "colab_type": "text"
      },
      "source": [
        "## Generadores\n",
        "\n",
        "Lo normal es que una función sólo devuelva un valor, sin embargo, en Python podemos hacer que devuelva más de uno (y no necesariamente al mismo tiempo) mediante funciones especiales llamadas *generadores*, a través de la instrucción *yield*.\n",
        "\n",
        "Los *generadores* son funciones que nos permitirán obtener sus resultados poco a poco. Es decir, cada vez que llamemos a la función nos darán un nuevo resultado. Por ejemplo, una función para generar todos los números pares que cada vez que la llamemos nos devuelva el siguiente número par. Veamos un par de ejemplos:\n"
      ]
    },
    {
      "cell_type": "code",
      "metadata": {
        "id": "7tXSfZZaztCn",
        "colab_type": "code",
        "colab": {}
      },
      "source": [
        "# Definimos nuestra función\n",
        "def pares(tope):\n",
        "    index = 1\n",
        "    # los pares que hay hasta el tope\n",
        "    while index<tope:\n",
        "        # Devolvemos un valor\n",
        "        yield index*2\n",
        "        index = index + 1\n",
        "\n",
        "\n",
        "# Para probarlo simplemente iteramos sobre la función\n",
        "for i in pares(7):\n",
        "    print(i)"
      ],
      "execution_count": null,
      "outputs": []
    },
    {
      "cell_type": "code",
      "metadata": {
        "id": "zvAMZbF6ztCp",
        "colab_type": "code",
        "colab": {}
      },
      "source": [
        "def creaGenerador():\n",
        "    milista = range(3)\n",
        "    for i in milista:\n",
        "        yield i*i #funciona como el return... pero no vuelve hasta que termina\n",
        "\n",
        "migenerador = creaGenerador() # create a generator\n",
        "\n",
        "print(migenerador) # migenerador es un objeto!\n",
        "\n",
        "for i in migenerador: # cuando hace falta coge un dato\n",
        "    print(\"Primer for:\",i)\n",
        "\n",
        "for i in migenerador: # pero solo se puede llamar una vez cada uno\n",
        "    print(\"Segundo for:\",i)"
      ],
      "execution_count": null,
      "outputs": []
    },
    {
      "cell_type": "markdown",
      "metadata": {
        "id": "OLpJqsPdztCr",
        "colab_type": "text"
      },
      "source": [
        "### Zip\n",
        "\n",
        "Recibe como parámetro *n* elementos iterables, ya sean cadenas, listas o una tuplas. Todos deben tener el mismo número de elementos. Devuleve un generador que entregará en cada iteración los elementos que ocupen la misma posición ordinal."
      ]
    },
    {
      "cell_type": "code",
      "metadata": {
        "id": "3WiyKB9uztCr",
        "colab_type": "code",
        "colab": {}
      },
      "source": [
        "numeros1 = [0, 1, 2, 3, 4]\n",
        "numeros2 = [9, 8, 7, 6, 5]\n",
        "numeros3 = [-1, -2, -3, -4, -5]\n",
        "\n",
        "#  Mucho mejor asi\n",
        "for x, y, z in zip(numeros1, numeros2, numeros3):\n",
        "    print(x + y, x+y+z)"
      ],
      "execution_count": null,
      "outputs": []
    },
    {
      "cell_type": "markdown",
      "metadata": {
        "id": "iYh8AfVTztDG",
        "colab_type": "text"
      },
      "source": [
        "##  Ejercicios de funciones\n",
        "\n",
        "<div class=\"alert alert-info\">Aunque puedes resolver estos problemas aquí mismo, ahora es el momento de usar Spyder y aprender los dos entornos. Siguen siendo problemas cortos, por lo que no es importante la herramienta, pero es interesante que se vea la potencia de Spyder.</div>\n",
        "\n",
        "### Ejercicio 11\n",
        "Implementa una función que reciba una lista de enteros y devuelva la suma de todos sus elementos. Hacerlo número a número y sin usar la función `sum`."
      ]
    },
    {
      "cell_type": "code",
      "metadata": {
        "id": "6saTzPPZztDG",
        "colab_type": "code",
        "colab": {}
      },
      "source": [
        ""
      ],
      "execution_count": null,
      "outputs": []
    },
    {
      "cell_type": "markdown",
      "metadata": {
        "id": "XQdpBaQnztDI",
        "colab_type": "text"
      },
      "source": [
        "### Ejercicio 12\n",
        "Implementa una función que reciba tres parametros (x, y, z) y devuelva `(x ** y) ** z`"
      ]
    },
    {
      "cell_type": "code",
      "metadata": {
        "id": "sFBIu5oCztDJ",
        "colab_type": "code",
        "colab": {
          "base_uri": "https://localhost:8080/",
          "height": 34
        },
        "outputId": "800fa2ea-50cd-4dae-f698-5d31abc7b9ca"
      },
      "source": [
        "def exponentes(x, y, z):\n",
        "    \n",
        "    return (x ** y) ** z\n",
        "\n",
        "print (exponentes(2, 3, 3))"
      ],
      "execution_count": 42,
      "outputs": [
        {
          "output_type": "stream",
          "text": [
            "512\n"
          ],
          "name": "stdout"
        }
      ]
    },
    {
      "cell_type": "markdown",
      "metadata": {
        "id": "_i3ScwNtztDK",
        "colab_type": "text"
      },
      "source": [
        "### Ejercicio 13\n",
        "Implementa una función que reciba una lista de enteros y devuelva otra lista con aquellos que son pares y >= 113"
      ]
    },
    {
      "cell_type": "markdown",
      "metadata": {
        "id": "VXn51ftcztDN",
        "colab_type": "text"
      },
      "source": [
        "### Ejercicio 14\n",
        "Implementa una función que reciba una lista de enteros y calcule su media aritmetica. Usa dos funciones, una que calcule la suma de todos y otra que devuelva la media."
      ]
    },
    {
      "cell_type": "code",
      "metadata": {
        "id": "swcQPsLvztDO",
        "colab_type": "code",
        "colab": {
          "base_uri": "https://localhost:8080/",
          "height": 34
        },
        "outputId": "6e634373-a56f-4a95-fdfd-3ddbc0572571"
      },
      "source": [
        "def suma_todos(enteros):\n",
        "    \n",
        "    total = 0\n",
        "    for numero in enteros:\n",
        "        total = total + numero\n",
        "    return total\n",
        "\n",
        "def media(enteros):\n",
        "    return suma_todos(enteros) / len(enteros)\n",
        "\n",
        "numeros = [34,25,16,7,8,9,10]\n",
        "media(numeros)"
      ],
      "execution_count": 49,
      "outputs": [
        {
          "output_type": "execute_result",
          "data": {
            "text/plain": [
              "15.571428571428571"
            ]
          },
          "metadata": {
            "tags": []
          },
          "execution_count": 49
        }
      ]
    },
    {
      "cell_type": "markdown",
      "metadata": {
        "id": "ICkcpLr6ztDP",
        "colab_type": "text"
      },
      "source": [
        "### Ejercicio 15\n",
        "Implementa una función que calcule el factorial de un numero"
      ]
    },
    {
      "cell_type": "code",
      "metadata": {
        "id": "88S0SGq-ztDQ",
        "colab_type": "code",
        "colab": {
          "base_uri": "https://localhost:8080/",
          "height": 34
        },
        "outputId": "c20a4e92-8133-4760-cd8e-42cebee0ffb3"
      },
      "source": [
        "def factorial(n):\n",
        "    \n",
        "    if n == 1:\n",
        "        return 1\n",
        "    else:\n",
        "        return n * factorial(n - 1)\n",
        "\n",
        "factorial(4)"
      ],
      "execution_count": 51,
      "outputs": [
        {
          "output_type": "execute_result",
          "data": {
            "text/plain": [
              "24"
            ]
          },
          "metadata": {
            "tags": []
          },
          "execution_count": 51
        }
      ]
    },
    {
      "cell_type": "markdown",
      "metadata": {
        "id": "AG0n5AsxztDS",
        "colab_type": "text"
      },
      "source": [
        "### Ejercicio 16\n",
        "Implementa una función que reciba un numero y devuelva una lista con todos sus divisores"
      ]
    },
    {
      "cell_type": "code",
      "metadata": {
        "id": "XIJqlHwuztDS",
        "colab_type": "code",
        "colab": {
          "base_uri": "https://localhost:8080/",
          "height": 34
        },
        "outputId": "00c2f739-1bfe-45c5-b7ad-89aa5efe9547"
      },
      "source": [
        "def divisores(n):\n",
        "    \n",
        "    lista_divisores = []\n",
        "    for divisor in range(1, n + 1):\n",
        "        if n % divisor == 0:\n",
        "            lista_divisores.append(divisor)\n",
        "    return lista_divisores\n",
        "    \n",
        "divisores(100)"
      ],
      "execution_count": 52,
      "outputs": [
        {
          "output_type": "execute_result",
          "data": {
            "text/plain": [
              "[1, 2, 4, 5, 10, 20, 25, 50, 100]"
            ]
          },
          "metadata": {
            "tags": []
          },
          "execution_count": 52
        }
      ]
    },
    {
      "cell_type": "code",
      "metadata": {
        "id": "VGYZqrRjztDU",
        "colab_type": "code",
        "colab": {
          "base_uri": "https://localhost:8080/",
          "height": 34
        },
        "outputId": "91909fde-2307-4167-bad5-449963f7796e"
      },
      "source": [
        "def divisores(n):\n",
        "    \n",
        "    lista_divisores = []\n",
        "    for divisor in range(1, n + 1):\n",
        "        if n % divisor == 0:\n",
        "            lista_divisores.append(divisor)\n",
        "    return lista_divisores\n",
        "    \n",
        "def is_primo(n):\n",
        "\n",
        "    # Si es primo solo sera divisible entre 1 y si mismo\n",
        "    return len(divisores(n)) == 2\n",
        "\n",
        "is_primo(17)"
      ],
      "execution_count": 53,
      "outputs": [
        {
          "output_type": "execute_result",
          "data": {
            "text/plain": [
              "True"
            ]
          },
          "metadata": {
            "tags": []
          },
          "execution_count": 53
        }
      ]
    },
    {
      "cell_type": "markdown",
      "metadata": {
        "id": "fZZQ3umwztDZ",
        "colab_type": "text"
      },
      "source": [
        "### Ejercicio 19\n",
        "\n",
        "Implementa una función que reciba una cantidad entera de segundos y devuelva una tupla con las horas minutos y segundos equivalentes."
      ]
    },
    {
      "cell_type": "code",
      "metadata": {
        "id": "4eQN_T8gztDZ",
        "colab_type": "code",
        "colab": {
          "base_uri": "https://localhost:8080/",
          "height": 34
        },
        "outputId": "2e90d6bd-535a-4fcd-9de0-29fa7ba69c12"
      },
      "source": [
        "def calcular_horas(segundos):\n",
        "\thoras = segundos // 3600\n",
        "\tsegundos-=horas*3600\n",
        "\tminutos = segundos // 60\n",
        "\tsegundos-=minutos*60\n",
        "\treturn horas,minutos,segundos\n",
        "\n",
        "calcular_horas(36000)\n"
      ],
      "execution_count": 54,
      "outputs": [
        {
          "output_type": "execute_result",
          "data": {
            "text/plain": [
              "(10, 0, 0)"
            ]
          },
          "metadata": {
            "tags": []
          },
          "execution_count": 54
        }
      ]
    },
    {
      "cell_type": "markdown",
      "metadata": {
        "id": "fT1gREx_ztDd",
        "colab_type": "text"
      },
      "source": [
        "### Ejercicio 21\n",
        "\n",
        "Implementa una función que devuelve una lista con los cuadrados de los elementos de la lista que recibe como parámetro."
      ]
    },
    {
      "cell_type": "code",
      "metadata": {
        "id": "pUwuUw5IztDd",
        "colab_type": "code",
        "colab": {}
      },
      "source": [
        ""
      ],
      "execution_count": null,
      "outputs": []
    },
    {
      "cell_type": "markdown",
      "metadata": {
        "id": "IRAwbqUuztDg",
        "colab_type": "text"
      },
      "source": [
        "### Ejercicio 22\n",
        "\n",
        "Implementa una función que elimine los números negativos de una lista de enteros."
      ]
    },
    {
      "cell_type": "code",
      "metadata": {
        "id": "Wx6eUZpLztDg",
        "colab_type": "code",
        "colab": {}
      },
      "source": [
        ""
      ],
      "execution_count": null,
      "outputs": []
    },
    {
      "cell_type": "code",
      "metadata": {
        "id": "4W4YqE0tztDL",
        "colab_type": "code",
        "colab": {
          "base_uri": "https://localhost:8080/",
          "height": 34
        },
        "outputId": "b8b42378-7994-447a-d142-97918a80909f"
      },
      "source": [
        "numeros = [5, -28, 675, -113, -45, 676, 89, -12, -213, 232, 39, 42, 877]\n",
        "\n",
        "def eliminar_negativos(valores):\n",
        "    \n",
        "    seleccionados = []\n",
        "    for numero in valores:\n",
        "      if numero >= 0:\n",
        "        seleccionados.append(numero)\n",
        "    return seleccionados\n",
        "\n",
        "eliminar_negativos(numeros)\n",
        "\n"
      ],
      "execution_count": 57,
      "outputs": [
        {
          "output_type": "execute_result",
          "data": {
            "text/plain": [
              "[5, 675, 676, 89, 232, 39, 42, 877]"
            ]
          },
          "metadata": {
            "tags": []
          },
          "execution_count": 57
        }
      ]
    },
    {
      "cell_type": "markdown",
      "metadata": {
        "id": "czPg2GUXztDi",
        "colab_type": "text"
      },
      "source": [
        "## Diccionarios\n",
        "En Python, un diccionario es una colección no-ordenada de valores que son accedidos a traves de una clave. Es decir, en lugar de acceder a la información mediante el índice numérico, como es el caso de las listas y tuplas, es posible acceder a los valores a través de sus claves, que pueden ser de diversos tipos.\n",
        "\n",
        "Las claves son únicas dentro de un diccionario, es decir que no puede haber un diccionario que tenga dos veces la misma clave, si se asigna un valor a una clave ya existente, se reemplaza el valor anterior.\n",
        "\n",
        "No hay una forma directa de acceder a una clave a través de su valor, y nada impide que un mismo valor se encuentre asignado a distintas claves. \n",
        "\n",
        "La informacion almacenada en los diccionarios, no tiene un orden particular. Ni por clave, ni por valor, ni tampoco por el orden en que han sido agregados al diccionario.\n",
        "\n",
        "Cualquier variable de tipo inmutable, puede ser clave de un diccionario: cadenas, enteros, tuplas (con valores inmutables en sus miembros), etc. No hay restricciones para los valores que el diccionario puede contener, cualquier tipo puede ser el valor: listas, cadenas, tuplas, otros diccionarios, objetos...\n",
        "\n",
        "De la misma forma que con listas, es posible definir un diccionario directamente con los miembros que va a contener, o bien inicializar el diccionario vacío y luego agregar los valores de uno en uno o de muchos en muchos.\n",
        "\n",
        "Para definirlo junto con los miembros que va a contener, se encierra el listado de valores entre llaves, las parejas de clave y valor se separan con comas, y la clave y el valor se separan con :."
      ]
    },
    {
      "cell_type": "code",
      "metadata": {
        "id": "w2jVjx_hztDj",
        "colab_type": "code",
        "colab": {}
      },
      "source": [
        "punto = {'x': 2, 'y': 1, 'z': 4}\n",
        "\n",
        "punto"
      ],
      "execution_count": null,
      "outputs": []
    },
    {
      "cell_type": "markdown",
      "metadata": {
        "id": "2vTWNUoJztDm",
        "colab_type": "text"
      },
      "source": [
        "Para declararlo vacío y luego insertar los valores, se lo declara como un par de llaves sin nada en medio, y luego se asignan valores directamente a los índices."
      ]
    },
    {
      "cell_type": "code",
      "metadata": {
        "id": "35yqQeKfztDn",
        "colab_type": "code",
        "colab": {}
      },
      "source": [
        "materias = {}\n",
        "materias[\"lunes\"] = [6103, 7540]\n",
        "materias[\"martes\"] = [6201]\n",
        "materias[\"miercoles\"] = [6103, 7540]\n",
        "materias[\"jueves\"] = []\n",
        "materias[\"viernes\"] = [6201]\n",
        "materias"
      ],
      "execution_count": null,
      "outputs": []
    },
    {
      "cell_type": "markdown",
      "metadata": {
        "id": "LHtdASucztDp",
        "colab_type": "text"
      },
      "source": [
        "Para acceder al valor asociado a una determinada clave, se hace de la misma forma que con las listas, pero utilizando la clave elegida en lugar del índice."
      ]
    },
    {
      "cell_type": "code",
      "metadata": {
        "id": "4kndaibvztDp",
        "colab_type": "code",
        "colab": {}
      },
      "source": [
        "print(materias[\"lunes\"])"
      ],
      "execution_count": null,
      "outputs": []
    },
    {
      "cell_type": "markdown",
      "metadata": {
        "id": "V_9-mZdGztDs",
        "colab_type": "text"
      },
      "source": [
        "### Test de inclusión\n",
        "\n",
        "Si se intenta extraer el valor de una clave que no existe, devolverá un error que abortará la ejecución."
      ]
    },
    {
      "cell_type": "code",
      "metadata": {
        "scrolled": true,
        "id": "poztGiJdztDs",
        "colab_type": "code",
        "colab": {}
      },
      "source": [
        "print(\"Esto genera un error...\")\n",
        "print(materias[\"domingo\"])"
      ],
      "execution_count": null,
      "outputs": []
    },
    {
      "cell_type": "markdown",
      "metadata": {
        "id": "ferkYREaztDu",
        "colab_type": "text"
      },
      "source": [
        "Para evitarlo hay herramientas. Por un lado se puede hacer un test de inclusión para comprobar si está o no está la clave buscada usando la palabra reservada **in** y, por otro lado, se puede utilizar la función **get**, que devuelve el valor *None* si la clave no está en el diccionario, o un valor por omisión que se establece opcionalmente.\n",
        "\n",
        "A continuación se muestras varios ejemplos que ilustran esta situación."
      ]
    },
    {
      "cell_type": "code",
      "metadata": {
        "id": "kFqsQMPIztDu",
        "colab_type": "code",
        "colab": {}
      },
      "source": [
        "print(\"domingo\" in materias)\n",
        "\n",
        "print(materias.get(\"domingo\"))\n",
        "\n",
        "d = {'x': 12, 'y': 7}\n",
        "if 'x' in d:\n",
        "   print(d['x'])   # Imprime 12\n",
        "if 'z' in d:\n",
        "   print(d['z'])   # No se ejecuta\n",
        "if 'y' in d:\n",
        "   print(d['y'])   # Imprime 7"
      ],
      "execution_count": null,
      "outputs": []
    },
    {
      "cell_type": "markdown",
      "metadata": {
        "id": "q9X4xOT8ztDw",
        "colab_type": "text"
      },
      "source": [
        "### Ejemplo de diccionario\n",
        "\n",
        "Retomamos un ejercicio anterior que hacía un cálculo a partir de dos números que se pasaban en una tupla (era la semisuma). Ahora le pasaremos un diccionario para cacular un precio:\n"
      ]
    },
    {
      "cell_type": "code",
      "metadata": {
        "id": "6qTOEtEJztDw",
        "colab_type": "code",
        "colab": {}
      },
      "source": [
        "def calcular(importe, descuento): \n",
        "    return importe - (importe * descuento / 100) \n",
        " \n",
        "datos = {\"descuento\": 10, \"importe\": 1500} \n",
        "print(calcular(**datos))"
      ],
      "execution_count": null,
      "outputs": []
    },
    {
      "cell_type": "markdown",
      "metadata": {
        "id": "olLNZkLEztDy",
        "colab_type": "text"
      },
      "source": [
        "### Recorriendo un diccionario\n",
        "\n",
        "Existen diversas formas de recorrer un diccionario. Es posible recorrer sus claves y usar esas claves para acceder a los valores."
      ]
    },
    {
      "cell_type": "code",
      "metadata": {
        "id": "CqrM9opZztDy",
        "colab_type": "code",
        "colab": {}
      },
      "source": [
        "for dia in materias:\n",
        "   print(dia, \":\", materias[dia])"
      ],
      "execution_count": null,
      "outputs": []
    },
    {
      "cell_type": "markdown",
      "metadata": {
        "id": "4P6g-M--ztDz",
        "colab_type": "text"
      },
      "source": [
        "Es posible, también, obtener los valores como tuplas donde el primer elemento es la clave y el segundo es el valor."
      ]
    },
    {
      "cell_type": "code",
      "metadata": {
        "id": "2Fd5XkjdztD0",
        "colab_type": "code",
        "colab": {}
      },
      "source": [
        "for dia, codigos in materias.items():\n",
        "   print(dia, \":\", codigos)"
      ],
      "execution_count": null,
      "outputs": []
    },
    {
      "cell_type": "markdown",
      "metadata": {
        "id": "LC3EdcNxztD2",
        "colab_type": "text"
      },
      "source": [
        "### Otras operaciones sobre diccionarios\n",
        "\n",
        "Hay muchas más operaciones que se pueden realizar. Destacamos unas cuantas que pueden ser interesantes. Borrar un elemento concreto de un diccionario es simple, basta con usar la función `del`. Se puede recuperar una lista con todas las claves o con todos los valores con los métodos `keys` y `values` respectivamente\n"
      ]
    },
    {
      "cell_type": "code",
      "metadata": {
        "id": "G-_tiIlQztD2",
        "colab_type": "code",
        "colab": {}
      },
      "source": [
        "punto = {'x': 2, 'y': 1, 'z': 4}\n",
        "\n",
        "print(\"Valores:\",list(punto.values()))\n",
        "print(\"Claves:\",list(punto.keys()))\n",
        "\n",
        "del punto['z'] # borro la z\n",
        "print(\"Sin la z:\",punto)"
      ],
      "execution_count": null,
      "outputs": []
    },
    {
      "cell_type": "markdown",
      "metadata": {
        "id": "L5_TkyjHztD5",
        "colab_type": "text"
      },
      "source": [
        "### Para qué se usa un Diccionario?\n",
        "\n",
        "Los diccionarios son una herramienta muy versátil. Se puede utilizar un diccionario, por ejemplo, para contar cuántas apariciones de cada palabra hay en un texto, o cuántas apariciones de cada letra.\n",
        "\n",
        "Es posible utilizar un diccionario, también, para tener una agenda donde la clave es el nombre de la persona, y el valor es una lista con los datos correspondientes a esa persona.\n",
        "\n",
        "También podría utilizarse un diccionario para mantener los datos de los alumnos inscritos en una materia. Siendo la clave el DNI, y el valor una lista con todas las notas asociadas a ese alumno.\n",
        "\n",
        "En general, los diccionarios sirven para crear bases de datos muy simples, en las que la clave es el identificador del elemento, y el valor son todos los datos del elemento a considerar.\n",
        "\n",
        "Otro posible uso de un diccionario sería utilizarlo para realizar traducciones, donde la clave sería la palabra en el idioma original y el valor la palabra en el idioma al que se quiere traducir.\n",
        "\n",
        "No olvidar que:\n",
        "\n",
        "* Los diccionarios (llamados arrays asociativos o tablas hash en otros lenguajes), son una estructura de datos muy poderosa, que permite asociar un valor a una clave.\n",
        "\n",
        "* Las claves deben ser de tipo inmutable, los valores pueden ser de cualquier tipo.\n",
        "\n",
        "* Los diccionarios no están ordenados. Si bien se los puede recorrer, el orden en el que se tomarán los elementos no está determinado.\n",
        "\n",
        "**Ejemplo**: Escribir un función que reciba una lista de tuplas, y que devuelva un diccionario en donde las claves sean los primeros elementos de las tuplas, y los valores los segundos.\n",
        "\n",
        "    tuplas = [ ('Carlos', 18), ('Antonio', 21), ('Rosa', 19) ]\n",
        "    print tuplas_a_diccionario(tuplas)"
      ]
    },
    {
      "cell_type": "code",
      "metadata": {
        "id": "HCMgrwR8ztD5",
        "colab_type": "code",
        "colab": {
          "base_uri": "https://localhost:8080/",
          "height": 34
        },
        "outputId": "ac340d7c-e2aa-4db2-917c-2488a1e0f6c7"
      },
      "source": [
        "def tuplas_a_diccionario(mis_tuplas):\n",
        "    \n",
        "    diccionario = {}\n",
        "    for t in mis_tuplas:\n",
        "        diccionario[t[0]]=t[1] # añado un elemento\n",
        "    return diccionario\n",
        "\n",
        "# este es el programa \"principal\"\n",
        "tuplas = [ ('Carlos', 18), ('Antonio', 21), ('Rosa', 19) ]\n",
        "\n",
        "diccionario = tuplas_a_diccionario(tuplas)\n",
        "print(diccionario)\n"
      ],
      "execution_count": 58,
      "outputs": [
        {
          "output_type": "stream",
          "text": [
            "{'Carlos': 18, 'Antonio': 21, 'Rosa': 19}\n"
          ],
          "name": "stdout"
        }
      ]
    },
    {
      "cell_type": "markdown",
      "metadata": {
        "id": "g19wXn9eztD7",
        "colab_type": "text"
      },
      "source": [
        "## Ejercicios de Diccionarios\n",
        "\n",
        "### Ejercicio 23\n",
        "\n",
        "Escribir una función que reciba una cadena de caracteres y devuelva un diccionario con la fecuencia de cada palabra en la cadena:\n",
        "\n",
        "    \"en la montaña o en la playa\"\n",
        "\n",
        "    {'en': 2, 'la': 2, 'montaña': 1, 'o': 1, 'playa': 1}"
      ]
    },
    {
      "cell_type": "code",
      "metadata": {
        "id": "3maNBtGGztD7",
        "colab_type": "code",
        "colab": {
          "base_uri": "https://localhost:8080/",
          "height": 51
        },
        "outputId": "98ba4d3e-9ab7-43ad-db71-fbc8e6a242d5"
      },
      "source": [
        "def frecuencia_aparicion(texto):\n",
        "  dict = {}\n",
        "  palabras=texto.split(\" \")\n",
        "  for palabra in palabras:\n",
        "\t  if palabra in dict:\n",
        "\t\t  dict[palabra]+=1\n",
        "\t  else:\n",
        "\t\t  dict[palabra]=1\t\n",
        "  return dict\n",
        "\n",
        "frecuencia_aparicion(str(input(\"Introduce frase \")))"
      ],
      "execution_count": 60,
      "outputs": [
        {
          "output_type": "stream",
          "text": [
            "Introduce frase la casa de la pradera\n"
          ],
          "name": "stdout"
        },
        {
          "output_type": "execute_result",
          "data": {
            "text/plain": [
              "{'casa': 1, 'de': 1, 'la': 2, 'pradera': 1}"
            ]
          },
          "metadata": {
            "tags": []
          },
          "execution_count": 60
        }
      ]
    },
    {
      "cell_type": "code",
      "metadata": {
        "id": "377wlJTVztD9",
        "colab_type": "code",
        "colab": {}
      },
      "source": [
        ""
      ],
      "execution_count": null,
      "outputs": []
    },
    {
      "cell_type": "markdown",
      "metadata": {
        "id": "NrFiYHJ_ztEC",
        "colab_type": "text"
      },
      "source": [
        "### Ejercicio 25\n",
        "\n",
        "Escribir una función que cuente la cantidad de apariciones de cada carácter en una cadena de texto, y los devuelva en un diccionario."
      ]
    },
    {
      "cell_type": "code",
      "metadata": {
        "id": "-676ITUwztEC",
        "colab_type": "code",
        "colab": {}
      },
      "source": [
        ""
      ],
      "execution_count": null,
      "outputs": []
    },
    {
      "cell_type": "code",
      "metadata": {
        "colab_type": "code",
        "id": "938vwcfG3h5H",
        "colab": {
          "base_uri": "https://localhost:8080/",
          "height": 255
        },
        "outputId": "f335c988-1472-4150-cecb-321ee4802ce5"
      },
      "source": [
        "def frecuencia_aparicion_caracter(texto):\n",
        "  dict = {}\n",
        "  pos = 0\n",
        "  print(len(texto))\n",
        "  while (pos < len(texto)):\n",
        "    carc = texto[pos]\n",
        "    if carc in dict:\n",
        "      dict[carc]+=1\n",
        "    else:\n",
        "      dict[carc] = 1\n",
        "    pos = pos +1 \t\n",
        "  return dict\n",
        "\n",
        "frecuencia_aparicion_caracter(\"Pepe tiene una casa en la playa\")"
      ],
      "execution_count": 91,
      "outputs": [
        {
          "output_type": "stream",
          "text": [
            "31\n"
          ],
          "name": "stdout"
        },
        {
          "output_type": "execute_result",
          "data": {
            "text/plain": [
              "{' ': 6,\n",
              " 'P': 1,\n",
              " 'a': 6,\n",
              " 'c': 1,\n",
              " 'e': 5,\n",
              " 'i': 1,\n",
              " 'l': 2,\n",
              " 'n': 3,\n",
              " 'p': 2,\n",
              " 's': 1,\n",
              " 't': 1,\n",
              " 'u': 1,\n",
              " 'y': 1}"
            ]
          },
          "metadata": {
            "tags": []
          },
          "execution_count": 91
        }
      ]
    },
    {
      "cell_type": "markdown",
      "metadata": {
        "id": "eeNmxqk1ztEE",
        "colab_type": "text"
      },
      "source": [
        "### Ejercicio 26\n",
        "\n",
        "Escribir una función que reciba un texto y para cada caracter presente en el texto devuelva la cadena más larga en la que se encuentra ese caracter. Utiliza de apoyo un diccionario de { letra : palabra }, para cada letra de la cadena, lleva asociada la cadena más larga que la contiene:\n",
        "\n",
        "    \"En un lugar de la mancha\"\n",
        "\n",
        "    {'a': 'mancha', 'c': 'mancha', 'e': 'en', 'g': 'lugar', 'h': 'mancha', 'm': 'mancha', 'l': 'lugar', \n",
        "     'n': 'mancha', 'r': 'lugar', 'u': 'lugar'}"
      ]
    },
    {
      "cell_type": "code",
      "metadata": {
        "id": "ARGHjYrDDQW7",
        "colab_type": "code",
        "colab": {
          "base_uri": "https://localhost:8080/",
          "height": 255
        },
        "outputId": "73e5006a-1468-4e3b-e553-32ce0ca1f4f7"
      },
      "source": [
        "def search(s):\n",
        "        words = \"La casa de la padrera ea una película bonita\"\n",
        "        matches = [ x for x in words.split() if s and s.strip() in x.strip() ]\n",
        "        if matches:\n",
        "               return sorted(matches, key=len, reverse=True)[0]\n",
        "        return False\n",
        "def frecuencia_aparicion_caracter(texto):\n",
        "  dict = {}\n",
        "  pos = 0\n",
        "  while (pos < len(texto)):\n",
        "    carc = texto[pos]\n",
        "    dict[carc] = search(carc)\n",
        "    pos = pos + 1\n",
        "  return dict\n",
        "\n",
        "frecuencia_aparicion_caracter(\"probando que funciona\")\n",
        "\n",
        "\n",
        "\n",
        "\n",
        "\n"
      ],
      "execution_count": 126,
      "outputs": [
        {
          "output_type": "execute_result",
          "data": {
            "text/plain": [
              "{' ': 'película',\n",
              " 'a': 'película',\n",
              " 'b': 'bonita',\n",
              " 'c': 'película',\n",
              " 'd': 'padrera',\n",
              " 'e': 'película',\n",
              " 'f': False,\n",
              " 'i': 'bonita',\n",
              " 'n': 'bonita',\n",
              " 'o': 'bonita',\n",
              " 'p': 'película',\n",
              " 'q': False,\n",
              " 'r': 'padrera',\n",
              " 'u': 'película'}"
            ]
          },
          "metadata": {
            "tags": []
          },
          "execution_count": 126
        }
      ]
    },
    {
      "cell_type": "markdown",
      "metadata": {
        "id": "S_RJk8EvztEF",
        "colab_type": "text"
      },
      "source": [
        "### Ejercicio 27\n",
        "\n",
        "Modifica el ejercicio anterior y utiliza un diccionario que, para cada letra, tiene asiciada una tupla (palabra, longitud):\n",
        "\n",
        "    \"En un lugar de la mancha\"\n",
        "    \n",
        "    {'a': ('mancha', 6), 'c': ('mancha', 6), 'e': ('en', 2), 'g': ('lugar', 5), 'h': ('mancha', 6), \n",
        "     'm': ('mancha', 6), 'l': ('lugar', 5), 'n': ('mancha', 6), 'r': ('lugar', 5), 'u': ('lugar', 5)}"
      ]
    },
    {
      "cell_type": "code",
      "metadata": {
        "id": "wDPiyGKDztEG",
        "colab_type": "code",
        "colab": {}
      },
      "source": [
        ""
      ],
      "execution_count": null,
      "outputs": []
    },
    {
      "cell_type": "markdown",
      "metadata": {
        "id": "rucPT87d1O7F",
        "colab_type": "text"
      },
      "source": [
        "## Ficheros\n",
        "\n",
        "Es tratamiento de ficheros en python es identico a la mayoría de lenguajes de programación. Tiene instrucciones para abrir y cerrar ficheros, para leer y escribir, distintos modos de apertura...\n",
        "\n",
        "Para leer un fichero de texto basta con abrir y leer. Este código lo ilustra:"
      ]
    },
    {
      "cell_type": "code",
      "metadata": {
        "id": "0LTD1CzI1O7F",
        "colab_type": "code",
        "colab": {
          "base_uri": "https://localhost:8080/",
          "height": 156
        },
        "outputId": "615d932d-5c19-41d6-e616-f30b926f1a76"
      },
      "source": [
        "import os # no es necesario pero para no escribir los directorios cambio al destino\n",
        "\n",
        "os.chdir(\"/content/drive/My Drive/Colab Notebooks/Python1CEATIC\")\n",
        "\n",
        "for linea in open('entradas.txt'):\n",
        "    print(linea)"
      ],
      "execution_count": null,
      "outputs": [
        {
          "output_type": "stream",
          "text": [
            "Felipe 22 Balonmano\n",
            "\n",
            "Antonio 23 Baloncesto\n",
            "\n",
            "matilde 21 Tenis\n",
            "\n",
            "\n",
            "\n"
          ],
          "name": "stdout"
        }
      ]
    },
    {
      "cell_type": "markdown",
      "metadata": {
        "id": "CHEv7dUN1O7J",
        "colab_type": "text"
      },
      "source": [
        "Hemos tratado el fichero como si fuera un iterador de líneas. En realidad puede utilizarse no sólo para leer sino también para escribir y lo que devuelve es un objeto que además de comportarse como un iterador de líneas tiene otros métodos que exponen funcionalidades adicionales. Por lo tanto con *open* además de abrir ficheros de texto para leer, se pueden para abrir ficheros para escribir y para abrir ficheros binarios. El modo en el que deseamos abrir el fichero se especifica en el segundo argumento de open:\n",
        "\n",
        "    f = open('nuevo.txt') #abre un fichero de texto en modo lectura\n",
        "    f = open('nuevo.txt', 'r') #abre un fichero de texto en modo lectura\n",
        "    f = open('nuevo.txt', 'rb') #abre un fichero binario en modo lectura\n",
        "    f = open('nuevo.txt', 'w') #abre un fichero en modo escritura, si existe lo vacía\n",
        "    f = open('nuevo.txt', 'a') #abre un fichero de texto para escribir al final (append). Lo crea si no existe\n",
        "    f = open('nuevo.txt', 'r+') #abre un fichero de texto en modo lectura escritura\n",
        "\n",
        "Para cerrar el fichero basta con llamar al metodo **close()**. \n",
        "\n",
        "### Leer datos\n",
        "\n",
        "Para leer de un fichero se usan los métodos *read*, *readline* y *readlines*. Veamos unos ejemplos:"
      ]
    },
    {
      "cell_type": "code",
      "metadata": {
        "id": "WReNkrto1O7K",
        "colab_type": "code",
        "colab": {
          "base_uri": "https://localhost:8080/",
          "height": 102
        },
        "outputId": "a7fb78f6-a7ff-41ce-d4dc-16471b582fd5"
      },
      "source": [
        "#lee el fichero entero en la variable dato\n",
        "\n",
        "f = open(\"entradas.txt\") #lo abre en modo lectura\n",
        "dato = f.read() #lee todo!!\n",
        "print(dato)\n",
        "f.close()\n"
      ],
      "execution_count": 114,
      "outputs": [
        {
          "output_type": "stream",
          "text": [
            "Felipe 22 Balonmano\n",
            "Antonio 23 Baloncesto\n",
            "Matilde 21 Tenis\n",
            "\n",
            "\n"
          ],
          "name": "stdout"
        }
      ]
    },
    {
      "cell_type": "code",
      "metadata": {
        "id": "jH0p5M701O7O",
        "colab_type": "code",
        "colab": {}
      },
      "source": [
        "#lee 20 bytes del fichero\n",
        "\n",
        "f = open(\"entradas.txt\")\n",
        "dato = f.read(20)\n",
        "print(dato)\n",
        "f.close()\n",
        "\n",
        "#experimenta cambiando ese 20 por 19 y 21"
      ],
      "execution_count": null,
      "outputs": []
    },
    {
      "cell_type": "code",
      "metadata": {
        "id": "lJ-XEHz41O7Q",
        "colab_type": "code",
        "colab": {}
      },
      "source": [
        "#lee 2 líneas del fichero\n",
        "\n",
        "f = open(\"entradas.txt\")\n",
        "linea1 = f.readline()\n",
        "linea2 = f.readline()\n",
        "print(\"1: \",linea1, linea2) #se lee el retorno de carro\n",
        "print(\"2: \",linea1)\n",
        "print(\"3: \",linea2)\n",
        "\n",
        "f.close()"
      ],
      "execution_count": null,
      "outputs": []
    },
    {
      "cell_type": "code",
      "metadata": {
        "id": "w9mD7dGR1O7T",
        "colab_type": "code",
        "colab": {}
      },
      "source": [
        "#lee todas las líneas \n",
        "\n",
        "f = open(\"entradas.txt\", \"r\")\n",
        "for linea in f.readlines():\n",
        "    print(linea)\n",
        "\n",
        "f.close()"
      ],
      "execution_count": null,
      "outputs": []
    },
    {
      "cell_type": "markdown",
      "metadata": {
        "id": "cDPH3EJy1O7V",
        "colab_type": "text"
      },
      "source": [
        "### Cambiar la posición de lectura/escritura\n",
        "\n",
        "Python tiene dos funciones dedicadas al posicionamiento: *tell* y *seek*. \n",
        "\n",
        "El método *tell* devuelve la posición actual de lectura/escritura relativa al comienzo de fichero. Cuando un fichero se abre, *tell*  devuelve 0.\n",
        "\n",
        "El método *seek* coloca la posición donde se le indica como parámetro. la sintaxis es:\n",
        "\n",
        "* `f.seek(n)` : Ir al byte n del fichero\n",
        "* `f.seek(n,0)` : Equivalente al anterior\n",
        "* `f.seek(n,1)` : Desplazarse n bytes a partir de la posición actual del fichero\n",
        "* `f.seek(n,2)` : Situarse n bytes antes del final de fichero.\n",
        "\n"
      ]
    },
    {
      "cell_type": "code",
      "metadata": {
        "id": "NVv5Q8_J1O7W",
        "colab_type": "code",
        "colab": {}
      },
      "source": [
        "#lee 20 bytes del fichero\n",
        "\n",
        "f = open(\"entradas.txt\")\n",
        "dato = f.read(20)\n",
        "print(f.tell())\n",
        "# print dato\n",
        "f.close()"
      ],
      "execution_count": null,
      "outputs": []
    },
    {
      "cell_type": "code",
      "metadata": {
        "id": "if2OOy1V1O7Y",
        "colab_type": "code",
        "colab": {}
      },
      "source": [
        "#lee una línea desde la posición 20 del fichero\n",
        "\n",
        "f = open(\"entradas.txt\",\"r\")\n",
        "f.seek(20) #en este fichero se coloca en la segunda línea\n",
        "linea=f.readline()\n",
        "print(linea)\n",
        "f.close()"
      ],
      "execution_count": null,
      "outputs": []
    },
    {
      "cell_type": "markdown",
      "metadata": {
        "id": "vVk1DoWz1O7a",
        "colab_type": "text"
      },
      "source": [
        "### Escribir datos"
      ]
    },
    {
      "cell_type": "code",
      "metadata": {
        "id": "9luux9DP1O7b",
        "colab_type": "code",
        "colab": {}
      },
      "source": [
        "#crear un fichero y escribe una línea\n",
        "\n",
        "f = open(\"salidas.txt\", \"w\") #si existía el fichero, ha borrado su contenido\n",
        "f.write(\"Con cien cañones por banda\\n\")\n",
        "f.close()\n",
        "#abre el fichero y mira su contenido"
      ],
      "execution_count": null,
      "outputs": []
    },
    {
      "cell_type": "code",
      "metadata": {
        "id": "ARzX1rgH1O7d",
        "colab_type": "code",
        "colab": {}
      },
      "source": [
        "#abre el fichero en modo append y escribe otra línea\n",
        "\n",
        "f = open(\"salidas.txt\", \"a\") #lo abre y se coloca al final para escribir\n",
        "f.write(\"viento en popa a toda vela\\n\")\n",
        "f.close()\n",
        "#abre el fichero y mira su contenido"
      ],
      "execution_count": null,
      "outputs": []
    },
    {
      "cell_type": "code",
      "metadata": {
        "id": "7RqNxlxX1O7f",
        "colab_type": "code",
        "colab": {}
      },
      "source": [
        "#Escribe una línea más al final del fichero\n",
        "\n",
        "f = open(\"salidas.txt\",\"r+\")\n",
        "f.seek(0,2) #colocarse en el final del fichero\n",
        "f.write(\"Una línea más\\n\")\n",
        "f.close()\n",
        "#abre el fichero y mira su contenido"
      ],
      "execution_count": null,
      "outputs": []
    },
    {
      "cell_type": "markdown",
      "metadata": {
        "id": "NiLqtfNJ1O7h",
        "colab_type": "text"
      },
      "source": [
        "## Ejercicios sobre ficheros\n",
        "\n",
        "### Ejercicio 28\n",
        "\n",
        "Imprime por pantalla la longitud de la primera linea del fichero \"entradas.txt\" (sin contar el retorno de carro).\n"
      ]
    },
    {
      "cell_type": "code",
      "metadata": {
        "id": "cgdbQPcN1O7i",
        "colab_type": "code",
        "colab": {
          "base_uri": "https://localhost:8080/",
          "height": 34
        },
        "outputId": "8ce0319c-4264-44ee-9e07-a6b3161d52c6"
      },
      "source": [
        "fd = open(\"entradas.txt\", \"r\")\n",
        "linea = fd.readline()\n",
        "fd.close()\n",
        "print (\"Primera linea:\", len(linea), \"caracteres\")"
      ],
      "execution_count": 108,
      "outputs": [
        {
          "output_type": "stream",
          "text": [
            "Primera linea: 20 caracteres\n"
          ],
          "name": "stdout"
        }
      ]
    },
    {
      "cell_type": "markdown",
      "metadata": {
        "id": "-3e-yOI31O7k",
        "colab_type": "text"
      },
      "source": [
        "### Ejercicio 29\n",
        "\n",
        "Imprime por pantalla el numero de lineas de un fichero cuyo nombre es introducido por el teclado."
      ]
    },
    {
      "cell_type": "code",
      "metadata": {
        "id": "GQlFi7ji1O7l",
        "colab_type": "code",
        "colab": {
          "base_uri": "https://localhost:8080/",
          "height": 51
        },
        "outputId": "8b712bdb-e98f-4cd2-dd29-444711d7b036"
      },
      "source": [
        "fichero = str(input(\"Introduce el nombre del fichero \"))\n",
        "\n",
        "fd = open(fichero, \"r\")\n",
        "nlineas = 0\n",
        "for linea in fd:\n",
        "    nlineas += 1\n",
        "fd.close()\n",
        "print (\"Numero de lineas:\", nlineas)"
      ],
      "execution_count": 109,
      "outputs": [
        {
          "output_type": "stream",
          "text": [
            "Introduce el nombre del fichero entradas.txt\n",
            "Numero de lineas: 4\n"
          ],
          "name": "stdout"
        }
      ]
    },
    {
      "cell_type": "markdown",
      "metadata": {
        "id": "WAxWtSnu1O7n",
        "colab_type": "text"
      },
      "source": [
        "### Ejercicio 30\n",
        "\n",
        "Guardar en otro fichero la suma de todos los número enteros que hay en la primera fila de un fichero."
      ]
    },
    {
      "cell_type": "code",
      "metadata": {
        "id": "v828BiR11O7n",
        "colab_type": "code",
        "colab": {
          "base_uri": "https://localhost:8080/",
          "height": 34
        },
        "outputId": "c55dcaec-3f55-4f4e-b960-4c398b760685"
      },
      "source": [
        "fichero = str(input(\"Introduce el nombre del fichero \"))\n",
        "\n",
        "\n",
        "fd = open(fichero, \"r\")\n",
        "linea = fd.readline()\n",
        "fd.close()\n",
        "numeros = linea.split()\n",
        "fw = open(\"resultado.txt\",\"w\")\n",
        "fw.write(str(numeros))\n",
        "fw.close()"
      ],
      "execution_count": 116,
      "outputs": [
        {
          "output_type": "stream",
          "text": [
            "Introduce el nombre del fichero entradas.txt\n"
          ],
          "name": "stdout"
        }
      ]
    },
    {
      "cell_type": "markdown",
      "metadata": {
        "id": "LW_9l5851O7p",
        "colab_type": "text"
      },
      "source": [
        "### Ejercicio 31\n",
        "\n",
        "Implementa una fución que reciba como parámetro el nombre de un fichero y devuelva su tamaño en bytes."
      ]
    },
    {
      "cell_type": "code",
      "metadata": {
        "id": "eYcQl8J51O7q",
        "colab_type": "code",
        "colab": {
          "base_uri": "https://localhost:8080/",
          "height": 51
        },
        "outputId": "c449bee2-f1d8-4646-a131-eb6396ddd46d"
      },
      "source": [
        "import os\n",
        "\n",
        "\n",
        "def tamano_fichero(fichero):\n",
        "  return os.stat(fichero).st_size\n",
        "\n",
        "fichero = str(input(\"Introduce el nombre del fichero \"))\n",
        "tamano_fichero(fichero)\n"
      ],
      "execution_count": 113,
      "outputs": [
        {
          "output_type": "stream",
          "text": [
            "Introduce el nombre del fichero entradas.txt\n"
          ],
          "name": "stdout"
        },
        {
          "output_type": "execute_result",
          "data": {
            "text/plain": [
              "60"
            ]
          },
          "metadata": {
            "tags": []
          },
          "execution_count": 113
        }
      ]
    },
    {
      "cell_type": "markdown",
      "metadata": {
        "id": "Gze_edZx1O7s",
        "colab_type": "text"
      },
      "source": [
        "### Ejercicio 32\n",
        "\n",
        "Implementa una función que, recibiendo como parámetro el nombre de un fichero, muestre por pantalla su contenido en mayúsculas."
      ]
    },
    {
      "cell_type": "code",
      "metadata": {
        "id": "flFfnzOG1O7s",
        "colab_type": "code",
        "colab": {
          "base_uri": "https://localhost:8080/",
          "height": 187
        },
        "outputId": "f00d5ecd-3ea5-4c6e-96a8-acb5d37ce317"
      },
      "source": [
        "\n",
        "def uppercase_fichero (fichero):\n",
        "\n",
        "  f = open(fichero,\"r\")\n",
        "  for linea in f.readlines():\n",
        "    print(linea.upper())\n",
        "  f.close()\n",
        "  return 1\n",
        "\n",
        "\n",
        "uppercase_fichero(str(input(\"Introduce el fichero \")))\n"
      ],
      "execution_count": 120,
      "outputs": [
        {
          "output_type": "stream",
          "text": [
            "Introduce el fichero entradas.txt\n",
            "FELIPE 22 BALONMANO\n",
            "\n",
            "ANTONIO 23 BALONCESTO\n",
            "\n",
            "MATILDE 21 TENIS\n",
            "\n",
            "\n",
            "\n"
          ],
          "name": "stdout"
        },
        {
          "output_type": "execute_result",
          "data": {
            "text/plain": [
              "1"
            ]
          },
          "metadata": {
            "tags": []
          },
          "execution_count": 120
        }
      ]
    },
    {
      "cell_type": "markdown",
      "metadata": {
        "id": "goRxi7Z71O7v",
        "colab_type": "text"
      },
      "source": [
        "### Ejercicio 33\n",
        "\n",
        "Implementa una función que copie un fichero."
      ]
    },
    {
      "cell_type": "code",
      "metadata": {
        "id": "u5PY-m0K1O7v",
        "colab_type": "code",
        "colab": {
          "base_uri": "https://localhost:8080/",
          "height": 34
        },
        "outputId": "3d99fd5f-ccdd-4df5-9d89-bf0244dc5f8a"
      },
      "source": [
        "import shutil\n",
        "\n",
        "def copy_fichero (origen, destino):\n",
        "  shutil.copy(origen, destino)\n",
        "  return 1\n",
        "\n",
        "\n",
        "copy_fichero(\"entradas.txt\",\"copy_entrada.txt\")"
      ],
      "execution_count": 118,
      "outputs": [
        {
          "output_type": "execute_result",
          "data": {
            "text/plain": [
              "1"
            ]
          },
          "metadata": {
            "tags": []
          },
          "execution_count": 118
        }
      ]
    },
    {
      "cell_type": "markdown",
      "metadata": {
        "id": "fZ5ox-SH1O7x",
        "colab_type": "text"
      },
      "source": [
        "### Ejercicio 34\n",
        "\n",
        "Dado el siguiente fichero de pacientes, se pide copiarlo en otro fichero pero ordenado. para ello, copia la línea de titulos, lee el resto en una lista, ordénala y escribe la lista ordenada en el fichero de salida.\n",
        "\n",
        "Entrada:\n",
        "\n",
        "    Nombre Edad Diabetes\n",
        "    Daniel 22 No\n",
        "    Ana 32 Si\n",
        "    Enrique 31 No\n",
        "    Ismael 29 Si\n",
        "    Isabel 38 No\n",
        "\n",
        "Salida:\n",
        "\n",
        "    Nombre Edad Diabetes\n",
        "    Ana 32 Si\n",
        "    Daniel 22 No\n",
        "    Enrique 31 No\n",
        "    Isabel 38 No\n",
        "    Ismael 29 Si\n"
      ]
    },
    {
      "cell_type": "code",
      "metadata": {
        "id": "fnAzMlUA1O7y",
        "colab_type": "code",
        "colab": {}
      },
      "source": [
        "lineas = list()\n",
        "\n",
        "fichero = \"pacientes.txt\"\n",
        "pos = 0\n",
        "primera_linea = \"\"\n",
        "with open(fichero) as fin:\n",
        "  for line in fin:\n",
        "    if pos == 0:\n",
        "      primera_linea = line\n",
        "      pos+= 1\n",
        "    else:\n",
        "      lineas.append(line)\n",
        "  \n",
        "  lineas.sort()\n",
        "\n",
        "fw = open(\"sort_pacientes.txt\",\"w\")\n",
        "fw.write(primera_linea)\n",
        "for line in lineas:\n",
        "  fw.write(line)\n",
        "fw.close()"
      ],
      "execution_count": 134,
      "outputs": []
    },
    {
      "cell_type": "markdown",
      "metadata": {
        "id": "atTXJJ7E1O70",
        "colab_type": "text"
      },
      "source": [
        "### Ejercicio 35\n",
        "\n",
        "Dado un fichero con el contenido que se muestra a continuación, implementar una función que cree un nuevo fichero con los datos de los pacientes con tengan más de 30 años que no sea diabéticos.\n",
        "\n",
        "Entrada:\n",
        "\n",
        "    Nombre Edad Diabetes\n",
        "    Daniel 22 No\n",
        "    Ana 32 Si\n",
        "    Enrique 31 No\n",
        "    Ismael 29 Si\n",
        "    Isabel 38 No\n",
        "    \n",
        "Salida:\n",
        "\n",
        "    Nombre Edad Diabetes\n",
        "    Enrique 31 No\n",
        "    Isabel 38 No"
      ]
    },
    {
      "cell_type": "code",
      "metadata": {
        "id": "xtMiS5Lk1O70",
        "colab_type": "code",
        "colab": {}
      },
      "source": [
        ""
      ],
      "execution_count": null,
      "outputs": []
    },
    {
      "cell_type": "code",
      "metadata": {
        "colab_type": "code",
        "id": "rCv-wWAEIUpX",
        "colab": {}
      },
      "source": [
        "lineas = list()\n",
        "\n",
        "fichero = \"pacientes.txt\"\n",
        "pos = 0\n",
        "primera_linea = \"\"\n",
        "with open(fichero) as fin:\n",
        "  for line in fin:\n",
        "    if pos == 0:\n",
        "      primera_linea = line\n",
        "      pos+= 1\n",
        "    else:\n",
        "      paciente = line.split(\" \")\n",
        "      diabetes = (str(paciente[2])).lower().strip()\n",
        "      if (int(paciente[1]) > 30 and diabetes == \"no\"):\n",
        "          lineas.append(line)\n",
        "  lineas.sort()\n",
        "\n",
        "fw = open(\"pacientes_no_diabteticos.txt\",\"w\")\n",
        "fw.write(primera_linea)\n",
        "for line in lineas:\n",
        "  fw.write(line)\n",
        "fw.close()\n",
        "\n",
        "  \n",
        "\n"
      ],
      "execution_count": 175,
      "outputs": []
    }
  ]
}